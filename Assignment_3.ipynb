{
 "cells": [
  {
   "cell_type": "markdown",
   "id": "47af9410",
   "metadata": {},
   "source": [
    "## Q1.) Why are functions advantageous to have in  your programs?"
   ]
  },
  {
   "cell_type": "markdown",
   "id": "bbe1273f",
   "metadata": {},
   "source": [
    "Using Functions in our programs make the code readable, easier to understand and easy to call. It helps in breaking down complex code into a structured one and reduces the effort to write the same code again and again. Instead we can define a function and call it whenever we want."
   ]
  },
  {
   "cell_type": "markdown",
   "id": "b947ae1d",
   "metadata": {},
   "source": [
    "## Q2.) When does the code in a function run: when it's specified or when it's called? "
   ]
  },
  {
   "cell_type": "markdown",
   "id": "c18721ef",
   "metadata": {},
   "source": [
    "The code in a function runs when it is called. For example, I have a function addition. I have specified the necessary operation it has to perform when called upon."
   ]
  },
  {
   "cell_type": "code",
   "execution_count": 1,
   "id": "b88ed712",
   "metadata": {},
   "outputs": [],
   "source": [
    "def addition(x,y):\n",
    "    return x+y"
   ]
  },
  {
   "cell_type": "code",
   "execution_count": 2,
   "id": "f6e6b70d",
   "metadata": {},
   "outputs": [
    {
     "data": {
      "text/plain": [
       "9"
      ]
     },
     "execution_count": 2,
     "metadata": {},
     "output_type": "execute_result"
    }
   ],
   "source": [
    "addition(5,4)    #code is running when the function is callled"
   ]
  },
  {
   "cell_type": "markdown",
   "id": "07f7647b",
   "metadata": {},
   "source": [
    "## Q3.) What statement creates a function?\n"
   ]
  },
  {
   "cell_type": "markdown",
   "id": "f457577e",
   "metadata": {},
   "source": [
    "With the help of def statement a function is created. def implies definition."
   ]
  },
  {
   "cell_type": "code",
   "execution_count": 4,
   "id": "8ce3f4b2",
   "metadata": {},
   "outputs": [],
   "source": [
    "def hello():\n",
    "    return \"Hello World!\""
   ]
  },
  {
   "cell_type": "code",
   "execution_count": 5,
   "id": "b7fcd869",
   "metadata": {},
   "outputs": [
    {
     "data": {
      "text/plain": [
       "'Hello World!'"
      ]
     },
     "execution_count": 5,
     "metadata": {},
     "output_type": "execute_result"
    }
   ],
   "source": [
    "hello()"
   ]
  },
  {
   "cell_type": "markdown",
   "id": "cf0eb62f",
   "metadata": {},
   "source": [
    "## Q4.) What is the difference between a function and a function call? "
   ]
  },
  {
   "cell_type": "markdown",
   "id": "6002ef87",
   "metadata": {},
   "source": [
    "A function consists of def statement which defines the function and the code inside the def clause. \n",
    "\n",
    "Whenever we call a function, we are basically triggering the code inside the function to compute and evaluate the return value defined inside that function."
   ]
  },
  {
   "cell_type": "markdown",
   "id": "1bf837c5",
   "metadata": {},
   "source": [
    "## Q5.) How many global scopes are there in a Python programming? How many local scopes? "
   ]
  },
  {
   "cell_type": "markdown",
   "id": "4676be11",
   "metadata": {},
   "source": [
    "There is one global scope and a local scope is created whenever a function is called."
   ]
  },
  {
   "cell_type": "markdown",
   "id": "e6848ed9",
   "metadata": {},
   "source": [
    "## Q6.) What happens to variables in a local scope when the function call returns?\n"
   ]
  },
  {
   "cell_type": "markdown",
   "id": "692bce06",
   "metadata": {},
   "source": [
    "When a function returns, the local scope is destroyed, and all the variables in it are forgotten. "
   ]
  },
  {
   "cell_type": "markdown",
   "id": "68d2330f",
   "metadata": {},
   "source": [
    "## Q7.) What is the concept of a return value? Is it possible to have a return value in an expression?"
   ]
  },
  {
   "cell_type": "markdown",
   "id": "ed0a958e",
   "metadata": {},
   "source": [
    "A return value is the value that a function call evaluates to. Like any value, a return value can be used as a part of an expression."
   ]
  },
  {
   "cell_type": "code",
   "execution_count": 19,
   "id": "c0927e33",
   "metadata": {},
   "outputs": [],
   "source": [
    "def add(x,y):\n",
    "    return x+y    #expression can be used in the return value"
   ]
  },
  {
   "cell_type": "code",
   "execution_count": 20,
   "id": "2f50c480",
   "metadata": {},
   "outputs": [
    {
     "data": {
      "text/plain": [
       "30"
      ]
     },
     "execution_count": 20,
     "metadata": {},
     "output_type": "execute_result"
    }
   ],
   "source": [
    "add(10,20)"
   ]
  },
  {
   "cell_type": "markdown",
   "id": "8c41ab37",
   "metadata": {},
   "source": [
    "## Q8.) If a function does not have a return statement, what is the return value of a call to that function? "
   ]
  },
  {
   "cell_type": "markdown",
   "id": "0668786a",
   "metadata": {},
   "source": [
    "If no return statement appears in a function, control automatically returns to the calling function after the last statement of the called function is executed. In Python for this case, the return value of the called function is None."
   ]
  },
  {
   "cell_type": "markdown",
   "id": "558cb290",
   "metadata": {},
   "source": [
    "## Q9.) How do you make a function variable refer to the global variable? "
   ]
  },
  {
   "cell_type": "markdown",
   "id": "9e026c74",
   "metadata": {},
   "source": [
    "To make a function variable refer to the global variable we use the global keyword."
   ]
  },
  {
   "cell_type": "code",
   "execution_count": 18,
   "id": "f23f7335",
   "metadata": {},
   "outputs": [
    {
     "name": "stdout",
     "output_type": "stream",
     "text": [
      "20\n"
     ]
    }
   ],
   "source": [
    "x=10\n",
    "def myadd():\n",
    "    global x        #referring to the global variable and changing its value\n",
    "    x=20\n",
    "    print(x)\n",
    "\n",
    "myadd()"
   ]
  },
  {
   "cell_type": "markdown",
   "id": "2a63cf95",
   "metadata": {},
   "source": [
    "## Q10.) What is the data type of None? "
   ]
  },
  {
   "cell_type": "markdown",
   "id": "60041c4a",
   "metadata": {},
   "source": [
    "The data type of None is NoneType."
   ]
  },
  {
   "cell_type": "code",
   "execution_count": 7,
   "id": "e34ddac0",
   "metadata": {},
   "outputs": [
    {
     "data": {
      "text/plain": [
       "NoneType"
      ]
     },
     "execution_count": 7,
     "metadata": {},
     "output_type": "execute_result"
    }
   ],
   "source": [
    "type(None)"
   ]
  },
  {
   "cell_type": "markdown",
   "id": "b15f0c59",
   "metadata": {},
   "source": [
    "## Q11.) What does the sentence import areallyyourpetsnamederic do? "
   ]
  },
  {
   "cell_type": "markdown",
   "id": "6b27cfdd",
   "metadata": {},
   "source": [
    "It imports a module named areallyyourpetsnamederic."
   ]
  },
  {
   "cell_type": "markdown",
   "id": "c1a2c7e3",
   "metadata": {},
   "source": [
    "## Q12.) If you had a bacon() feature in a spam module,what would you call it after importing spam? "
   ]
  },
  {
   "cell_type": "markdown",
   "id": "59b3de04",
   "metadata": {},
   "source": [
    "The bacon() will be a function of spam module and we can call it through spam.bacon()."
   ]
  },
  {
   "cell_type": "markdown",
   "id": "01b4c217",
   "metadata": {},
   "source": [
    "## Q13.) What can you do to save a programme from crashing if it encounters an error? "
   ]
  },
  {
   "cell_type": "markdown",
   "id": "5dcb07d6",
   "metadata": {},
   "source": [
    "We can save the programme from crashing if it encounters an error by putting the code in a try clause. With the help of try except clause, we can handle error with the help of Exception Handling."
   ]
  },
  {
   "cell_type": "markdown",
   "id": "e395e85d",
   "metadata": {},
   "source": [
    "## Q14.) What is the purpose of the try clause? What is the purpose of the except clause? "
   ]
  },
  {
   "cell_type": "markdown",
   "id": "5a2d9f77",
   "metadata": {},
   "source": [
    "Try Clause :- The code that could potentially cause an error is passed inside the try clause.\n",
    "\n",
    "Except Clause :- If an error happens when the code is executed , it goes inside the except clause. This blocks lets you handle the errors."
   ]
  },
  {
   "cell_type": "code",
   "execution_count": 12,
   "id": "67240125",
   "metadata": {},
   "outputs": [],
   "source": [
    "def divide(x,y):\n",
    "    try:\n",
    "        result = x/y\n",
    "        print(\"Your answer is,\",result)\n",
    "    except Exception as e:\n",
    "        print(e)\n",
    "        "
   ]
  },
  {
   "cell_type": "code",
   "execution_count": 13,
   "id": "e49fb8da",
   "metadata": {},
   "outputs": [
    {
     "name": "stdout",
     "output_type": "stream",
     "text": [
      "division by zero\n"
     ]
    }
   ],
   "source": [
    "divide(5,0)"
   ]
  },
  {
   "cell_type": "code",
   "execution_count": null,
   "id": "755d6e02",
   "metadata": {},
   "outputs": [],
   "source": []
  }
 ],
 "metadata": {
  "kernelspec": {
   "display_name": "Python 3 (ipykernel)",
   "language": "python",
   "name": "python3"
  },
  "language_info": {
   "codemirror_mode": {
    "name": "ipython",
    "version": 3
   },
   "file_extension": ".py",
   "mimetype": "text/x-python",
   "name": "python",
   "nbconvert_exporter": "python",
   "pygments_lexer": "ipython3",
   "version": "3.11.4"
  }
 },
 "nbformat": 4,
 "nbformat_minor": 5
}
