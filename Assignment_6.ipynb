{
 "cells": [
  {
   "cell_type": "markdown",
   "id": "d4eb0aa1",
   "metadata": {},
   "source": [
    "## Q.1) What are keywords in python? Using the keyword library, print all the python keywords. "
   ]
  },
  {
   "cell_type": "markdown",
   "id": "373ca229",
   "metadata": {},
   "source": [
    "Keywords are reserved words in Python that cannot be used as an ordinary identifier. They have their own functionality and are used to define the syntax and structure of the Python language."
   ]
  },
  {
   "cell_type": "code",
   "execution_count": 2,
   "id": "1fa229e4",
   "metadata": {},
   "outputs": [
    {
     "name": "stdout",
     "output_type": "stream",
     "text": [
      "['False', 'None', 'True', 'and', 'as', 'assert', 'async', 'await', 'break', 'class', 'continue', 'def', 'del', 'elif', 'else', 'except', 'finally', 'for', 'from', 'global', 'if', 'import', 'in', 'is', 'lambda', 'nonlocal', 'not', 'or', 'pass', 'raise', 'return', 'try', 'while', 'with', 'yield']\n"
     ]
    }
   ],
   "source": [
    "import keyword\n",
    "print(keyword.kwlist)"
   ]
  },
  {
   "cell_type": "markdown",
   "id": "026d4f5a",
   "metadata": {},
   "source": [
    "## Q2.) What are the rules to create variables in python?"
   ]
  },
  {
   "cell_type": "markdown",
   "id": "34dae168",
   "metadata": {},
   "source": [
    "Variable is a named location used to store data. The rules to create variables in Python are :-\n",
    "\n",
    "1.) It can be a combination of lowercase letters (a to z), uppercase letters (A to Z), digits (0 to 9) or an underscore (_).\n",
    "\n",
    "2.) A variable name should not start with a number, it can start with letters or underscore.\n",
    "\n",
    "3.) Variable name cannot have special characters such as !,@,#,$ etc.\n",
    "\n",
    "4.) Python keywords cannot be used as variable name."
   ]
  },
  {
   "cell_type": "markdown",
   "id": "bf3749fe",
   "metadata": {},
   "source": [
    "## Q3.) What are the standards and conventions followed for the nomenclature of variables in python to improve code readability and maintainability? "
   ]
  },
  {
   "cell_type": "markdown",
   "id": "a29188dd",
   "metadata": {},
   "source": [
    "## Q4.) What will happen if a keyword is used as a variable name? "
   ]
  },
  {
   "cell_type": "markdown",
   "id": "10df5dd5",
   "metadata": {},
   "source": [
    "If a keyword is used as a variable name, then it will throw a SyntaxError because as per the naming convention, Python keywords cannot be used as a variable name."
   ]
  },
  {
   "cell_type": "code",
   "execution_count": 4,
   "id": "48758aa3",
   "metadata": {},
   "outputs": [
    {
     "ename": "SyntaxError",
     "evalue": "invalid syntax (4038866737.py, line 1)",
     "output_type": "error",
     "traceback": [
      "\u001b[1;36m  Cell \u001b[1;32mIn[4], line 1\u001b[1;36m\u001b[0m\n\u001b[1;33m    return = 7\u001b[0m\n\u001b[1;37m           ^\u001b[0m\n\u001b[1;31mSyntaxError\u001b[0m\u001b[1;31m:\u001b[0m invalid syntax\n"
     ]
    }
   ],
   "source": [
    "return = 7\n",
    "print(return)"
   ]
  },
  {
   "cell_type": "markdown",
   "id": "b78446f7",
   "metadata": {},
   "source": [
    "## Q5.)  For what purpose def keyword is used?"
   ]
  },
  {
   "cell_type": "markdown",
   "id": "2863bf27",
   "metadata": {},
   "source": [
    "def keyword stands for definition which is used for defining a function and creating them. For eg. I have defined a function add() to add two numbers the user passes into it."
   ]
  },
  {
   "cell_type": "code",
   "execution_count": 5,
   "id": "19b9a8ed",
   "metadata": {},
   "outputs": [],
   "source": [
    "def add(x,y):\n",
    "    return x+y"
   ]
  },
  {
   "cell_type": "code",
   "execution_count": 6,
   "id": "222cc230",
   "metadata": {},
   "outputs": [
    {
     "data": {
      "text/plain": [
       "20"
      ]
     },
     "execution_count": 6,
     "metadata": {},
     "output_type": "execute_result"
    }
   ],
   "source": [
    "add(10,10)"
   ]
  },
  {
   "cell_type": "markdown",
   "id": "f2b5754d",
   "metadata": {},
   "source": [
    "## Q6.) What is the operation of this special character ‘\\’? "
   ]
  },
  {
   "cell_type": "markdown",
   "id": "e758e42d",
   "metadata": {},
   "source": [
    "The backslash character ('\\') is used to indicate special forms or to allow special characters to be used without invoking their special meaning. Like, meaning of \"\\n\" is newline, meaning of \"\\t\" is tab."
   ]
  },
  {
   "cell_type": "code",
   "execution_count": 8,
   "id": "b940fef2",
   "metadata": {},
   "outputs": [
    {
     "name": "stdout",
     "output_type": "stream",
     "text": [
      " Hi\n",
      " my name is\n",
      " Mimansha\n"
     ]
    }
   ],
   "source": [
    "print(\" Hi\\n my name is\\n Mimansha\")"
   ]
  },
  {
   "cell_type": "markdown",
   "id": "4ee9da92",
   "metadata": {},
   "source": [
    "## Q7.)  Give an example of the following conditions:\n",
    "## (i) Homogeneous list\n",
    "## (ii) Heterogeneous set\n",
    "## (iii) Homogeneous tuple"
   ]
  },
  {
   "cell_type": "code",
   "execution_count": 9,
   "id": "81731e99",
   "metadata": {},
   "outputs": [],
   "source": [
    "# HOMOGENEOUS LIST consists of elements of same data type in a list\n",
    "\n",
    "list1=[\"Paris\",\"Tokyo\",\"Seoul\",\"New Delhi\"]  # this list consists of elements of string data type"
   ]
  },
  {
   "cell_type": "code",
   "execution_count": 11,
   "id": "2540d0a7",
   "metadata": {},
   "outputs": [],
   "source": [
    "# HOTEROGENEOUS LIST consists of elements of different data type in a list\n",
    "\n",
    "list2=[\"Paris\",1,5.25,True]  "
   ]
  },
  {
   "cell_type": "code",
   "execution_count": 12,
   "id": "5216bf15",
   "metadata": {},
   "outputs": [],
   "source": [
    "# HOMOGENEOUS TUPLE consists of elements of same data type in a tuple\n",
    "\n",
    "tup1=(1,2,3,4,5)"
   ]
  },
  {
   "cell_type": "markdown",
   "id": "dac18be6",
   "metadata": {},
   "source": [
    "## Q8.) Explain the mutable and immutable data types with proper explanation & examples. "
   ]
  },
  {
   "cell_type": "markdown",
   "id": "b9fad658",
   "metadata": {},
   "source": [
    "Mutable means that can be modified or altered. These data types values can be easily altered with the help of different operations. Mutable data types are Lists, Dictionary.\n",
    "\n",
    "While Immutable means that cannot be modified or altered. These data types values cannot be easily altered once created or defined. Immutable data type are Tuples, Strings, Integer.\n",
    "\n",
    "Sets once defined in Python, the elements can be added or removed, but we can't modify the elements present inside sets.\n",
    "\n",
    "Let us understand this with the help of examples."
   ]
  },
  {
   "cell_type": "code",
   "execution_count": 13,
   "id": "36586ee7",
   "metadata": {},
   "outputs": [
    {
     "name": "stdout",
     "output_type": "stream",
     "text": [
      "['Wellington', 'Seoul', 'New Delhi', 'New York']\n"
     ]
    }
   ],
   "source": [
    "# Example of Mutable Data Type\n",
    "\n",
    "list1=[\"Paris\",\"Tokyo\",\"Seoul\",\"New Delhi\"]\n",
    "list1.append(\"New York\")\n",
    "list1[0]=\"Wellington\"\n",
    "list1.pop(1)\n",
    "print(list1)"
   ]
  },
  {
   "cell_type": "code",
   "execution_count": 14,
   "id": "55c3d574",
   "metadata": {},
   "outputs": [
    {
     "ename": "AttributeError",
     "evalue": "'tuple' object has no attribute 'append'",
     "output_type": "error",
     "traceback": [
      "\u001b[1;31m---------------------------------------------------------------------------\u001b[0m",
      "\u001b[1;31mAttributeError\u001b[0m                            Traceback (most recent call last)",
      "Cell \u001b[1;32mIn[14], line 4\u001b[0m\n\u001b[0;32m      1\u001b[0m \u001b[38;5;66;03m# Example of Immutable Data Type\u001b[39;00m\n\u001b[0;32m      3\u001b[0m tup1\u001b[38;5;241m=\u001b[39m(\u001b[38;5;241m1\u001b[39m,\u001b[38;5;241m2\u001b[39m,\u001b[38;5;241m3\u001b[39m,\u001b[38;5;241m4\u001b[39m,\u001b[38;5;241m5\u001b[39m)\n\u001b[1;32m----> 4\u001b[0m tup1\u001b[38;5;241m.\u001b[39mappend(\u001b[38;5;241m6\u001b[39m)\n",
      "\u001b[1;31mAttributeError\u001b[0m: 'tuple' object has no attribute 'append'"
     ]
    }
   ],
   "source": [
    "# Example of Immutable Data Type\n",
    "\n",
    "# Tuple has only two functions count and index\n",
    "\n",
    "tup1=(1,2,3,4,5)\n",
    "tup1.append(6)"
   ]
  },
  {
   "cell_type": "code",
   "execution_count": 15,
   "id": "97142e7a",
   "metadata": {},
   "outputs": [
    {
     "ename": "TypeError",
     "evalue": "'str' object does not support item assignment",
     "output_type": "error",
     "traceback": [
      "\u001b[1;31m---------------------------------------------------------------------------\u001b[0m",
      "\u001b[1;31mTypeError\u001b[0m                                 Traceback (most recent call last)",
      "Cell \u001b[1;32mIn[15], line 2\u001b[0m\n\u001b[0;32m      1\u001b[0m a\u001b[38;5;241m=\u001b[39m\u001b[38;5;124m\"\u001b[39m\u001b[38;5;124mBeautiful\u001b[39m\u001b[38;5;124m\"\u001b[39m\n\u001b[1;32m----> 2\u001b[0m a[\u001b[38;5;241m0\u001b[39m]\u001b[38;5;241m=\u001b[39m\u001b[38;5;124m\"\u001b[39m\u001b[38;5;124mC\u001b[39m\u001b[38;5;124m\"\u001b[39m\n\u001b[0;32m      3\u001b[0m \u001b[38;5;28mprint\u001b[39m(a)\n",
      "\u001b[1;31mTypeError\u001b[0m: 'str' object does not support item assignment"
     ]
    }
   ],
   "source": [
    "a=\"Beautiful\"\n",
    "a[0]=\"C\"\n",
    "print(a)"
   ]
  },
  {
   "cell_type": "markdown",
   "id": "c6096843",
   "metadata": {},
   "source": [
    "## Q9.) Write a code to create the given structure using only for loop.\n",
    "##     *\n",
    "##    ***\n",
    "##   *****\n",
    "##  *******\n",
    "## *********"
   ]
  },
  {
   "cell_type": "code",
   "execution_count": 21,
   "id": "9f309a8f",
   "metadata": {},
   "outputs": [
    {
     "name": "stdout",
     "output_type": "stream",
     "text": [
      "Enter number of rows: 5\n",
      "        * \n",
      "      * * * \n",
      "    * * * * * \n",
      "  * * * * * * * \n",
      "* * * * * * * * * \n"
     ]
    }
   ],
   "source": [
    "rows = int(input(\"Enter number of rows: \"))\n",
    "\n",
    "k = 0\n",
    "\n",
    "for i in range(1, rows+1):\n",
    "    for space in range(1, (rows-i)+1):       # defining space for the pyramid pattern\n",
    "        print(end=\"  \")\n",
    "    for j in range(1, i+1):                  \n",
    "        while k!=(2*i-1):                   # for printing stars in the odd number system 1,3,5,7,9\n",
    "            print(\"* \",end=\"\")\n",
    "            k+=1\n",
    "          \n",
    "    k = 0\n",
    "    print()"
   ]
  },
  {
   "cell_type": "markdown",
   "id": "04cfa747",
   "metadata": {},
   "source": [
    "## Q10.) Write a code to create the given structure using while loop.\n",
    "|||||||||\n",
    " |||||||\n",
    "  |||||\n",
    "   |||\n",
    "    | "
   ]
  },
  {
   "cell_type": "code",
   "execution_count": 27,
   "id": "e10ea6f5",
   "metadata": {},
   "outputs": [
    {
     "name": "stdout",
     "output_type": "stream",
     "text": [
      "Enter the number of rows: 5\n",
      " |||||||||\n",
      "  |||||||\n",
      "   |||||\n",
      "    |||\n",
      "     |\n"
     ]
    }
   ],
   "source": [
    "n = int(input('Enter the number of rows: '))\n",
    "\n",
    "i = n\n",
    "while i>=1:\n",
    "      # printing stars\n",
    "      print(\" \"*((n-i)+1) + \"|\" * (2*i-1))\n",
    "      i-=1 \n"
   ]
  },
  {
   "cell_type": "code",
   "execution_count": null,
   "id": "196cdc46",
   "metadata": {},
   "outputs": [],
   "source": [
    "n = int(input(\"Enter the number of rows : \"))\n",
    "\n",
    "# initialize count of spaces\n",
    "count = 0\n",
    "\n",
    "while n >= 1:\n",
    "number = 1\n",
    "while number <= line:\n",
    "    print(number, end = '')\n",
    "    number = number + 1\n",
    "line = line - 1\n",
    "print('')"
   ]
  },
  {
   "cell_type": "code",
   "execution_count": null,
   "id": "81fc6e82",
   "metadata": {},
   "outputs": [],
   "source": [
    "line = 5\n",
    "while line >= 1:\n",
    "number = 1\n",
    "while number <= line:\n",
    "    print(number, end = '')\n",
    "    number = number + 1\n",
    "line = line - 1\n",
    "print('')"
   ]
  },
  {
   "cell_type": "code",
   "execution_count": null,
   "id": "4e8be5ac",
   "metadata": {},
   "outputs": [],
   "source": []
  }
 ],
 "metadata": {
  "kernelspec": {
   "display_name": "Python 3 (ipykernel)",
   "language": "python",
   "name": "python3"
  },
  "language_info": {
   "codemirror_mode": {
    "name": "ipython",
    "version": 3
   },
   "file_extension": ".py",
   "mimetype": "text/x-python",
   "name": "python",
   "nbconvert_exporter": "python",
   "pygments_lexer": "ipython3",
   "version": "3.11.4"
  }
 },
 "nbformat": 4,
 "nbformat_minor": 5
}
