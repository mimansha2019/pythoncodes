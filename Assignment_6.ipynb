{
 "cells": [
  {
   "cell_type": "markdown",
   "id": "c4d39035",
   "metadata": {},
   "source": [
    "## Q.1) What are keywords in python? Using the keyword library, print all the python keywords. "
   ]
  },
  {
   "cell_type": "markdown",
   "id": "b7c2d50d",
   "metadata": {},
   "source": [
    "Keywords are reserved words in Python that cannot be used as an ordinary identifier. They have their own functionality and are used to define the syntax and structure of the Python language."
   ]
  },
  {
   "cell_type": "code",
   "execution_count": 2,
   "id": "d302fa52",
   "metadata": {},
   "outputs": [
    {
     "name": "stdout",
     "output_type": "stream",
     "text": [
      "['False', 'None', 'True', 'and', 'as', 'assert', 'async', 'await', 'break', 'class', 'continue', 'def', 'del', 'elif', 'else', 'except', 'finally', 'for', 'from', 'global', 'if', 'import', 'in', 'is', 'lambda', 'nonlocal', 'not', 'or', 'pass', 'raise', 'return', 'try', 'while', 'with', 'yield']\n"
     ]
    }
   ],
   "source": [
    "import keyword\n",
    "print(keyword.kwlist)"
   ]
  },
  {
   "cell_type": "markdown",
   "id": "dc760e74",
   "metadata": {},
   "source": [
    "## Q2.) What are the rules to create variables in python?"
   ]
  },
  {
   "cell_type": "markdown",
   "id": "dd36f6e0",
   "metadata": {},
   "source": [
    "Variable is a named location used to store data. The rules to create variables in Python are :-\n",
    "\n",
    "1.) It can be a combination of lowercase letters (a to z), uppercase letters (A to Z), digits (0 to 9) or an underscore (_).\n",
    "\n",
    "2.) A variable name should not start with a number, it can start with letters or underscore.\n",
    "\n",
    "3.) Variable name cannot have special characters such as !,@,#,$ etc.\n",
    "\n",
    "4.) Python keywords cannot be used as variable name."
   ]
  },
  {
   "cell_type": "markdown",
   "id": "297506df",
   "metadata": {},
   "source": [
    "## Q3.) What are the standards and conventions followed for the nomenclature of variables in python to improve code readability and maintainability? "
   ]
  },
  {
   "cell_type": "markdown",
   "id": "8e573e92",
   "metadata": {},
   "source": [
    "1.) Use meaningful names :- Meaningful and descriptive name makes your code self-explanatory and help other developers understand it effortlessly. For example, if we have to keep the value of list in a variable, we can use mylist to define the variable name instead of using other alphabets like 'a' etc.\n",
    "\n",
    "2.) Be consistent with your naming conventions :- it is important to be consistent within your codebase. For example, if you choose to use lowercase_with_underscores for all of your variable names, then you should stick to that convention throughout your code. For example, my_function.\n",
    "\n",
    "3.) Avoid using numbers in the start :- Using numbers at the start of naming a variable can lead to error. You should always start your variable name either from letters or an underscore. For example, '1list' is not correct instead use 'list1'.\n",
    "\n",
    "4.) Naming Convention Consistency :- Python offers various naming styles, such as lowercase, lowercase with underscores, CamelCase, and ALL_CAPS. It is crucial to choose a naming style that aligns with your project’s conventions and stick to it consistently. For variables, use lowercase with underscores (my_tuple).\n"
   ]
  },
  {
   "cell_type": "markdown",
   "id": "60408491",
   "metadata": {},
   "source": [
    "## Q4.) What will happen if a keyword is used as a variable name? "
   ]
  },
  {
   "cell_type": "markdown",
   "id": "94ec5f58",
   "metadata": {},
   "source": [
    "If a keyword is used as a variable name, then it will throw a SyntaxError because as per the naming convention, Python keywords cannot be used as a variable name."
   ]
  },
  {
   "cell_type": "code",
   "execution_count": 4,
   "id": "b2f45b40",
   "metadata": {},
   "outputs": [
    {
     "ename": "SyntaxError",
     "evalue": "invalid syntax (4038866737.py, line 1)",
     "output_type": "error",
     "traceback": [
      "\u001b[1;36m  Cell \u001b[1;32mIn[4], line 1\u001b[1;36m\u001b[0m\n\u001b[1;33m    return = 7\u001b[0m\n\u001b[1;37m           ^\u001b[0m\n\u001b[1;31mSyntaxError\u001b[0m\u001b[1;31m:\u001b[0m invalid syntax\n"
     ]
    }
   ],
   "source": [
    "return = 7\n",
    "print(return)"
   ]
  },
  {
   "cell_type": "markdown",
   "id": "629c9fa0",
   "metadata": {},
   "source": [
    "## Q5.)  For what purpose def keyword is used?"
   ]
  },
  {
   "cell_type": "markdown",
   "id": "973881ed",
   "metadata": {},
   "source": [
    "def keyword stands for definition which is used for defining a function and creating them. For eg. I have defined a function add() to add two numbers the user passes into it."
   ]
  },
  {
   "cell_type": "code",
   "execution_count": 5,
   "id": "f0c96f6f",
   "metadata": {},
   "outputs": [],
   "source": [
    "def add(x,y):\n",
    "    return x+y"
   ]
  },
  {
   "cell_type": "code",
   "execution_count": 6,
   "id": "a7832d6e",
   "metadata": {},
   "outputs": [
    {
     "data": {
      "text/plain": [
       "20"
      ]
     },
     "execution_count": 6,
     "metadata": {},
     "output_type": "execute_result"
    }
   ],
   "source": [
    "add(10,10)"
   ]
  },
  {
   "cell_type": "markdown",
   "id": "41508c06",
   "metadata": {},
   "source": [
    "## Q6.) What is the operation of this special character ‘\\’? "
   ]
  },
  {
   "cell_type": "markdown",
   "id": "40c345b3",
   "metadata": {},
   "source": [
    "The backslash character ('\\') is used to indicate special forms or to allow special characters to be used without invoking their special meaning. Like, meaning of \"\\n\" is newline, meaning of \"\\t\" is tab."
   ]
  },
  {
   "cell_type": "code",
   "execution_count": 8,
   "id": "0af04f7f",
   "metadata": {},
   "outputs": [
    {
     "name": "stdout",
     "output_type": "stream",
     "text": [
      " Hi\n",
      " my name is\n",
      " Mimansha\n"
     ]
    }
   ],
   "source": [
    "print(\" Hi\\n my name is\\n Mimansha\")"
   ]
  },
  {
   "cell_type": "markdown",
   "id": "31e5bde7",
   "metadata": {},
   "source": [
    "## Q7.)  Give an example of the following conditions:\n",
    "## (i) Homogeneous list\n",
    "## (ii) Heterogeneous set\n",
    "## (iii) Homogeneous tuple"
   ]
  },
  {
   "cell_type": "code",
   "execution_count": 9,
   "id": "df9783c4",
   "metadata": {},
   "outputs": [],
   "source": [
    "# HOMOGENEOUS LIST consists of elements of same data type in a list\n",
    "\n",
    "list1=[\"Paris\",\"Tokyo\",\"Seoul\",\"New Delhi\"]  # this list consists of elements of string data type"
   ]
  },
  {
   "cell_type": "code",
   "execution_count": 11,
   "id": "743172a2",
   "metadata": {},
   "outputs": [],
   "source": [
    "# HOTEROGENEOUS LIST consists of elements of different data type in a list\n",
    "\n",
    "list2=[\"Paris\",1,5.25,True]  "
   ]
  },
  {
   "cell_type": "code",
   "execution_count": 12,
   "id": "b3b391ea",
   "metadata": {},
   "outputs": [],
   "source": [
    "# HOMOGENEOUS TUPLE consists of elements of same data type in a tuple\n",
    "\n",
    "tuple1=(1,2,3,4,5)"
   ]
  },
  {
   "cell_type": "markdown",
   "id": "c42b0cf3",
   "metadata": {},
   "source": [
    "## Q8.) Explain the mutable and immutable data types with proper explanation & examples. "
   ]
  },
  {
   "cell_type": "markdown",
   "id": "e022f11c",
   "metadata": {},
   "source": [
    "Mutable means that can be modified or altered. These data types values can be easily altered with the help of different operations. Mutable data types are Lists, Dictionary.\n",
    "\n",
    "While Immutable means that cannot be modified or altered. These data types values cannot be easily altered once created or defined. Immutable data type are Tuples, Strings, Integer.\n",
    "\n",
    "Sets once defined in Python, the elements can be added or removed, but we can't modify the elements present inside sets.\n",
    "\n",
    "Let us understand this with the help of examples."
   ]
  },
  {
   "cell_type": "code",
   "execution_count": 13,
   "id": "7cf696ba",
   "metadata": {},
   "outputs": [
    {
     "name": "stdout",
     "output_type": "stream",
     "text": [
      "['Wellington', 'Seoul', 'New Delhi', 'New York']\n"
     ]
    }
   ],
   "source": [
    "# Example of Mutable Data Type\n",
    "\n",
    "list1=[\"Paris\",\"Tokyo\",\"Seoul\",\"New Delhi\"]\n",
    "list1.append(\"New York\")\n",
    "list1[0]=\"Wellington\"\n",
    "list1.pop(1)\n",
    "print(list1)"
   ]
  },
  {
   "cell_type": "code",
   "execution_count": 14,
   "id": "3dd7f6e4",
   "metadata": {},
   "outputs": [
    {
     "ename": "AttributeError",
     "evalue": "'tuple' object has no attribute 'append'",
     "output_type": "error",
     "traceback": [
      "\u001b[1;31m---------------------------------------------------------------------------\u001b[0m",
      "\u001b[1;31mAttributeError\u001b[0m                            Traceback (most recent call last)",
      "Cell \u001b[1;32mIn[14], line 4\u001b[0m\n\u001b[0;32m      1\u001b[0m \u001b[38;5;66;03m# Example of Immutable Data Type\u001b[39;00m\n\u001b[0;32m      3\u001b[0m tup1\u001b[38;5;241m=\u001b[39m(\u001b[38;5;241m1\u001b[39m,\u001b[38;5;241m2\u001b[39m,\u001b[38;5;241m3\u001b[39m,\u001b[38;5;241m4\u001b[39m,\u001b[38;5;241m5\u001b[39m)\n\u001b[1;32m----> 4\u001b[0m tup1\u001b[38;5;241m.\u001b[39mappend(\u001b[38;5;241m6\u001b[39m)\n",
      "\u001b[1;31mAttributeError\u001b[0m: 'tuple' object has no attribute 'append'"
     ]
    }
   ],
   "source": [
    "# Example of Immutable Data Type\n",
    "\n",
    "# Tuple has only two functions count and index\n",
    "\n",
    "tuple1=(1,2,3,4,5)\n",
    "tuple1.append(6)"
   ]
  },
  {
   "cell_type": "code",
   "execution_count": 15,
   "id": "0e26f9c7",
   "metadata": {},
   "outputs": [
    {
     "ename": "TypeError",
     "evalue": "'str' object does not support item assignment",
     "output_type": "error",
     "traceback": [
      "\u001b[1;31m---------------------------------------------------------------------------\u001b[0m",
      "\u001b[1;31mTypeError\u001b[0m                                 Traceback (most recent call last)",
      "Cell \u001b[1;32mIn[15], line 2\u001b[0m\n\u001b[0;32m      1\u001b[0m a\u001b[38;5;241m=\u001b[39m\u001b[38;5;124m\"\u001b[39m\u001b[38;5;124mBeautiful\u001b[39m\u001b[38;5;124m\"\u001b[39m\n\u001b[1;32m----> 2\u001b[0m a[\u001b[38;5;241m0\u001b[39m]\u001b[38;5;241m=\u001b[39m\u001b[38;5;124m\"\u001b[39m\u001b[38;5;124mC\u001b[39m\u001b[38;5;124m\"\u001b[39m\n\u001b[0;32m      3\u001b[0m \u001b[38;5;28mprint\u001b[39m(a)\n",
      "\u001b[1;31mTypeError\u001b[0m: 'str' object does not support item assignment"
     ]
    }
   ],
   "source": [
    "str_value=\"Beautiful\"\n",
    "str_value[0]=\"C\"\n",
    "print(str_value)"
   ]
  },
  {
   "cell_type": "markdown",
   "id": "11da55d4",
   "metadata": {},
   "source": [
    "## Q9.) Write a code to create the given structure using only for loop."
   ]
  },
  {
   "cell_type": "code",
   "execution_count": 28,
   "id": "719a18dc",
   "metadata": {},
   "outputs": [],
   "source": [
    "##     *\n",
    "##    ***\n",
    "##   *****\n",
    "##  *******\n",
    "## *********"
   ]
  },
  {
   "cell_type": "code",
   "execution_count": 21,
   "id": "ea72c955",
   "metadata": {},
   "outputs": [
    {
     "name": "stdout",
     "output_type": "stream",
     "text": [
      "Enter number of rows: 5\n",
      "        * \n",
      "      * * * \n",
      "    * * * * * \n",
      "  * * * * * * * \n",
      "* * * * * * * * * \n"
     ]
    }
   ],
   "source": [
    "rows = int(input(\"Enter number of rows: \"))\n",
    "\n",
    "k = 0\n",
    "\n",
    "for i in range(1, rows+1):\n",
    "    for space in range(1, (rows-i)+1):       # defining space for the pyramid pattern\n",
    "        print(end=\"  \")\n",
    "    for j in range(1, i+1):                  \n",
    "        while k!=(2*i-1):                   # for printing stars in the odd number system 1,3,5,7,9\n",
    "            print(\"* \",end=\"\")\n",
    "            k+=1\n",
    "          \n",
    "    k = 0\n",
    "    print()"
   ]
  },
  {
   "cell_type": "markdown",
   "id": "179a1571",
   "metadata": {},
   "source": [
    "## Q10.) Write a code to create the given structure using while loop."
   ]
  },
  {
   "cell_type": "code",
   "execution_count": null,
   "id": "cf77aae9",
   "metadata": {},
   "outputs": [],
   "source": [
    "|||||||||\n",
    " |||||||\n",
    "  |||||\n",
    "   |||\n",
    "    | "
   ]
  },
  {
   "cell_type": "code",
   "execution_count": 27,
   "id": "3ed25084",
   "metadata": {},
   "outputs": [
    {
     "name": "stdout",
     "output_type": "stream",
     "text": [
      "Enter the number of rows: 5\n",
      " |||||||||\n",
      "  |||||||\n",
      "   |||||\n",
      "    |||\n",
      "     |\n"
     ]
    }
   ],
   "source": [
    "n = int(input('Enter the number of rows: '))\n",
    "\n",
    "i = n\n",
    "while i>=1:\n",
    "    print(\" \"*((n-i)+1) + \"|\" * (2*i-1))   # Printing \"|\" with the spaces \n",
    "    i-=1 \n"
   ]
  },
  {
   "cell_type": "code",
   "execution_count": null,
   "id": "9ee7e851",
   "metadata": {},
   "outputs": [],
   "source": []
  }
 ],
 "metadata": {
  "kernelspec": {
   "display_name": "Python 3 (ipykernel)",
   "language": "python",
   "name": "python3"
  },
  "language_info": {
   "codemirror_mode": {
    "name": "ipython",
    "version": 3
   },
   "file_extension": ".py",
   "mimetype": "text/x-python",
   "name": "python",
   "nbconvert_exporter": "python",
   "pygments_lexer": "ipython3",
   "version": "3.11.4"
  }
 },
 "nbformat": 4,
 "nbformat_minor": 5
}
