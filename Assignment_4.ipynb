{
 "cells": [
  {
   "cell_type": "markdown",
   "id": "504c9427",
   "metadata": {},
   "source": [
    "## Q1.) What exactly is []? "
   ]
  },
  {
   "cell_type": "markdown",
   "id": "e5cad546",
   "metadata": {},
   "source": [
    "It signifies an empty list in python. List is one of the Data Structures in Python and it is usually represented within the square brackets []."
   ]
  },
  {
   "cell_type": "markdown",
   "id": "9ddbc9fb",
   "metadata": {},
   "source": [
    "## Q2.) In a list of values stored in a variable called spam, how would you assign the value 'hello' as the third value? (Assume [2,4,6,8,10] are in spam.) "
   ]
  },
  {
   "cell_type": "code",
   "execution_count": 1,
   "id": "aeae2cfa",
   "metadata": {},
   "outputs": [],
   "source": [
    "# We will assign 'hello' as the third value given below.\n",
    "\n",
    "spam=[2,4,6,8,10]"
   ]
  },
  {
   "cell_type": "code",
   "execution_count": 2,
   "id": "ce7143c4",
   "metadata": {},
   "outputs": [],
   "source": [
    "spam[2]=\"hello\""
   ]
  },
  {
   "cell_type": "code",
   "execution_count": 3,
   "id": "534c973b",
   "metadata": {},
   "outputs": [
    {
     "data": {
      "text/plain": [
       "[2, 4, 'hello', 8, 10]"
      ]
     },
     "execution_count": 3,
     "metadata": {},
     "output_type": "execute_result"
    }
   ],
   "source": [
    "spam"
   ]
  },
  {
   "cell_type": "code",
   "execution_count": 4,
   "id": "a538b69b",
   "metadata": {},
   "outputs": [],
   "source": [
    "# We can even insert it in the third value directly without replacing the 6.\n",
    "spam=[2,4,6,8,10]\n",
    "spam.insert(2,\"hello\")"
   ]
  },
  {
   "cell_type": "code",
   "execution_count": 5,
   "id": "b7f930e8",
   "metadata": {},
   "outputs": [
    {
     "data": {
      "text/plain": [
       "[2, 4, 'hello', 6, 8, 10]"
      ]
     },
     "execution_count": 5,
     "metadata": {},
     "output_type": "execute_result"
    }
   ],
   "source": [
    "spam"
   ]
  },
  {
   "cell_type": "markdown",
   "id": "39ac55f5",
   "metadata": {},
   "source": [
    "## Q.) Let's pretend the spam includes the list ['a','b','c','d'] for the next three queries. "
   ]
  },
  {
   "cell_type": "markdown",
   "id": "6bc4d41d",
   "metadata": {},
   "source": [
    "##               Q3.) What is the value of spam[int(int('3'*2)/11]? "
   ]
  },
  {
   "cell_type": "code",
   "execution_count": 6,
   "id": "b8cb7330",
   "metadata": {},
   "outputs": [],
   "source": [
    "spam=['a','b','c','d']"
   ]
  },
  {
   "cell_type": "markdown",
   "id": "86334209",
   "metadata": {},
   "source": [
    "Here 3 is getting replicated two times, so it will become 33 and it is typecasted to integer. So, now when we will divide it by 11, we will get 3, which is again typecasted as a n integer and we will get spam[3] which indicates it will give 'd' as the output because 3 here indicates the third index value."
   ]
  },
  {
   "cell_type": "code",
   "execution_count": 8,
   "id": "4ba68a53",
   "metadata": {},
   "outputs": [
    {
     "data": {
      "text/plain": [
       "'d'"
      ]
     },
     "execution_count": 8,
     "metadata": {},
     "output_type": "execute_result"
    }
   ],
   "source": [
    "spam[int(int('3'*2)/11)]   "
   ]
  },
  {
   "cell_type": "markdown",
   "id": "4ee1ed4e",
   "metadata": {},
   "source": [
    "## Q4.) What is the value of spam[-1]? "
   ]
  },
  {
   "cell_type": "markdown",
   "id": "0be2757d",
   "metadata": {},
   "source": [
    "spam[-1] indicates the first value from the last, which will give 'd' as the output. "
   ]
  },
  {
   "cell_type": "code",
   "execution_count": 9,
   "id": "1916bfc7",
   "metadata": {},
   "outputs": [
    {
     "data": {
      "text/plain": [
       "'d'"
      ]
     },
     "execution_count": 9,
     "metadata": {},
     "output_type": "execute_result"
    }
   ],
   "source": [
    "spam[-1]"
   ]
  },
  {
   "cell_type": "markdown",
   "id": "a60cf5ac",
   "metadata": {},
   "source": [
    "## Q5.) What is the value of spam[:2]? "
   ]
  },
  {
   "cell_type": "markdown",
   "id": "6c1d78d6",
   "metadata": {},
   "source": [
    "spam[:2] indicates elements from 0 to 1, because we leave the upper bound and take the value one less to it. So, this will return 'a' and 'b'."
   ]
  },
  {
   "cell_type": "code",
   "execution_count": 10,
   "id": "02f0afa4",
   "metadata": {},
   "outputs": [
    {
     "data": {
      "text/plain": [
       "['a', 'b']"
      ]
     },
     "execution_count": 10,
     "metadata": {},
     "output_type": "execute_result"
    }
   ],
   "source": [
    "spam[:2]"
   ]
  },
  {
   "cell_type": "markdown",
   "id": "00e9da29",
   "metadata": {},
   "source": [
    "## Q.) Let's pretend bacon has the list [3.14,'cat',11,'cat',True] for the next three questions. "
   ]
  },
  {
   "cell_type": "markdown",
   "id": "dca639bf",
   "metadata": {},
   "source": [
    "## Q6.) What is the value of bacon.index('cat')? "
   ]
  },
  {
   "cell_type": "markdown",
   "id": "1322f37f",
   "metadata": {},
   "source": [
    ".index() returns the index value of the element passed inside it and if there are more than one occurence then it returns the index value of the first occurence. So, here in bacon.index('cat') it will return the first index value of the occurence which is 1."
   ]
  },
  {
   "cell_type": "code",
   "execution_count": 11,
   "id": "a48b267d",
   "metadata": {},
   "outputs": [
    {
     "data": {
      "text/plain": [
       "1"
      ]
     },
     "execution_count": 11,
     "metadata": {},
     "output_type": "execute_result"
    }
   ],
   "source": [
    "bacon=[3.14,'cat',11,'cat',True]\n",
    "bacon.index('cat')"
   ]
  },
  {
   "cell_type": "markdown",
   "id": "b657af67",
   "metadata": {},
   "source": [
    "## Q7.) How does bacon.append(99) change the look of the list value in bacon? "
   ]
  },
  {
   "cell_type": "markdown",
   "id": "c5ff1975",
   "metadata": {},
   "source": [
    ".append() is used in adding elements to the existing list, and it adds the element at the last index. So, bacon.append(99) will add 99 at the last index of the list."
   ]
  },
  {
   "cell_type": "code",
   "execution_count": 17,
   "id": "e39a35d9",
   "metadata": {},
   "outputs": [
    {
     "data": {
      "text/plain": [
       "[3.14, 'cat', 11, 'cat', True, 99]"
      ]
     },
     "execution_count": 17,
     "metadata": {},
     "output_type": "execute_result"
    }
   ],
   "source": [
    "bacon.append(99)\n",
    "bacon"
   ]
  },
  {
   "cell_type": "markdown",
   "id": "1dd8ea2a",
   "metadata": {},
   "source": [
    "## Q8.) How does bacon.remove('cat') change the look of the list in bacon? "
   ]
  },
  {
   "cell_type": "markdown",
   "id": "4a1de391",
   "metadata": {},
   "source": [
    ".remove() is used to remove the specified element passed as an argument from the list. So, bacon.remove('cat') will remove the first occurence of cat from the list."
   ]
  },
  {
   "cell_type": "code",
   "execution_count": 18,
   "id": "9c418065",
   "metadata": {},
   "outputs": [
    {
     "data": {
      "text/plain": [
       "[3.14, 11, 'cat', True, 99]"
      ]
     },
     "execution_count": 18,
     "metadata": {},
     "output_type": "execute_result"
    }
   ],
   "source": [
    "bacon.remove('cat')\n",
    "bacon"
   ]
  },
  {
   "cell_type": "markdown",
   "id": "56417c22",
   "metadata": {},
   "source": [
    "## Q9.) What are list concatenation and list replication operators? "
   ]
  },
  {
   "cell_type": "markdown",
   "id": "191d8a00",
   "metadata": {},
   "source": [
    "List Concatenation operator is used to combine two list as one with the help of \" + \" operator and List Replication operator is used to replicate a given list n no. of times with the help of \" * \" operator."
   ]
  },
  {
   "cell_type": "code",
   "execution_count": 19,
   "id": "d862d19d",
   "metadata": {},
   "outputs": [
    {
     "data": {
      "text/plain": [
       "[1, 2, 3, 4, 5, 6, 7, 8]"
      ]
     },
     "execution_count": 19,
     "metadata": {},
     "output_type": "execute_result"
    }
   ],
   "source": [
    "list1=[1,2,3,4]\n",
    "list2=[5,6,7,8]\n",
    "list1 + list2    #List Concatenation"
   ]
  },
  {
   "cell_type": "code",
   "execution_count": 20,
   "id": "4eb080f6",
   "metadata": {},
   "outputs": [
    {
     "data": {
      "text/plain": [
       "[1, 2, 3, 4, 1, 2, 3, 4, 1, 2, 3, 4, 1, 2, 3, 4]"
      ]
     },
     "execution_count": 20,
     "metadata": {},
     "output_type": "execute_result"
    }
   ],
   "source": [
    "list1=[1,2,3,4]*4    #List Replication\n",
    "list1"
   ]
  },
  {
   "cell_type": "markdown",
   "id": "dc8c36c8",
   "metadata": {},
   "source": [
    "## Q10.) What is the difference between the list methods append() and insert()? "
   ]
  },
  {
   "cell_type": "markdown",
   "id": "79ddc722",
   "metadata": {},
   "source": [
    "append() method is used to add the element to a list. But, by default it adds the element at the last index of the list.\n",
    "\n",
    "insert() method also adds element to the list, but it adds the element at whatever index you pass as an argument with the element."
   ]
  },
  {
   "cell_type": "code",
   "execution_count": 21,
   "id": "194f7b30",
   "metadata": {},
   "outputs": [
    {
     "data": {
      "text/plain": [
       "[1, 2, 3, 4]"
      ]
     },
     "execution_count": 21,
     "metadata": {},
     "output_type": "execute_result"
    }
   ],
   "source": [
    "list1=[1,2,3]\n",
    "list1.append(4)\n",
    "list1"
   ]
  },
  {
   "cell_type": "code",
   "execution_count": 22,
   "id": "548efc34",
   "metadata": {},
   "outputs": [
    {
     "data": {
      "text/plain": [
       "[1, 2, 'hello', 3, 4]"
      ]
     },
     "execution_count": 22,
     "metadata": {},
     "output_type": "execute_result"
    }
   ],
   "source": [
    "list1.insert(2,'hello')\n",
    "list1"
   ]
  },
  {
   "cell_type": "markdown",
   "id": "270b9920",
   "metadata": {},
   "source": [
    "## Q11.) What are the two methods for removing items from a list? "
   ]
  },
  {
   "cell_type": "markdown",
   "id": "43ea5892",
   "metadata": {},
   "source": [
    "The two methods for removing items from a list are :- pop() and remove()\n",
    "\n",
    "pop() method removes the element by default from the last index, but if index is passed it can also remove element from that index.\n",
    "\n",
    "remove() method removes the element passed as an argument in the function and if there are more than one occurences then it removes the first occurence."
   ]
  },
  {
   "cell_type": "code",
   "execution_count": 28,
   "id": "8dd3ea52",
   "metadata": {},
   "outputs": [],
   "source": [
    "list1=[1,2,3,4,'hello','world',78,[3,4]]"
   ]
  },
  {
   "cell_type": "code",
   "execution_count": 29,
   "id": "21829792",
   "metadata": {},
   "outputs": [],
   "source": [
    "list1.remove(3)"
   ]
  },
  {
   "cell_type": "code",
   "execution_count": 30,
   "id": "b48867f1",
   "metadata": {},
   "outputs": [
    {
     "data": {
      "text/plain": [
       "[1, 2, 4, 'hello', 'world', 78, [3, 4]]"
      ]
     },
     "execution_count": 30,
     "metadata": {},
     "output_type": "execute_result"
    }
   ],
   "source": [
    "list1"
   ]
  },
  {
   "cell_type": "code",
   "execution_count": 31,
   "id": "a09a7010",
   "metadata": {},
   "outputs": [
    {
     "data": {
      "text/plain": [
       "78"
      ]
     },
     "execution_count": 31,
     "metadata": {},
     "output_type": "execute_result"
    }
   ],
   "source": [
    "list1.pop(5)"
   ]
  },
  {
   "cell_type": "markdown",
   "id": "d75e1374",
   "metadata": {},
   "source": [
    "## Q12.) Describe how list values and string values are identical."
   ]
  },
  {
   "cell_type": "markdown",
   "id": "29a708f0",
   "metadata": {},
   "source": [
    "List values and String values are identical in the following ways :-\n",
    "\n",
    "1) They both are sequenced i.e. ordered collection of data.\n",
    "\n",
    "2) They both have a length i.e. the number of elements or characters they contain.\n",
    "\n",
    "3) They both can be indexed which helps to give the access of the individual elements by their position.\n",
    "\n",
    "4) We can perform slicing operation on both the values.\n",
    "\n",
    "5) We can manipulate the strings and lists such as by adding or removing elements, changing the order etc."
   ]
  },
  {
   "cell_type": "markdown",
   "id": "060a9a04",
   "metadata": {},
   "source": [
    "## Q13.) What is the difference between tuples and lists? "
   ]
  },
  {
   "cell_type": "markdown",
   "id": "ef6f283a",
   "metadata": {},
   "source": [
    "Tuples are one of the data structures in python. They are defined inside parenthesis (). They are ordered and immutable.\n",
    "\n",
    "Lists are one of the data structures defined inside square brackets []. They are ordered but mutable."
   ]
  },
  {
   "cell_type": "code",
   "execution_count": 32,
   "id": "52a05a6f",
   "metadata": {},
   "outputs": [
    {
     "name": "stdout",
     "output_type": "stream",
     "text": [
      "1\n",
      "2\n"
     ]
    }
   ],
   "source": [
    "a=[1,2,3,4]\n",
    "\n",
    "#This shows list is an ordered data\n",
    "print(a[0])\n",
    "print(a[1])"
   ]
  },
  {
   "cell_type": "code",
   "execution_count": 33,
   "id": "90587ed5",
   "metadata": {},
   "outputs": [
    {
     "data": {
      "text/plain": [
       "['hello', 2, 3, 4]"
      ]
     },
     "execution_count": 33,
     "metadata": {},
     "output_type": "execute_result"
    }
   ],
   "source": [
    "# List is mutable means list value can be modified or altered. For eg.,\n",
    "a[0]=\"hello\"\n",
    "a"
   ]
  },
  {
   "cell_type": "code",
   "execution_count": 34,
   "id": "66148088",
   "metadata": {},
   "outputs": [
    {
     "name": "stdout",
     "output_type": "stream",
     "text": [
      "1\n",
      "2\n"
     ]
    }
   ],
   "source": [
    "b=(1,2,3,4)\n",
    "\n",
    "#This shows tuple is also an ordered data\n",
    "print(b[0])\n",
    "print(b[1])"
   ]
  },
  {
   "cell_type": "code",
   "execution_count": 35,
   "id": "9be5dae3",
   "metadata": {},
   "outputs": [
    {
     "ename": "TypeError",
     "evalue": "'tuple' object does not support item assignment",
     "output_type": "error",
     "traceback": [
      "\u001b[1;31m---------------------------------------------------------------------------\u001b[0m",
      "\u001b[1;31mTypeError\u001b[0m                                 Traceback (most recent call last)",
      "Cell \u001b[1;32mIn[35], line 1\u001b[0m\n\u001b[1;32m----> 1\u001b[0m b[\u001b[38;5;241m0\u001b[39m]\u001b[38;5;241m=\u001b[39m\u001b[38;5;124m'\u001b[39m\u001b[38;5;124mhello\u001b[39m\u001b[38;5;124m'\u001b[39m\n\u001b[0;32m      2\u001b[0m b\n",
      "\u001b[1;31mTypeError\u001b[0m: 'tuple' object does not support item assignment"
     ]
    }
   ],
   "source": [
    "#But tuple will give an error if we try to modify the value of the elements.\n",
    "\n",
    "b[0]='hello'\n",
    "b"
   ]
  },
  {
   "cell_type": "markdown",
   "id": "ab19e4c3",
   "metadata": {},
   "source": [
    "## Q14.) How do you type a tuple value that only contains the integer 42 ?"
   ]
  },
  {
   "cell_type": "code",
   "execution_count": 38,
   "id": "4bae675f",
   "metadata": {},
   "outputs": [
    {
     "data": {
      "text/plain": [
       "(42,)"
      ]
     },
     "execution_count": 38,
     "metadata": {},
     "output_type": "execute_result"
    }
   ],
   "source": [
    "a=(42,)    # here we will have to add a comma after 42, so that the data type is returned a tuple. \n",
    "a          # Single value in tuples are stored with a comma. \n"
   ]
  },
  {
   "cell_type": "code",
   "execution_count": 39,
   "id": "d0092b0e",
   "metadata": {},
   "outputs": [
    {
     "data": {
      "text/plain": [
       "tuple"
      ]
     },
     "execution_count": 39,
     "metadata": {},
     "output_type": "execute_result"
    }
   ],
   "source": [
    "type(a)"
   ]
  },
  {
   "cell_type": "markdown",
   "id": "6df88a0e",
   "metadata": {},
   "source": [
    "## Q15.) How do you get a list value's tuple form? How do you get a tuple value's list form?"
   ]
  },
  {
   "cell_type": "markdown",
   "id": "7f3f735a",
   "metadata": {},
   "source": [
    "We can change list value's in form of tuple with the help of typecasting. We can typecast list and get the data type in the form of tuple. Same, can be done in the transformation of tuple to list. We can typecast tuple value into list and get the data type in the form of list."
   ]
  },
  {
   "cell_type": "code",
   "execution_count": 40,
   "id": "424e8463",
   "metadata": {},
   "outputs": [
    {
     "data": {
      "text/plain": [
       "(1, 2, 3, 4, 5)"
      ]
     },
     "execution_count": 40,
     "metadata": {},
     "output_type": "execute_result"
    }
   ],
   "source": [
    "list1=[1,2,3,4,5]\n",
    "b=tuple(list1)\n",
    "b"
   ]
  },
  {
   "cell_type": "code",
   "execution_count": 41,
   "id": "3e001762",
   "metadata": {},
   "outputs": [
    {
     "data": {
      "text/plain": [
       "tuple"
      ]
     },
     "execution_count": 41,
     "metadata": {},
     "output_type": "execute_result"
    }
   ],
   "source": [
    "type(b)"
   ]
  },
  {
   "cell_type": "code",
   "execution_count": 42,
   "id": "ae063ee8",
   "metadata": {},
   "outputs": [
    {
     "data": {
      "text/plain": [
       "[5, 6, 7, 8, 9]"
      ]
     },
     "execution_count": 42,
     "metadata": {},
     "output_type": "execute_result"
    }
   ],
   "source": [
    "tup1=(5,6,7,8,9)\n",
    "a=list(tup1)\n",
    "a"
   ]
  },
  {
   "cell_type": "code",
   "execution_count": 43,
   "id": "fb605c86",
   "metadata": {},
   "outputs": [
    {
     "data": {
      "text/plain": [
       "list"
      ]
     },
     "execution_count": 43,
     "metadata": {},
     "output_type": "execute_result"
    }
   ],
   "source": [
    "type(a)"
   ]
  },
  {
   "cell_type": "markdown",
   "id": "eabd4082",
   "metadata": {},
   "source": [
    "## Q16.) Variables that \"contain\" list values are not necessarily lists themselves. Instead, what do they contain? "
   ]
  },
  {
   "cell_type": "markdown",
   "id": "f80a128f",
   "metadata": {},
   "source": [
    "Python uses references whenever variables must store values of mutable data types, such as lists or dictionaries. Therefore, variables that \"contain\" list values are not necessarily lists themselves rather they contain reference to the list values."
   ]
  },
  {
   "cell_type": "markdown",
   "id": "6d2b8302",
   "metadata": {},
   "source": [
    "## Q17.) How do you distinguish between copy.copy() and copy.deepcopy()?"
   ]
  },
  {
   "cell_type": "markdown",
   "id": "60380312",
   "metadata": {},
   "source": [
    "If we have a list which has nested list in it. In this case we can see the difference between copy.copy() and copy.deepcopy().\n",
    "\n",
    "copy.copy() helps to make a shallow copy of the list. If you modify elements outside the nested list, it will have no impact on the copied list. But, if you modify something inside nested list, then it show it in the copied one also.\n",
    "\n",
    "copy.deepcopy() helps to make a deep copy of the list as well as the nested list inside it. So, that whenever we make changes inside the list and the nested one, there are no changes in the deepcopy one. Let's see this with the help of example."
   ]
  },
  {
   "cell_type": "code",
   "execution_count": 44,
   "id": "85a7793b",
   "metadata": {},
   "outputs": [],
   "source": [
    "import copy\n",
    "\n",
    "list1=[1,2,3,4,[5,6,7,8,9]]\n",
    "list2=copy.copy(list1)"
   ]
  },
  {
   "cell_type": "code",
   "execution_count": 45,
   "id": "a53a6a92",
   "metadata": {},
   "outputs": [
    {
     "data": {
      "text/plain": [
       "[1, 2, 3, 4, [5, 6, 7, 8, 9]]"
      ]
     },
     "execution_count": 45,
     "metadata": {},
     "output_type": "execute_result"
    }
   ],
   "source": [
    "list2"
   ]
  },
  {
   "cell_type": "code",
   "execution_count": 47,
   "id": "d37926b5",
   "metadata": {},
   "outputs": [
    {
     "name": "stdout",
     "output_type": "stream",
     "text": [
      "[1, 2, 'cherry', 4, [5, 6, 7, 8, 9]]\n",
      "------------------------------------\n",
      "[1, 2, 3, 4, [5, 6, 7, 8, 9]]\n"
     ]
    }
   ],
   "source": [
    "# making changes in the list1 outside the nested list\n",
    "list1[2]=\"cherry\"\n",
    "print(list1)\n",
    "print(\"------------------------------------\")\n",
    "print(list2)"
   ]
  },
  {
   "cell_type": "code",
   "execution_count": 49,
   "id": "5218b643",
   "metadata": {},
   "outputs": [
    {
     "name": "stdout",
     "output_type": "stream",
     "text": [
      "[1, 2, 'cherry', 4, [5, 6, 'Mercedes G-Wagon', 8, 9]]\n",
      "----------------------------------------------\n",
      "[1, 2, 3, 4, [5, 6, 'Mercedes G-Wagon', 8, 9]]\n"
     ]
    }
   ],
   "source": [
    "# making changes inside the nested list\n",
    "list1[4][2]=\"Mercedes G-Wagon\"\n",
    "print(list1)\n",
    "print(\"----------------------------------------------\")\n",
    "print(list2)"
   ]
  },
  {
   "cell_type": "code",
   "execution_count": 50,
   "id": "5822d7b6",
   "metadata": {},
   "outputs": [],
   "source": [
    "list3=[1,2,3,4,[5,6,7,8,9]]\n",
    "list4=copy.deepcopy(list3)"
   ]
  },
  {
   "cell_type": "code",
   "execution_count": 51,
   "id": "f3cd9113",
   "metadata": {},
   "outputs": [
    {
     "data": {
      "text/plain": [
       "[1, 2, 3, 4, [5, 6, 7, 8, 9]]"
      ]
     },
     "execution_count": 51,
     "metadata": {},
     "output_type": "execute_result"
    }
   ],
   "source": [
    "list4"
   ]
  },
  {
   "cell_type": "code",
   "execution_count": 52,
   "id": "e2b4c416",
   "metadata": {},
   "outputs": [
    {
     "name": "stdout",
     "output_type": "stream",
     "text": [
      "[1, 2, 'Paris', 4, [5, 6, 7, 8, 9]]\n",
      "------------------------------------\n",
      "[1, 2, 3, 4, [5, 6, 7, 8, 9]]\n"
     ]
    }
   ],
   "source": [
    "# making changes in the list3 outside the nested list\n",
    "list3[2]=\"Paris\"\n",
    "print(list3)\n",
    "print(\"------------------------------------\")\n",
    "print(list4)"
   ]
  },
  {
   "cell_type": "code",
   "execution_count": 53,
   "id": "a9e34163",
   "metadata": {},
   "outputs": [
    {
     "name": "stdout",
     "output_type": "stream",
     "text": [
      "[1, 2, 'Paris', 4, [5, 6, 'Rolls Royce Cullinan', 8, 9]]\n",
      "----------------------------------------------\n",
      "[1, 2, 3, 4, [5, 6, 7, 8, 9]]\n"
     ]
    }
   ],
   "source": [
    "# making changes inside the nested list\n",
    "list3[4][2]=\"Rolls Royce Cullinan\"\n",
    "print(list3)\n",
    "print(\"----------------------------------------------\")\n",
    "print(list4)"
   ]
  },
  {
   "cell_type": "code",
   "execution_count": null,
   "id": "c5020de8",
   "metadata": {},
   "outputs": [],
   "source": []
  }
 ],
 "metadata": {
  "kernelspec": {
   "display_name": "Python 3 (ipykernel)",
   "language": "python",
   "name": "python3"
  },
  "language_info": {
   "codemirror_mode": {
    "name": "ipython",
    "version": 3
   },
   "file_extension": ".py",
   "mimetype": "text/x-python",
   "name": "python",
   "nbconvert_exporter": "python",
   "pygments_lexer": "ipython3",
   "version": "3.11.4"
  }
 },
 "nbformat": 4,
 "nbformat_minor": 5
}
