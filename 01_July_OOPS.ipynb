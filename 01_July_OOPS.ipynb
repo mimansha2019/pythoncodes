{
 "cells": [
  {
   "cell_type": "markdown",
   "id": "9e6e3b25",
   "metadata": {},
   "source": [
    "## Q1.) What is the primary goal of Object-Oriented Programming (OOP)?"
   ]
  },
  {
   "cell_type": "markdown",
   "id": "3d97cbae",
   "metadata": {},
   "source": [
    "OOP (Object-Oriented Programming) is a programming methodology that organizes and structure code based on the pattern of Classes and Objects. Class acts as a blueprint that defines the attributes and methods common to all objects created from it. An Object is an instance of a class.\n",
    "\n",
    "The primary goals of Object-Oriented Programming are :-\n",
    "\n",
    "1.) It promotes modularity and makes it easier to manage and maintain code.\n",
    "\n",
    "2.) It helps in managing complexity and creating a clear and understandable model of the system.\n",
    "\n",
    "3.) It promotes code reusability and the creation of a hierarchical structure. \n",
    "\n",
    "4.) It enables flexibility in handling different data types and objects. \n",
    "\n",
    "5.) OOP aims to provide a framework for organizing and designing software in a way that promotes modularity, extensibility, and reusability. "
   ]
  },
  {
   "cell_type": "markdown",
   "id": "96d23fbe",
   "metadata": {},
   "source": [
    "## Q2.) What is an object in Python?"
   ]
  },
  {
   "cell_type": "markdown",
   "id": "e4a4fffd",
   "metadata": {},
   "source": [
    "In Python, an Object is a fundamental concept that represents an instance of a user-defined class. For example,\n"
   ]
  },
  {
   "cell_type": "code",
   "execution_count": 1,
   "id": "0eba9585",
   "metadata": {},
   "outputs": [],
   "source": [
    "class Dog:\n",
    "    def __init__(self, name):\n",
    "        self.name = name\n",
    "        \n",
    "    def sound(self):\n",
    "        print(f\"{self.name} barks\")\n",
    "\n",
    "# Here, my_dog is an object of the class Dog. It will inherit all the attributes or methods defined in the class.\n",
    "my_dog = Dog(\"Leo\")"
   ]
  },
  {
   "cell_type": "code",
   "execution_count": 2,
   "id": "5dd09cd9",
   "metadata": {},
   "outputs": [
    {
     "name": "stdout",
     "output_type": "stream",
     "text": [
      "Leo barks\n"
     ]
    }
   ],
   "source": [
    "my_dog.sound()"
   ]
  },
  {
   "cell_type": "markdown",
   "id": "2fd3b196",
   "metadata": {},
   "source": [
    "## Q3.) What is a class in Python? "
   ]
  },
  {
   "cell_type": "markdown",
   "id": "2c3a368b",
   "metadata": {},
   "source": [
    "In Python, a Class is a user-defined blueprint for creating objects. It provide a means of bundling data and functionality together. Objects are instances of classes, and classes provide a structure and organization for creating and working with these objects. For example,"
   ]
  },
  {
   "cell_type": "code",
   "execution_count": 6,
   "id": "6f784eaa",
   "metadata": {},
   "outputs": [],
   "source": [
    "# A simple example of a class Dog\n",
    "\n",
    "class Dog:\n",
    "    def __init__(self, name, breed):   #__init__ method (constructor) used for initializing the attributes of the class\n",
    "        self.name = name               #__init__ method gets called when an object is created\n",
    "        self.breed=breed\n",
    "        \n",
    "    def sound(self):                   #sound() is a simple method of the class Dog\n",
    "        print(f\"{self.name} from the breed {self.breed} barks.\")"
   ]
  },
  {
   "cell_type": "code",
   "execution_count": 7,
   "id": "06197b2b",
   "metadata": {},
   "outputs": [],
   "source": [
    "dog=Dog(\"Leo\",\"Golden Retriever\")   # dog is an object of the class Dog which calls the __init__ method. "
   ]
  },
  {
   "cell_type": "code",
   "execution_count": 8,
   "id": "59dac999",
   "metadata": {},
   "outputs": [
    {
     "name": "stdout",
     "output_type": "stream",
     "text": [
      "Leo from the breed Golden Retriever barks.\n"
     ]
    }
   ],
   "source": [
    "dog.sound()"
   ]
  },
  {
   "cell_type": "markdown",
   "id": "d0cc8659",
   "metadata": {},
   "source": [
    "## Q4.) What are attributes and methods in a class?"
   ]
  },
  {
   "cell_type": "markdown",
   "id": "e1230924",
   "metadata": {},
   "source": [
    "In a class, attributes and methods are the building blocks that define the characteristics and behaviors of the objects created from that class.\n",
    "\n",
    "1.) Attributes --> Attributes are variables that store data. In Python classes, attributes are defined within the class majorly inside the __init__() method. Each object created from the class can have its own set of attribute values.\n",
    "\n",
    "2.) Methods --> Methods are functions that define the behaviors or actions that objects created from the class can perform. Methods are defined within the class and can access and modify the attributes of the object."
   ]
  },
  {
   "cell_type": "code",
   "execution_count": 12,
   "id": "921e8bed",
   "metadata": {},
   "outputs": [],
   "source": [
    "class Dog:\n",
    "    def __init__(self, name, breed):   # name and breed are the two attributes of the class\n",
    "        self.name = name               \n",
    "        self.breed=breed\n",
    "        \n",
    "    def sound(self):                   #sound() is a method of the class Dog\n",
    "        print(f\"{self.name} says Woof! Woof!\")\n",
    "        \n",
    "    def display(self):                #display() is a method of the class Dog\n",
    "        print(f\"Name : {self.name}\")\n",
    "        print(f\"Breed : {self.breed}\")"
   ]
  },
  {
   "cell_type": "code",
   "execution_count": 13,
   "id": "5796fa64",
   "metadata": {},
   "outputs": [],
   "source": [
    "dog=Dog(\"Scooby\",\"Labrador\")"
   ]
  },
  {
   "cell_type": "code",
   "execution_count": 14,
   "id": "7b9da8e7",
   "metadata": {},
   "outputs": [
    {
     "name": "stdout",
     "output_type": "stream",
     "text": [
      "Name : Scooby\n",
      "Breed : Labrador\n"
     ]
    }
   ],
   "source": [
    "dog.display()                #calling the display method of the class"
   ]
  },
  {
   "cell_type": "code",
   "execution_count": 15,
   "id": "5392517b",
   "metadata": {},
   "outputs": [
    {
     "name": "stdout",
     "output_type": "stream",
     "text": [
      "Scooby says Woof! Woof!\n"
     ]
    }
   ],
   "source": [
    "dog.sound()                  #calling the sound method of the class"
   ]
  },
  {
   "cell_type": "markdown",
   "id": "e0c9e39e",
   "metadata": {},
   "source": [
    "## Q5.) What is the difference between class variables and instance variables in Python? "
   ]
  },
  {
   "cell_type": "markdown",
   "id": "4118d2ac",
   "metadata": {},
   "source": [
    "In Python, class variables and instance variables are two types of variables that are used within a class but behaves differently in terms of scope and usage.\n",
    "\n",
    "1.) Class Variables --> Class variables are shared among all instances of a class. They are defined outside the constructor and all the methods of the class. Changes made to a class variable are reflected across all instances of that class.\n",
    "\n",
    "2.) Instance Variables --> Instance variables are specific to each instance of a class. They are defined inside the constructor (__init__ method) and are prefixed with self. Each instance has its own set of instance variables."
   ]
  },
  {
   "cell_type": "code",
   "execution_count": 17,
   "id": "853e9f89",
   "metadata": {},
   "outputs": [],
   "source": [
    "class Dog:\n",
    "    \n",
    "    age=3                              # defining a class variable\n",
    "    \n",
    "    def __init__(self, name, breed):   # name and breed are the two instance variables of the class\n",
    "        self.name = name               \n",
    "        self.breed=breed\n",
    "        \n",
    "    def sound(self):                   \n",
    "        print(f\"{self.name} says Woof! Woof!\")\n",
    "        \n",
    "    def display(self):                \n",
    "        print(f\"Name : {self.name}\")\n",
    "        print(f\"Breed : {self.breed}\")"
   ]
  },
  {
   "cell_type": "code",
   "execution_count": 18,
   "id": "5aa768e8",
   "metadata": {},
   "outputs": [],
   "source": [
    "dog=Dog(\"Scooby\",\"Labrador\")"
   ]
  },
  {
   "cell_type": "code",
   "execution_count": 23,
   "id": "2faea44f",
   "metadata": {},
   "outputs": [
    {
     "name": "stdout",
     "output_type": "stream",
     "text": [
      "Name : Scooby\n",
      "Breed : Labrador\n"
     ]
    }
   ],
   "source": [
    "dog.display()"
   ]
  },
  {
   "cell_type": "code",
   "execution_count": 19,
   "id": "69f1cbbc",
   "metadata": {},
   "outputs": [
    {
     "data": {
      "text/plain": [
       "3"
      ]
     },
     "execution_count": 19,
     "metadata": {},
     "output_type": "execute_result"
    }
   ],
   "source": [
    "dog.age"
   ]
  },
  {
   "cell_type": "code",
   "execution_count": 20,
   "id": "08b801ab",
   "metadata": {},
   "outputs": [],
   "source": [
    "dog1=Dog(\"Leo\",\"Beagle\")"
   ]
  },
  {
   "cell_type": "code",
   "execution_count": 24,
   "id": "b85270d6",
   "metadata": {},
   "outputs": [
    {
     "name": "stdout",
     "output_type": "stream",
     "text": [
      "Name : Leo\n",
      "Breed : Beagle\n"
     ]
    }
   ],
   "source": [
    "dog1.display()"
   ]
  },
  {
   "cell_type": "code",
   "execution_count": 21,
   "id": "a9e083a1",
   "metadata": {},
   "outputs": [
    {
     "data": {
      "text/plain": [
       "3"
      ]
     },
     "execution_count": 21,
     "metadata": {},
     "output_type": "execute_result"
    }
   ],
   "source": [
    "dog1.age"
   ]
  },
  {
   "cell_type": "markdown",
   "id": "75a3fb2d",
   "metadata": {},
   "source": [
    "## Q6.) What is the purpose of the self parameter in Python class methods?"
   ]
  },
  {
   "cell_type": "markdown",
   "id": "a8d518ac",
   "metadata": {},
   "source": [
    "In Python, the self parameter in class methods is used as a reference to the instance of the class.The purpose of the self parameter is to allow access to the instance's attributes and methods within the class. When a method is called on an instance of a class, Python automatically passes the instance as the first argument to the method. By convention, this argument is named self.\n",
    "\n",
    "By using self, we can differentiate between instance variables and local variables within the class."
   ]
  },
  {
   "cell_type": "markdown",
   "id": "79f13257",
   "metadata": {},
   "source": [
    "## Q7.) For a library management system, you have to design the \"Book\" class with OOP principles in mind. The “Book” class will have following attributes:\n",
    "\n",
    "a. title: Represents the title of the book.\n",
    "\n",
    "b. author: Represents the author(s) of the book.\n",
    "\n",
    "c. isbn: Represents the ISBN (International Standard Book Number) of the book.\n",
    "\n",
    "d. publication_year: Represents the year of publication of the book.\n",
    "\n",
    "e. available_copies: Represents the number of copies available for checkout.\n",
    "\n",
    "The class will also include the following methods:\n",
    "\n",
    "a. check_out(self): Decrements the available copies by one if there are copies\n",
    "available for checkout.\n",
    "\n",
    "b. return_book(self): Increments the available copies by one when a book is\n",
    "returned.\n",
    "\n",
    "c. display_book_info(self): Displays the information about the book, including its\n",
    "attributes and the number of available copies."
   ]
  },
  {
   "cell_type": "code",
   "execution_count": 83,
   "id": "6aafcad2",
   "metadata": {},
   "outputs": [],
   "source": [
    "class Book:\n",
    "    def __init__(self,title,author,isbn,publication_year,available_copies):\n",
    "        self.title=title\n",
    "        self.author=author\n",
    "        self.isbn=isbn\n",
    "        self.publication_year=publication_year\n",
    "        self.available_copies=available_copies\n",
    "        \n",
    "    def check_out(self):\n",
    "        n=int(input(\"Enter the number of copies you want to check out : \"))\n",
    "        self.available_copies-=n\n",
    "        print(f\"Total Copies of the Book left : {self.available_copies}\")\n",
    "        \n",
    "    def return_book(self):\n",
    "        n=int(input(\"Enter the number of copies returned : \"))\n",
    "        self.available_copies+=n\n",
    "        print(f\"Total Copies of the Book left : {self.available_copies}\")\n",
    "        \n",
    "    def display_book_info(self):\n",
    "        print(f\"Title : {self.title}, Author : {self.author}, ISBN : {self.isbn}, Publication Year : {self.publication_year}\")\n",
    "        print(f\"Available Copies are : {self.available_copies}\")"
   ]
  },
  {
   "cell_type": "code",
   "execution_count": 84,
   "id": "8ebaf6d4",
   "metadata": {},
   "outputs": [],
   "source": [
    "book=Book(\"Think and Grow Rich\",\"Napolean Hill\",97805631261, 1937, 5)"
   ]
  },
  {
   "cell_type": "code",
   "execution_count": 85,
   "id": "83d81b13",
   "metadata": {},
   "outputs": [
    {
     "name": "stdout",
     "output_type": "stream",
     "text": [
      "Enter the number of copies you want to check out : 1\n",
      "Total Copies of the Book left : 4\n"
     ]
    }
   ],
   "source": [
    "book.check_out()"
   ]
  },
  {
   "cell_type": "code",
   "execution_count": 86,
   "id": "5b9c63c8",
   "metadata": {},
   "outputs": [
    {
     "name": "stdout",
     "output_type": "stream",
     "text": [
      "Enter the number of copies returned : 2\n",
      "Total Copies of the Book left : 6\n"
     ]
    }
   ],
   "source": [
    "book.return_book()"
   ]
  },
  {
   "cell_type": "code",
   "execution_count": 87,
   "id": "d4bd1a9c",
   "metadata": {},
   "outputs": [
    {
     "name": "stdout",
     "output_type": "stream",
     "text": [
      "Title : Think and Grow Rich, Author : Napolean Hill, ISBN : 97805631261, Publication Year : 1937\n",
      "Available Copies are : 6\n"
     ]
    }
   ],
   "source": [
    "book.display_book_info()"
   ]
  },
  {
   "cell_type": "markdown",
   "id": "3d766e90",
   "metadata": {},
   "source": [
    "## Q8.) For a ticket booking system, you have to design the \"Ticket\" class with OOP principles in mind. The “Ticket” class should have the following attributes:\n",
    "\n",
    "a. ticket_id: Represents the unique identifier for the ticket.\n",
    "\n",
    "b. event_name: Represents the name of the event.\n",
    "\n",
    "c. event_date: Represents the date of the event.\n",
    "\n",
    "d. venue: Represents the venue of the event.\n",
    "\n",
    "e. seat_number: Represents the seat number associated with the ticket.\n",
    "\n",
    "f. price: Represents the price of the ticket.\n",
    "\n",
    "g. is_reserved: Represents the reservation status of the ticket.\n",
    "\n",
    "The class also includes the following methods:\n",
    "\n",
    "a. reserve_ticket(self): Marks the ticket as reserved if it is not already reserved.\n",
    "\n",
    "b. cancel_reservation(self): Cancels the reservation of the ticket if it is already\n",
    "reserved.\n",
    "\n",
    "c. display_ticket_info(self): Displays the information about the ticket, including its\n",
    "attributes and reservation status."
   ]
  },
  {
   "cell_type": "code",
   "execution_count": 131,
   "id": "83dc5305",
   "metadata": {},
   "outputs": [],
   "source": [
    "class Ticket:\n",
    "    def __init__(self):\n",
    "        # taking user-defined input and assigning the values to the attributes\n",
    "        self.ticket_id=int(input(\"Enter Your ticket_id : \"))\n",
    "        self.event_name=input(\"Enter the event name : \")\n",
    "        self.event_date=input(\"Enter the event date : \")\n",
    "        self.venue=input(\"Enter the venue : \")\n",
    "        self.seat_number=input(\"Enter the seat number : \")\n",
    "        self.price=float(input(\"Enter the price of your ticket : \"))\n",
    "        self.is_reserved=input(\"Enter Reserved/Not Reserved : \")\n",
    "        \n",
    "    def reserve_ticket(self):\n",
    "        self.is_reserved=input(\"Is your ticket reserved or not (Enter the value in YES/NO) : \")  #asking for the status of reservation\n",
    "        self.is_reserved.lower()\n",
    "        \n",
    "        if self.is_reserved == \"no\":\n",
    "            value=input(\"Do you want to reserve your ticket? (Yes/No) : \")\n",
    "            value.lower()\n",
    "            if value==\"yes\":\n",
    "                print(\"Your ticket is now reserved.\")\n",
    "            elif value==\"no\":\n",
    "                print(\"Your ticket is not reserved\")\n",
    "            else:\n",
    "                print(\"Enter only Yes/No\")\n",
    "                \n",
    "        elif self.is_reserved == \"yes\":\n",
    "            print(\"Your ticket is already reserved.\")\n",
    "        else:\n",
    "            print(\"Enter the Correct Value\")\n",
    "            \n",
    "    def cancel_reservation(self):\n",
    "        self.is_reserved=input(\"Do you want to cancel the reservation (Enter the value in Yes/No) : \")\n",
    "        self.is_reserved.lower()\n",
    "        \n",
    "        if self.is_reserved == \"yes\":\n",
    "            print(\"Your ticket reservation is canceled\")\n",
    "        elif self.is_reserved == \"no\":\n",
    "            print(\"Your ticket is reserved\")\n",
    "        else:\n",
    "            print(\"Enter the correct value\")\n",
    "    \n",
    "    def display_ticket_info(self):\n",
    "        print(\"---------------------------------Your Ticket Details------------------------------------------\")\n",
    "        \n",
    "        print(f\"Ticket ID : {self.ticket_id}\")\n",
    "        print(f\"Event Name : {self.event_name}\")\n",
    "        print(f\"Event Date : {self.event_date}\")\n",
    "        print(f\"Venue : {self.venue}\")\n",
    "        print(f\"Seat Number : {self.seat_number}\")\n",
    "        print(f\"Ticket Price : {self.price}\")\n",
    "        print(f\"Reservation Status : {self.is_reserved}\")\n",
    "        \n",
    "        print(\"----------------------------------------------------------------------------------------------\")"
   ]
  },
  {
   "cell_type": "code",
   "execution_count": 132,
   "id": "fe1f4cba",
   "metadata": {},
   "outputs": [
    {
     "name": "stdout",
     "output_type": "stream",
     "text": [
      "Enter Your ticket_id : 123\n",
      "Enter the event name : Taylor Swift's Eras Tour\n",
      "Enter the event date : 25th February,2024\n",
      "Enter the venue : San Siro Stadium, Milan, Italy\n",
      "Enter the seat number : A14\n",
      "Enter the price of your ticket : 25000.67\n",
      "Enter Reserved/Not Reserved : Reserved\n"
     ]
    }
   ],
   "source": [
    "ticket=Ticket()"
   ]
  },
  {
   "cell_type": "code",
   "execution_count": 133,
   "id": "3f67438e",
   "metadata": {},
   "outputs": [
    {
     "name": "stdout",
     "output_type": "stream",
     "text": [
      "---------------------------------Your Ticket Details------------------------------------------\n",
      "Ticket ID : 123\n",
      "Event Name : Taylor Swift's Eras Tour\n",
      "Event Date : 25th February,2024\n",
      "Venue : San Siro Stadium, Milan, Italy\n",
      "Seat Number : A14\n",
      "Ticket Price : 25000.67\n",
      "Reservation Status : Reserved\n",
      "----------------------------------------------------------------------------------------------\n"
     ]
    }
   ],
   "source": [
    "ticket.display_ticket_info()"
   ]
  },
  {
   "cell_type": "code",
   "execution_count": 134,
   "id": "cd0f13cc",
   "metadata": {},
   "outputs": [
    {
     "name": "stdout",
     "output_type": "stream",
     "text": [
      "Is your ticket reserved or not (Enter the value in YES/NO) : yes\n",
      "Your ticket is already reserved.\n"
     ]
    }
   ],
   "source": [
    "ticket.reserve_ticket()"
   ]
  },
  {
   "cell_type": "code",
   "execution_count": 135,
   "id": "45d44464",
   "metadata": {},
   "outputs": [
    {
     "name": "stdout",
     "output_type": "stream",
     "text": [
      "Is your ticket reserved or not (Enter the value in YES/NO) : no\n",
      "Do you want to reserve your ticket? (Yes/No) : yes\n",
      "Your ticket is now reserved.\n"
     ]
    }
   ],
   "source": [
    "ticket.reserve_ticket()"
   ]
  },
  {
   "cell_type": "code",
   "execution_count": 136,
   "id": "15aeac44",
   "metadata": {},
   "outputs": [
    {
     "name": "stdout",
     "output_type": "stream",
     "text": [
      "Do you want to cancel the reservation (Enter the value in Yes/No) : yes\n",
      "Your ticket reservation is canceled\n"
     ]
    }
   ],
   "source": [
    "ticket.cancel_reservation()"
   ]
  },
  {
   "cell_type": "code",
   "execution_count": 137,
   "id": "6aabb736",
   "metadata": {},
   "outputs": [
    {
     "name": "stdout",
     "output_type": "stream",
     "text": [
      "Do you want to cancel the reservation (Enter the value in Yes/No) : no\n",
      "Your ticket is reserved\n"
     ]
    }
   ],
   "source": [
    "ticket.cancel_reservation()"
   ]
  },
  {
   "cell_type": "markdown",
   "id": "1680f706",
   "metadata": {},
   "source": [
    "## Q9.) You are creating a shopping cart for an e-commerce website. Using OOP to model the \"ShoppingCart\" functionality the class should contain following attributes and methods:\n",
    "\n",
    "a. items: Represents the list of items in the shopping cart.\n",
    "\n",
    "The class also includes the following methods:\n",
    "\n",
    "a. add_item(self, item): Adds an item to the shopping cart by appending it to the\n",
    "list of items.\n",
    "\n",
    "b. remove_item(self, item): Removes an item from the shopping cart if it exists in\n",
    "the list.\n",
    "\n",
    "c. view_cart(self): Displays the items currently present in the shopping cart.\n",
    "\n",
    "d. clear_cart(self): Clears all items from the shopping cart by reassigning an\n",
    "empty list to the items attribute. "
   ]
  },
  {
   "cell_type": "code",
   "execution_count": 138,
   "id": "dc10590f",
   "metadata": {},
   "outputs": [],
   "source": [
    "class ShoppingCart:\n",
    "    def __init__(self):\n",
    "        self.items=[]     #items represent a list of items\n",
    "        \n",
    "    def add_item(self,item):\n",
    "        item = int(input(\"Enter number of elements : \"))\n",
    "                   \n",
    "        for i in range(0, item):       # iterating till the range\n",
    "            ele = input(\"Enter the item you want to add : \")\n",
    "            ele.lower()\n",
    "            self.items.append(ele)     # appending all the items entered to the list\n",
    " \n",
    "        \n",
    "    def remove_item(self,item):\n",
    "        item=input(\"Enter the item you want to remove: \")\n",
    "        item.lower()\n",
    "        \n",
    "        if item in self.items:\n",
    "            self.items.remove(item)   #removing the item which has to be removed from the list\n",
    "        else:\n",
    "            print(\"There is no such item present\")\n",
    "            \n",
    "    def view_cart(self):\n",
    "        print(\"The items present in the cart : \",self.items)\n",
    "        for i in self.items:\n",
    "            print(i.title())\n",
    "            \n",
    "    def clear_cart(self):\n",
    "        self.items.clear()          # clears the whole list of items\n",
    "        print(\"Your Cart is empty. Add items to your Shopping Cart.\")\n",
    "        \n",
    "    "
   ]
  },
  {
   "cell_type": "code",
   "execution_count": 139,
   "id": "b2d12043",
   "metadata": {},
   "outputs": [],
   "source": [
    "shopping=ShoppingCart()"
   ]
  },
  {
   "cell_type": "code",
   "execution_count": 140,
   "id": "08f9f63a",
   "metadata": {},
   "outputs": [
    {
     "name": "stdout",
     "output_type": "stream",
     "text": [
      "Enter number of elements : 6\n",
      "Enter the item you want to add : laptop\n",
      "Enter the item you want to add : mobile phone\n",
      "Enter the item you want to add : speaker\n",
      "Enter the item you want to add : airpods\n",
      "Enter the item you want to add : tablet\n",
      "Enter the item you want to add : charger\n"
     ]
    }
   ],
   "source": [
    "shopping.add_item(6)"
   ]
  },
  {
   "cell_type": "code",
   "execution_count": 141,
   "id": "d5b0e46e",
   "metadata": {},
   "outputs": [
    {
     "name": "stdout",
     "output_type": "stream",
     "text": [
      "The items present in the cart :  ['laptop', 'mobile phone', 'speaker', 'airpods', 'tablet', 'charger']\n",
      "Laptop\n",
      "Mobile Phone\n",
      "Speaker\n",
      "Airpods\n",
      "Tablet\n",
      "Charger\n"
     ]
    }
   ],
   "source": [
    "shopping.view_cart()"
   ]
  },
  {
   "cell_type": "code",
   "execution_count": 143,
   "id": "e4f3f526",
   "metadata": {},
   "outputs": [
    {
     "name": "stdout",
     "output_type": "stream",
     "text": [
      "Enter the item you want to remove: tablet\n"
     ]
    }
   ],
   "source": [
    "shopping.remove_item(1)"
   ]
  },
  {
   "cell_type": "code",
   "execution_count": 144,
   "id": "2a2d6861",
   "metadata": {},
   "outputs": [
    {
     "name": "stdout",
     "output_type": "stream",
     "text": [
      "The items present in the cart :  ['laptop', 'mobile phone', 'speaker', 'airpods', 'charger']\n",
      "Laptop\n",
      "Mobile Phone\n",
      "Speaker\n",
      "Airpods\n",
      "Charger\n"
     ]
    }
   ],
   "source": [
    "shopping.view_cart()"
   ]
  },
  {
   "cell_type": "code",
   "execution_count": 145,
   "id": "c8c1f07c",
   "metadata": {},
   "outputs": [
    {
     "name": "stdout",
     "output_type": "stream",
     "text": [
      "Your Cart is empty. Add items to your Shopping Cart.\n"
     ]
    }
   ],
   "source": [
    "shopping.clear_cart()"
   ]
  },
  {
   "cell_type": "markdown",
   "id": "45043901",
   "metadata": {},
   "source": [
    "## Q10.) Imagine a school management system. You have to design the \"Student\" class using OOP concepts.The “Student” class has the following attributes:\n",
    "\n",
    "a. name: Represents the name of the student.\n",
    "\n",
    "b. age: Represents the age of the student.\n",
    "\n",
    "c. grade: Represents the grade or class of the student.\n",
    "\n",
    "d. student_id: Represents the unique identifier for the student.\n",
    "\n",
    "e. attendance: Represents the attendance record of the student.\n",
    "\n",
    "The class should also include the following methods:\n",
    "\n",
    "a. update_attendance(self, date, status): Updates the attendance record of the\n",
    "student for a given date with the provided status (e.g., present or absent).\n",
    "\n",
    "b. get_attendance(self): Returns the attendance record of the student.\n",
    "\n",
    "c. get_average_attendance(self): Calculates and returns the average\n",
    "attendance percentage of the student based on their attendance record. "
   ]
  },
  {
   "cell_type": "code",
   "execution_count": 173,
   "id": "fa5ab17a",
   "metadata": {},
   "outputs": [],
   "source": [
    "class Student:\n",
    "    working_days=360             # defined a class variable\n",
    "    \n",
    "    def __init__(self):\n",
    "        \n",
    "        #assigning values to the instance variables from the user \n",
    "        self.name=input(\"Enter the name of the student : \")\n",
    "        self.age=int(input(\"Enter the age : \"))\n",
    "        self.grade=input(\"Enter the grade : \")\n",
    "        self.student_id=input(\"Enter the student id : \")\n",
    "        self.attendance=int(input(\"Enter the current attendance record : \"))\n",
    "        \n",
    "    def update_attendance(self):\n",
    "        date=input(\"Enter the date : \")                    #entering the date for which attendance has to be updated\n",
    "        name=input(\"Enter the name of the student : \")\n",
    "        if name == self.name:\n",
    "            status = input(\"Enter present or absent : \")    #asking for the status of present or absent\n",
    "            status.lower()\n",
    "            if status ==\"present\":\n",
    "                self.attendance+=1\n",
    "                print(f\"Updated attendance : {self.attendance}\")\n",
    "            elif status == \"absent\":\n",
    "                self.attendance+=0\n",
    "                print(f\"Updated attendance : {self.attendance}\")\n",
    "            else:\n",
    "                print(\"Enter correct value as present/absent\")\n",
    "        else:\n",
    "            print(\"This student is not in the records\")\n",
    "            \n",
    "    def get_attendance(self):\n",
    "        name=input(\"Enter the name of the student: \")\n",
    "        if name == self.name:\n",
    "            print(f\"Total attendance of {name} is {self.attendance}\")\n",
    "        else:\n",
    "            print(\"Couldn't find the student details\")\n",
    "            \n",
    "    def get_average_attendance(self):\n",
    "        name=input(\"Enter the name of the student : \")\n",
    "        \n",
    "        if name == self.name :\n",
    "            average_per=(self.attendance/Student.working_days)*100    #calculating the average attendance percentage\n",
    "            print(f\"The average attendance percentage of {self.name} is {average_per}%\")"
   ]
  },
  {
   "cell_type": "code",
   "execution_count": 174,
   "id": "e9b082ee",
   "metadata": {},
   "outputs": [
    {
     "name": "stdout",
     "output_type": "stream",
     "text": [
      "Enter the name of the student : Krish\n",
      "Enter the age : 17\n",
      "Enter the grade : 12 B\n",
      "Enter the student id : DPS2018\n",
      "Enter the current attendance record : 279\n"
     ]
    }
   ],
   "source": [
    "student=Student()"
   ]
  },
  {
   "cell_type": "code",
   "execution_count": 175,
   "id": "9651591b",
   "metadata": {},
   "outputs": [
    {
     "name": "stdout",
     "output_type": "stream",
     "text": [
      "Enter the name of the student: Krish\n",
      "Total attendance of Krish is 279\n"
     ]
    }
   ],
   "source": [
    "student.get_attendance()"
   ]
  },
  {
   "cell_type": "code",
   "execution_count": 176,
   "id": "8447a6b7",
   "metadata": {},
   "outputs": [
    {
     "name": "stdout",
     "output_type": "stream",
     "text": [
      "Enter the name of the student: Shaswat\n",
      "Couldn't find the student details\n"
     ]
    }
   ],
   "source": [
    "student.get_attendance()"
   ]
  },
  {
   "cell_type": "code",
   "execution_count": 177,
   "id": "d06f2069",
   "metadata": {},
   "outputs": [
    {
     "name": "stdout",
     "output_type": "stream",
     "text": [
      "Enter the date : 15/01/2019\n",
      "Enter the name of the student : Krish\n",
      "Enter present or absent : present\n",
      "Updated attendance : 280\n"
     ]
    }
   ],
   "source": [
    "student.update_attendance()"
   ]
  },
  {
   "cell_type": "code",
   "execution_count": 178,
   "id": "51c98865",
   "metadata": {},
   "outputs": [
    {
     "name": "stdout",
     "output_type": "stream",
     "text": [
      "Enter the name of the student : Krish\n",
      "The average attendance percentage of Krish is 77.77777777777779%\n"
     ]
    }
   ],
   "source": [
    "student.get_average_attendance()"
   ]
  },
  {
   "cell_type": "code",
   "execution_count": null,
   "id": "7cca35f8",
   "metadata": {},
   "outputs": [],
   "source": []
  }
 ],
 "metadata": {
  "kernelspec": {
   "display_name": "Python 3 (ipykernel)",
   "language": "python",
   "name": "python3"
  },
  "language_info": {
   "codemirror_mode": {
    "name": "ipython",
    "version": 3
   },
   "file_extension": ".py",
   "mimetype": "text/x-python",
   "name": "python",
   "nbconvert_exporter": "python",
   "pygments_lexer": "ipython3",
   "version": "3.11.4"
  }
 },
 "nbformat": 4,
 "nbformat_minor": 5
}
