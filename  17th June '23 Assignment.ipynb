{
 "cells": [
  {
   "cell_type": "markdown",
   "id": "d26482f4",
   "metadata": {},
   "source": [
    "## Q1.) What is the role of try and exception block? "
   ]
  },
  {
   "cell_type": "markdown",
   "id": "c570132e",
   "metadata": {},
   "source": [
    "In Python, the **try and except block** is **used to handle errors within the code**. The **try block tests a block of code for errors**, and the **except block handles the error**. The code inside the try block executes when there is no error in the program otherwise if error is encountered the except block gets executed."
   ]
  },
  {
   "cell_type": "markdown",
   "id": "f68d7f80",
   "metadata": {},
   "source": [
    "## Q2.) What is the syntax for a basic try-except block? "
   ]
  },
  {
   "cell_type": "markdown",
   "id": "20ab54b3",
   "metadata": {},
   "source": [
    "try:\n",
    "\n",
    "    #Code that may raise an exception\n",
    "\n",
    "except Exception as e:\n",
    "\n",
    "    #Handle the exception"
   ]
  },
  {
   "cell_type": "markdown",
   "id": "e548a29b",
   "metadata": {},
   "source": [
    "## Q3.) What happens if an exception occurs inside a try block and there is no matching except block? "
   ]
  },
  {
   "cell_type": "markdown",
   "id": "c02412ee",
   "metadata": {},
   "source": [
    "If an exception occurs which does not match the exception named in the except clause, it is passed on to outer try statements; if no handler is found, it is an unhandled exception and execution stops with an error message."
   ]
  },
  {
   "cell_type": "markdown",
   "id": "2fe15ddb",
   "metadata": {},
   "source": [
    "## Q4.) What is the difference between using a bare except block and specifying a specific exception type? "
   ]
  },
  {
   "cell_type": "markdown",
   "id": "caf39725",
   "metadata": {},
   "source": [
    "The difference between using a bare except block and specifying a specific exception type is that a bare except block will catch all exceptions, including the **SystemExit and KeyboardInterrupt exceptions**. A bare except will make it harder to interrupt a program with Control-C and disguise other programs. If you don't have a specific exception you're expecting, it is a good coding practice to write at least except Exception, which is the base type for all \"Regular\" exceptions.\n",
    "\n",
    "Specifying a specific exception type catches that particular error only for example, if you defined ZeroDivisionError in the except block, it will catch the error in the try block code if you divide the number by zero."
   ]
  },
  {
   "cell_type": "code",
   "execution_count": 9,
   "id": "67c722f4",
   "metadata": {},
   "outputs": [
    {
     "name": "stdout",
     "output_type": "stream",
     "text": [
      "Enter the first number: 5\n",
      "Enter the second number: 0\n",
      "An error occured\n"
     ]
    }
   ],
   "source": [
    "try:\n",
    "    x = int(input(\"Enter the first number: \"))\n",
    "    y = int(input(\"Enter the second number: \"))\n",
    "    print(x/y) \n",
    "except:\n",
    "    print(\"An error occured\")"
   ]
  },
  {
   "cell_type": "code",
   "execution_count": 11,
   "id": "58f2e29b",
   "metadata": {},
   "outputs": [
    {
     "name": "stdout",
     "output_type": "stream",
     "text": [
      "Enter the first number: 5\n",
      "Enter the second number: f\n",
      "You passed the wrong value\n"
     ]
    }
   ],
   "source": [
    "try:\n",
    "    x = int(input(\"Enter the first number: \"))\n",
    "    y = int(input(\"Enter the second number: \"))\n",
    "    print(x/y)           \n",
    "except ZeroDivisionError:\n",
    "    print(\"An error occurred\")\n",
    "except ValueError:\n",
    "    print(\"You passed the wrong value\")"
   ]
  },
  {
   "cell_type": "markdown",
   "id": "06b9731a",
   "metadata": {},
   "source": [
    "## Q5.) Can you have nested try-except blocks in Python? If yes, then give an example. "
   ]
  },
  {
   "cell_type": "markdown",
   "id": "63caec4f",
   "metadata": {},
   "source": [
    "Yes, we can have nested try-except blocks in Python. Here is an example to demonstrate nested try-except block :"
   ]
  },
  {
   "cell_type": "code",
   "execution_count": 13,
   "id": "a65d97b3",
   "metadata": {},
   "outputs": [
    {
     "name": "stdout",
     "output_type": "stream",
     "text": [
      "6\n",
      "2\n",
      "3.0\n",
      "8\n",
      "16\n"
     ]
    }
   ],
   "source": [
    "#nested try except \n",
    "try:\n",
    "    a=int(input())\n",
    "    b=int(input())\n",
    "    c=a/b\n",
    "    print(c)\n",
    "    try:\n",
    "        d=int(input())\n",
    "        print(d*2)\n",
    "    except:\n",
    "        print(\"You have taken invalid input\")\n",
    "except:\n",
    "    print(\"You should again check your input\")"
   ]
  },
  {
   "cell_type": "markdown",
   "id": "2f66193d",
   "metadata": {},
   "source": [
    "## Q6.) Can we use multiple exception blocks, if yes then give an example. "
   ]
  },
  {
   "cell_type": "markdown",
   "id": "f6dd45db",
   "metadata": {},
   "source": [
    "Using separate multiple except blocks is another way to catch multiple exceptions in Python. This method allows you to handle different exception types in different ways, making it ideal when you need to perform specific actions for each type of exception."
   ]
  },
  {
   "cell_type": "code",
   "execution_count": 63,
   "id": "ee02719e",
   "metadata": {},
   "outputs": [
    {
     "name": "stdout",
     "output_type": "stream",
     "text": [
      "You have imported wrong module\n"
     ]
    }
   ],
   "source": [
    "try:\n",
    "    import ABC\n",
    "    num = int(input(\"Enter a number: \"))\n",
    "    result = num**2\n",
    "       \n",
    "except ValueError:\n",
    "    print(\"You entered the wrong value\")\n",
    "except ImportError:\n",
    "    print(\"You have imported wrong module\")\n"
   ]
  },
  {
   "cell_type": "code",
   "execution_count": 64,
   "id": "86def1f7",
   "metadata": {},
   "outputs": [
    {
     "name": "stdout",
     "output_type": "stream",
     "text": [
      "Enter a number: hello\n",
      "You entered the wrong value\n"
     ]
    }
   ],
   "source": [
    "try:\n",
    "    import math\n",
    "    num = int(input(\"Enter a number: \"))\n",
    "    result = num**2\n",
    "       \n",
    "except ValueError:\n",
    "    print(\"You entered the wrong value\")\n",
    "except ImportError:\n",
    "    print(\"You have imported wrong module\")\n"
   ]
  },
  {
   "cell_type": "markdown",
   "id": "eb6b1808",
   "metadata": {},
   "source": [
    "## Q7.) Write the reason due to which following errors are raised:\n",
    "### a. EOFError\n",
    "### b. FloatingPointError\n",
    "### c. IndexError\n",
    "### d. MemoryError\n",
    "### e. OverflowError\n",
    "### f. TabError\n",
    "### g. ValueError "
   ]
  },
  {
   "cell_type": "markdown",
   "id": "62542676",
   "metadata": {},
   "source": [
    "**a.) EOFError :-** EOFError is raised when one of the built-in functions input() or raw_input() hits an end-of-file condition (EOF) without reading any data. This occurs when we have asked the user for input but have not provided any input in the input box.\n",
    "\n",
    "**b.) FloatingPointError :-** A floating-point error in Python refers to discrepancies between the expected and actual results when working with floating-point numbers, arising from the limitations of representing real numbers in a binary-based system.\n",
    "\n",
    "**c.) IndexError :-** IndexError occurs in Python when an item from a list is attempted to be accessed that is outside the index range of the list.\n",
    "\n",
    "**d.) MemoryError :-** MemoryError in python that occurs when where the memory of the RAM we are using could not support the execution of our code since the memory of the RAM is smaller and the code we are executing requires more than the memory of our existing RAM.\n",
    "\n",
    "**e.) OverflowError :-** OverflowError in Python occurs when an arithmetic operation exceeds the limits of the data type being used or exceeds the limit or value of current Python runtime values.\n",
    "\n",
    "**f.) TabError :-** TabError is raised when you try to indent code using both spaces and tabs. To fix this error, you need to use either spaces or tabs consistently in your code.\n",
    "\n",
    "**g.) ValueError :-** The Python ValueError is an exception that occurs when a function receives an argument of the correct data type but an inappropriate value."
   ]
  },
  {
   "cell_type": "markdown",
   "id": "f59cf26d",
   "metadata": {},
   "source": [
    "## Q8.) Write code for the following given scenario and add try-exception block to it.\n",
    "### a.) Program to divide two numbers "
   ]
  },
  {
   "cell_type": "code",
   "execution_count": 30,
   "id": "957c6001",
   "metadata": {},
   "outputs": [
    {
     "name": "stdout",
     "output_type": "stream",
     "text": [
      "Enter the first number : 6\n",
      "Enter the second number : 0\n",
      "Division by Zero\n"
     ]
    }
   ],
   "source": [
    "try:\n",
    "    num1 = int(input(\"Enter the first number : \"))\n",
    "    num2 = int(input(\"Enter the second number : \"))\n",
    "    result = num1/num2\n",
    "    \n",
    "except ValueError:\n",
    "    print(\"You entered the wrong value\")\n",
    "except ZeroDivisionError:\n",
    "    print(\"Division by Zero\")\n",
    "else:\n",
    "    print(result)"
   ]
  },
  {
   "cell_type": "markdown",
   "id": "afe3949b",
   "metadata": {},
   "source": [
    "### b.) Program to convert a string to an integer "
   ]
  },
  {
   "cell_type": "code",
   "execution_count": 52,
   "id": "69361bca",
   "metadata": {},
   "outputs": [
    {
     "name": "stdout",
     "output_type": "stream",
     "text": [
      "Enter a number: hello\n",
      "Invalid input. Please enter a valid number.\n"
     ]
    }
   ],
   "source": [
    "value = input(\"Enter a number: \")\n",
    "try:\n",
    "    number  =  int(value)\n",
    "    print(f\"Data Type of {value} before conversion is\",type(value))\n",
    "    print(f\"Data Type of {value} after conversion is\",type(number))\n",
    "    \n",
    "except  ValueError:\n",
    "    print(\"Invalid input. Please enter a valid number.\")"
   ]
  },
  {
   "cell_type": "markdown",
   "id": "6b3cd6b2",
   "metadata": {},
   "source": [
    "### c.) Program to access an element in a list"
   ]
  },
  {
   "cell_type": "code",
   "execution_count": 38,
   "id": "0ef6563a",
   "metadata": {},
   "outputs": [
    {
     "name": "stdout",
     "output_type": "stream",
     "text": [
      "Enter the number of elements to be inserted : 5\n",
      "Enter the elements : versace\n",
      "Enter the elements : coperni\n",
      "Enter the elements : off-white\n",
      "Enter the elements : valentino\n",
      "Enter the elements : dior\n",
      "Enter the index value : 6\n",
      "Index Out of Range\n"
     ]
    }
   ],
   "source": [
    "try:\n",
    "    list1 = []\n",
    "    n = int(input(\"Enter the number of elements to be inserted : \"))\n",
    "    for i in range(n):\n",
    "            ele = input(\"Enter the elements : \")\n",
    "            list1.append(ele)\n",
    "            \n",
    "    index = int(input(\"Enter the index value : \"))\n",
    "    print(list1[index])\n",
    "except IndexError:\n",
    "        print (\"Index Out of Range\")"
   ]
  },
  {
   "cell_type": "markdown",
   "id": "2f05d1e6",
   "metadata": {},
   "source": [
    "### d.) Program to handle a specific exception "
   ]
  },
  {
   "cell_type": "code",
   "execution_count": 42,
   "id": "66ab8ee6",
   "metadata": {},
   "outputs": [
    {
     "name": "stdout",
     "output_type": "stream",
     "text": [
      "Enter the key you want to get the value : brand4\n",
      "The key you entered is not present in the dictionary\n"
     ]
    }
   ],
   "source": [
    "try:\n",
    "    my_dict = {\"brand1\":\"Versace\",\"brand2\":\"Valentino\",\"brand3\":\"Gucci\"}\n",
    "    search_key = input(\"Enter the key you want to get the value : \")\n",
    "    print(my_dict[search_key])\n",
    "    \n",
    "except KeyError:\n",
    "    print(\"The key you entered is not present in the dictionary\")"
   ]
  },
  {
   "cell_type": "markdown",
   "id": "200d1ee7",
   "metadata": {},
   "source": [
    "### e.) Program to handle any exception"
   ]
  },
  {
   "cell_type": "code",
   "execution_count": 61,
   "id": "c35b81b1",
   "metadata": {},
   "outputs": [
    {
     "name": "stdout",
     "output_type": "stream",
     "text": [
      "Unexpected error\n"
     ]
    }
   ],
   "source": [
    "# trying to open a file, which does not exist\n",
    "try:\n",
    "    #trying to open a file in read mode\n",
    "    fo = open(\"myfile.txt\",\"r\")\n",
    "    print(\"File opened\")\n",
    "except:\n",
    "    print(\"Unexpected error\")"
   ]
  }
 ],
 "metadata": {
  "kernelspec": {
   "display_name": "Python 3 (ipykernel)",
   "language": "python",
   "name": "python3"
  },
  "language_info": {
   "codemirror_mode": {
    "name": "ipython",
    "version": 3
   },
   "file_extension": ".py",
   "mimetype": "text/x-python",
   "name": "python",
   "nbconvert_exporter": "python",
   "pygments_lexer": "ipython3",
   "version": "3.11.4"
  }
 },
 "nbformat": 4,
 "nbformat_minor": 5
}
