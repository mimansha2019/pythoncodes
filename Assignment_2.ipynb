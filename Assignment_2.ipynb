{
 "cells": [
  {
   "cell_type": "markdown",
   "id": "492ee50d",
   "metadata": {},
   "source": [
    "## Q1.) What are the two values of the Boolean data type? How do you write them? "
   ]
  },
  {
   "cell_type": "markdown",
   "id": "93bd91b9",
   "metadata": {},
   "source": [
    "Boolean data type takes two values that is True (1) and False (0). We write them like --"
   ]
  },
  {
   "cell_type": "code",
   "execution_count": 2,
   "id": "c31b12ae",
   "metadata": {},
   "outputs": [
    {
     "name": "stdout",
     "output_type": "stream",
     "text": [
      "True\n",
      "---------------------------\n",
      "False\n"
     ]
    }
   ],
   "source": [
    "bool1=True\n",
    "bool2=False\n",
    "print(bool1)\n",
    "print(\"---------------------------\")\n",
    "print(bool2)"
   ]
  },
  {
   "cell_type": "markdown",
   "id": "102db198",
   "metadata": {},
   "source": [
    "## Q2.) What are the three different types of Boolean Operators? "
   ]
  },
  {
   "cell_type": "markdown",
   "id": "57bda857",
   "metadata": {},
   "source": [
    "Three different types of Boolean Operators are --- \"AND\", \"OR\", and \"NOT\"."
   ]
  },
  {
   "cell_type": "code",
   "execution_count": 11,
   "id": "eb6a9d06",
   "metadata": {},
   "outputs": [
    {
     "name": "stdout",
     "output_type": "stream",
     "text": [
      "False\n"
     ]
    }
   ],
   "source": [
    "# \"AND\" Operator ---> The result of X & Y is TRUE if both X and Y evaluate to True. Otherwise, the result is FALSE.\n",
    "\n",
    "x=True\n",
    "y=False\n",
    "print(x and y)"
   ]
  },
  {
   "cell_type": "code",
   "execution_count": 12,
   "id": "f99ae541",
   "metadata": {},
   "outputs": [
    {
     "name": "stdout",
     "output_type": "stream",
     "text": [
      "True\n"
     ]
    }
   ],
   "source": [
    "x=True\n",
    "y=True\n",
    "print(x and y)"
   ]
  },
  {
   "cell_type": "code",
   "execution_count": 13,
   "id": "039fb011",
   "metadata": {},
   "outputs": [
    {
     "name": "stdout",
     "output_type": "stream",
     "text": [
      "True\n"
     ]
    }
   ],
   "source": [
    "# \"OR\" Operator ---> The result of X | Y is TRUE if either X or Y evaluates to True. Otherwise, the result is FALSE.\n",
    "\n",
    "x=True\n",
    "y=False\n",
    "print(x or y)"
   ]
  },
  {
   "cell_type": "code",
   "execution_count": 14,
   "id": "2f52c9fa",
   "metadata": {},
   "outputs": [
    {
     "name": "stdout",
     "output_type": "stream",
     "text": [
      "False\n"
     ]
    }
   ],
   "source": [
    "x=False\n",
    "y=False\n",
    "print(x or y)"
   ]
  },
  {
   "cell_type": "code",
   "execution_count": 15,
   "id": "851fd174",
   "metadata": {},
   "outputs": [
    {
     "name": "stdout",
     "output_type": "stream",
     "text": [
      "False\n"
     ]
    }
   ],
   "source": [
    "# \"NOT\" Operator ---> The result is TRUE if the value of X is FALSE and vice-versa.\n",
    "\n",
    "x=True\n",
    "print(not x)"
   ]
  },
  {
   "cell_type": "code",
   "execution_count": 16,
   "id": "c42a00c4",
   "metadata": {},
   "outputs": [
    {
     "name": "stdout",
     "output_type": "stream",
     "text": [
      "True\n"
     ]
    }
   ],
   "source": [
    "x=False\n",
    "print(not x)"
   ]
  },
  {
   "cell_type": "markdown",
   "id": "8e54d13c",
   "metadata": {},
   "source": [
    "## Q3.) Make a list of each Boolean Operator's Truth Tables (i.e. every possible combination of Boolean values for the operator and what it evaluates). "
   ]
  },
  {
   "cell_type": "markdown",
   "id": "026ef2ae",
   "metadata": {},
   "source": [
    "XXXXXXXXXXXXXXXXXXXXXXXXXXXXXXXX TRUTH TABLES XXXXXXXXXXXXXXXXXXXXXXXXXXXXXXXXXXXXXXX\n",
    "\n",
    "    AND OPERATOR\n",
    "--------------------------\n",
    "\n",
    "  A       B       OUTPUT\n",
    "  0       0         0\n",
    "  1       0         0\n",
    "  0       1         0\n",
    "  1       1         1\n",
    "    \n",
    "    OR OPERATOR\n",
    "--------------------------\n",
    "\n",
    "  A       B       OUTPUT\n",
    "  0       0         0\n",
    "  1       0         1\n",
    "  0       1         1\n",
    "  1       1         1\n",
    "    \n",
    "    NOT OPERATOR\n",
    "--------------------------\n",
    "   A       OUTPUT\n",
    "   0         1\n",
    "   1         0"
   ]
  },
  {
   "cell_type": "code",
   "execution_count": 17,
   "id": "2a846b65",
   "metadata": {},
   "outputs": [
    {
     "name": "stdout",
     "output_type": "stream",
     "text": [
      "True\n"
     ]
    }
   ],
   "source": [
    "# AND OPERATOR\n",
    "\n",
    "x=1\n",
    "y=1\n",
    "print(x and y)"
   ]
  },
  {
   "cell_type": "code",
   "execution_count": 18,
   "id": "dfdca21c",
   "metadata": {},
   "outputs": [
    {
     "name": "stdout",
     "output_type": "stream",
     "text": [
      "False\n"
     ]
    }
   ],
   "source": [
    "x=1\n",
    "y=0\n",
    "print(x and y)"
   ]
  },
  {
   "cell_type": "code",
   "execution_count": 19,
   "id": "4ffeec5e",
   "metadata": {},
   "outputs": [
    {
     "name": "stdout",
     "output_type": "stream",
     "text": [
      "False\n"
     ]
    }
   ],
   "source": [
    "x=0\n",
    "y=1\n",
    "print(x and y)"
   ]
  },
  {
   "cell_type": "code",
   "execution_count": 20,
   "id": "444544c8",
   "metadata": {},
   "outputs": [
    {
     "name": "stdout",
     "output_type": "stream",
     "text": [
      "False\n"
     ]
    }
   ],
   "source": [
    "x=0\n",
    "y=0\n",
    "print(x and y)"
   ]
  },
  {
   "cell_type": "code",
   "execution_count": 21,
   "id": "2a52d000",
   "metadata": {},
   "outputs": [
    {
     "name": "stdout",
     "output_type": "stream",
     "text": [
      "True\n"
     ]
    }
   ],
   "source": [
    "# OR OPERATOR\n",
    "\n",
    "x=1\n",
    "y=1\n",
    "print(x or y)"
   ]
  },
  {
   "cell_type": "code",
   "execution_count": 23,
   "id": "9a9193e0",
   "metadata": {},
   "outputs": [
    {
     "name": "stdout",
     "output_type": "stream",
     "text": [
      "True\n"
     ]
    }
   ],
   "source": [
    "x=1\n",
    "y=0\n",
    "print(x or y)"
   ]
  },
  {
   "cell_type": "code",
   "execution_count": 24,
   "id": "a5c7fb4e",
   "metadata": {},
   "outputs": [
    {
     "name": "stdout",
     "output_type": "stream",
     "text": [
      "True\n"
     ]
    }
   ],
   "source": [
    "x=0\n",
    "y=1\n",
    "print(x or y)"
   ]
  },
  {
   "cell_type": "code",
   "execution_count": 25,
   "id": "652a9147",
   "metadata": {},
   "outputs": [
    {
     "name": "stdout",
     "output_type": "stream",
     "text": [
      "False\n"
     ]
    }
   ],
   "source": [
    "x=0\n",
    "y=0\n",
    "print(x or y)"
   ]
  },
  {
   "cell_type": "code",
   "execution_count": 46,
   "id": "ef4dd061",
   "metadata": {},
   "outputs": [
    {
     "name": "stdout",
     "output_type": "stream",
     "text": [
      "False\n"
     ]
    }
   ],
   "source": [
    "# NOT OPERATOR\n",
    "\n",
    "x=1\n",
    "print(not x)"
   ]
  },
  {
   "cell_type": "code",
   "execution_count": 47,
   "id": "c8a10a58",
   "metadata": {},
   "outputs": [
    {
     "name": "stdout",
     "output_type": "stream",
     "text": [
      "True\n"
     ]
    }
   ],
   "source": [
    "x=0\n",
    "print(not x)"
   ]
  },
  {
   "cell_type": "markdown",
   "id": "33448775",
   "metadata": {},
   "source": [
    "## Q4.) What are the values of the following expressions?\n"
   ]
  },
  {
   "cell_type": "code",
   "execution_count": 28,
   "id": "657ee988",
   "metadata": {},
   "outputs": [
    {
     "data": {
      "text/plain": [
       "False"
      ]
     },
     "execution_count": 28,
     "metadata": {},
     "output_type": "execute_result"
    }
   ],
   "source": [
    "(5>4) and (3==5)"
   ]
  },
  {
   "cell_type": "code",
   "execution_count": 29,
   "id": "59ff2447",
   "metadata": {},
   "outputs": [
    {
     "data": {
      "text/plain": [
       "False"
      ]
     },
     "execution_count": 29,
     "metadata": {},
     "output_type": "execute_result"
    }
   ],
   "source": [
    "not (5>4)"
   ]
  },
  {
   "cell_type": "code",
   "execution_count": 30,
   "id": "d68acf2a",
   "metadata": {},
   "outputs": [
    {
     "data": {
      "text/plain": [
       "True"
      ]
     },
     "execution_count": 30,
     "metadata": {},
     "output_type": "execute_result"
    }
   ],
   "source": [
    "(5>4) or (3==5)"
   ]
  },
  {
   "cell_type": "code",
   "execution_count": 31,
   "id": "b38c615e",
   "metadata": {},
   "outputs": [
    {
     "data": {
      "text/plain": [
       "False"
      ]
     },
     "execution_count": 31,
     "metadata": {},
     "output_type": "execute_result"
    }
   ],
   "source": [
    "not((5>4) or (3==5))"
   ]
  },
  {
   "cell_type": "code",
   "execution_count": 32,
   "id": "8504d428",
   "metadata": {},
   "outputs": [
    {
     "data": {
      "text/plain": [
       "False"
      ]
     },
     "execution_count": 32,
     "metadata": {},
     "output_type": "execute_result"
    }
   ],
   "source": [
    "(True and True) and (True==False)"
   ]
  },
  {
   "cell_type": "code",
   "execution_count": 33,
   "id": "01ae1607",
   "metadata": {},
   "outputs": [
    {
     "data": {
      "text/plain": [
       "True"
      ]
     },
     "execution_count": 33,
     "metadata": {},
     "output_type": "execute_result"
    }
   ],
   "source": [
    "(not False) or (not True)"
   ]
  },
  {
   "cell_type": "markdown",
   "id": "d2954647",
   "metadata": {},
   "source": [
    "## Q5.) What are six comparison operators? "
   ]
  },
  {
   "cell_type": "markdown",
   "id": "20f39ab7",
   "metadata": {},
   "source": [
    "The six comparison operators are :- >,<,==,>=,<=,!="
   ]
  },
  {
   "cell_type": "code",
   "execution_count": 34,
   "id": "05e4121e",
   "metadata": {},
   "outputs": [
    {
     "data": {
      "text/plain": [
       "True"
      ]
     },
     "execution_count": 34,
     "metadata": {},
     "output_type": "execute_result"
    }
   ],
   "source": [
    "# > (greater than)\n",
    "\n",
    "(5>4)"
   ]
  },
  {
   "cell_type": "code",
   "execution_count": 35,
   "id": "c3c0a99b",
   "metadata": {},
   "outputs": [
    {
     "data": {
      "text/plain": [
       "False"
      ]
     },
     "execution_count": 35,
     "metadata": {},
     "output_type": "execute_result"
    }
   ],
   "source": [
    "# < (less than)\n",
    "\n",
    "(5<4)"
   ]
  },
  {
   "cell_type": "code",
   "execution_count": 36,
   "id": "9ed25fe2",
   "metadata": {},
   "outputs": [
    {
     "data": {
      "text/plain": [
       "True"
      ]
     },
     "execution_count": 36,
     "metadata": {},
     "output_type": "execute_result"
    }
   ],
   "source": [
    "# == (equal operator)\n",
    "\n",
    "10==10"
   ]
  },
  {
   "cell_type": "code",
   "execution_count": 37,
   "id": "66d36d84",
   "metadata": {},
   "outputs": [
    {
     "data": {
      "text/plain": [
       "True"
      ]
     },
     "execution_count": 37,
     "metadata": {},
     "output_type": "execute_result"
    }
   ],
   "source": [
    "# >= (greater than equal to)\n",
    "\n",
    "7>=4"
   ]
  },
  {
   "cell_type": "code",
   "execution_count": 38,
   "id": "2820415c",
   "metadata": {},
   "outputs": [
    {
     "data": {
      "text/plain": [
       "True"
      ]
     },
     "execution_count": 38,
     "metadata": {},
     "output_type": "execute_result"
    }
   ],
   "source": [
    "7>=7"
   ]
  },
  {
   "cell_type": "code",
   "execution_count": 39,
   "id": "b344762b",
   "metadata": {},
   "outputs": [
    {
     "data": {
      "text/plain": [
       "True"
      ]
     },
     "execution_count": 39,
     "metadata": {},
     "output_type": "execute_result"
    }
   ],
   "source": [
    "# <= (less than equal to)\n",
    "\n",
    "5<=9"
   ]
  },
  {
   "cell_type": "code",
   "execution_count": 40,
   "id": "b609ce1a",
   "metadata": {},
   "outputs": [
    {
     "data": {
      "text/plain": [
       "True"
      ]
     },
     "execution_count": 40,
     "metadata": {},
     "output_type": "execute_result"
    }
   ],
   "source": [
    "# != (not equal to)\n",
    "\n",
    "2!=9"
   ]
  },
  {
   "cell_type": "markdown",
   "id": "268784c4",
   "metadata": {},
   "source": [
    "## Q6.) How do you tell the difference between the equal to and assignment operators? Describe a condition and when you would use one. "
   ]
  },
  {
   "cell_type": "markdown",
   "id": "2958f231",
   "metadata": {},
   "source": [
    "Equal to operator (==) is used when we want to do the comparison between the two conditions if they are equal or not and Assignment Operators (=) are used when we want to assign the value to a variable with a value, class or function."
   ]
  },
  {
   "cell_type": "code",
   "execution_count": 41,
   "id": "3d0981f1",
   "metadata": {},
   "outputs": [
    {
     "name": "stdout",
     "output_type": "stream",
     "text": [
      "False\n"
     ]
    }
   ],
   "source": [
    "# Here, we are assigning the value of (2==3) to x with the help of assignment operator and in (2==3), here we are using\n",
    "# equal to operator to find out the boolean value to be assigned.\n",
    "\n",
    "x = (2==3)\n",
    "print(x)"
   ]
  },
  {
   "cell_type": "markdown",
   "id": "f0c9e0b6",
   "metadata": {},
   "source": [
    "## Q7.) Identify the three blocks in this code :"
   ]
  },
  {
   "cell_type": "code",
   "execution_count": 48,
   "id": "db21690c",
   "metadata": {},
   "outputs": [
    {
     "name": "stdout",
     "output_type": "stream",
     "text": [
      "ham\n",
      "spam\n",
      "spam\n"
     ]
    }
   ],
   "source": [
    "spam = 0\n",
    "if spam == 10:\n",
    "    print(\"eggs\")   # Block 1\n",
    "if spam > 5:\n",
    "    print(\"bacon\")  # Block 2\n",
    "else:\n",
    "    print(\"ham\")\n",
    "    print(\"spam\")\n",
    "    print(\"spam\")   # Block 3"
   ]
  },
  {
   "cell_type": "markdown",
   "id": "780396ed",
   "metadata": {},
   "source": [
    "## Q8.) Write code that prints Hello if 1 is stored in spam, prints Howdy if 2 is stored in spam, and prints Greetings! if anything else is stored in spam. "
   ]
  },
  {
   "cell_type": "code",
   "execution_count": 45,
   "id": "14fca735",
   "metadata": {},
   "outputs": [
    {
     "name": "stdout",
     "output_type": "stream",
     "text": [
      "Enter the value: 3\n",
      "Greetings!\n"
     ]
    }
   ],
   "source": [
    "spam=input(\"Enter the value: \")\n",
    "\n",
    "if spam==\"1\":\n",
    "    print(\"Hello\")\n",
    "elif spam==\"2\":\n",
    "    print(\"Howdy\")\n",
    "else:\n",
    "    print(\"Greetings!\")"
   ]
  },
  {
   "cell_type": "markdown",
   "id": "64603df3",
   "metadata": {},
   "source": [
    "## Q9.) If your programme is stuck in an endless loop, what keys you'll press? "
   ]
  },
  {
   "cell_type": "markdown",
   "id": "d325547d",
   "metadata": {},
   "source": [
    "Ctrl+C is used to interrupt the endless loop and exit that loop."
   ]
  },
  {
   "cell_type": "markdown",
   "id": "12ead622",
   "metadata": {},
   "source": [
    "## Q10.) How can you tell the difference between break and continue? "
   ]
  },
  {
   "cell_type": "markdown",
   "id": "528e7fd3",
   "metadata": {},
   "source": [
    "Break statememt terminates the entire process or iteration of the loop but Continue statement only stops the current iteration of the loop and resumes with the next iteration."
   ]
  },
  {
   "cell_type": "code",
   "execution_count": 52,
   "id": "225bb09c",
   "metadata": {},
   "outputs": [
    {
     "name": "stdout",
     "output_type": "stream",
     "text": [
      "0 1 2 3 4 "
     ]
    }
   ],
   "source": [
    "# example of break statement\n",
    "\n",
    "for i in range(10):\n",
    "    if i==5:\n",
    "        break\n",
    "    print(i,end=\" \")"
   ]
  },
  {
   "cell_type": "code",
   "execution_count": 51,
   "id": "d9acdb95",
   "metadata": {},
   "outputs": [
    {
     "name": "stdout",
     "output_type": "stream",
     "text": [
      "0 1 2 3 4 6 7 8 9 "
     ]
    }
   ],
   "source": [
    "# example of continue statement\n",
    "\n",
    "for i in range(10):\n",
    "    if i==5:\n",
    "        continue\n",
    "    print(i,end=\" \")"
   ]
  },
  {
   "cell_type": "markdown",
   "id": "1050639b",
   "metadata": {},
   "source": [
    "## Q11.) In a for loop, what is the difference between range(10), range(0,10), and range(0,10,1)? "
   ]
  },
  {
   "cell_type": "markdown",
   "id": "4cf47efb",
   "metadata": {},
   "source": [
    "In a for loop, the range(10) and range(0,10) signifies the same thing. Both of the range value will start from 0 and go till 9 leaving the upper value given i.e. 10."
   ]
  },
  {
   "cell_type": "code",
   "execution_count": 54,
   "id": "e9a446cb",
   "metadata": {},
   "outputs": [
    {
     "name": "stdout",
     "output_type": "stream",
     "text": [
      "0 1 2 3 4 5 6 7 8 9 "
     ]
    }
   ],
   "source": [
    "for i in range(10):\n",
    "    print(i,end=\" \")"
   ]
  },
  {
   "cell_type": "code",
   "execution_count": 55,
   "id": "0cc9fa12",
   "metadata": {},
   "outputs": [
    {
     "name": "stdout",
     "output_type": "stream",
     "text": [
      "0 1 2 3 4 5 6 7 8 9 "
     ]
    }
   ],
   "source": [
    "for i in range(0,10):\n",
    "    print(i,end=\" \")"
   ]
  },
  {
   "cell_type": "markdown",
   "id": "233ee784",
   "metadata": {},
   "source": [
    "In a for loop, range(0,10,1) signifies that the value will start from 0 till 9 (leaving the upper bound number) and the step size will be 1 which will give the output (0,1,2,3,4,5,6,7,8,9). Had the step size been 2 it would have given the output skipping two digits like (0,2,4,6,8). \n",
    "\n",
    "Basically, all the three ranges provided will give the same output in a for loop."
   ]
  },
  {
   "cell_type": "code",
   "execution_count": 58,
   "id": "ebaef09f",
   "metadata": {},
   "outputs": [
    {
     "name": "stdout",
     "output_type": "stream",
     "text": [
      "0 1 2 3 4 5 6 7 8 9 "
     ]
    }
   ],
   "source": [
    "for i in range(0,10,1):\n",
    "    print(i,end=\" \")"
   ]
  },
  {
   "cell_type": "markdown",
   "id": "11e674e4",
   "metadata": {},
   "source": [
    "## Q12.) Write a short program that prints the numbers 1 to 10 using a for loop. Then write an equivalent program that prints the numbers 1 to 10 using a while loop. "
   ]
  },
  {
   "cell_type": "code",
   "execution_count": 59,
   "id": "15eea308",
   "metadata": {},
   "outputs": [
    {
     "name": "stdout",
     "output_type": "stream",
     "text": [
      "1 2 3 4 5 6 7 8 9 10 "
     ]
    }
   ],
   "source": [
    "for i in range(1,11):\n",
    "    print(i,end=\" \")"
   ]
  },
  {
   "cell_type": "code",
   "execution_count": 63,
   "id": "ce7a4e10",
   "metadata": {},
   "outputs": [
    {
     "name": "stdout",
     "output_type": "stream",
     "text": [
      "1 2 3 4 5 6 7 8 9 10 "
     ]
    }
   ],
   "source": [
    "x=1\n",
    "while x<11:\n",
    "    print(x, end=\" \")\n",
    "    x+=1\n",
    "    "
   ]
  },
  {
   "cell_type": "markdown",
   "id": "7628992d",
   "metadata": {},
   "source": [
    "## Q13.) If you had a function named bacon() inside a module named spam, how would you call it after importing spam?  "
   ]
  },
  {
   "cell_type": "markdown",
   "id": "b28a757a",
   "metadata": {},
   "source": [
    "We will call it using spam.bacon()."
   ]
  }
 ],
 "metadata": {
  "kernelspec": {
   "display_name": "Python 3 (ipykernel)",
   "language": "python",
   "name": "python3"
  },
  "language_info": {
   "codemirror_mode": {
    "name": "ipython",
    "version": 3
   },
   "file_extension": ".py",
   "mimetype": "text/x-python",
   "name": "python",
   "nbconvert_exporter": "python",
   "pygments_lexer": "ipython3",
   "version": "3.11.4"
  }
 },
 "nbformat": 4,
 "nbformat_minor": 5
}
