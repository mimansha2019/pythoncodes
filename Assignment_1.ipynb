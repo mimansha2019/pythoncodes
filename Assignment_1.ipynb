{
 "cells": [
  {
   "cell_type": "markdown",
   "id": "9793e824",
   "metadata": {},
   "source": [
    "## Q1.) In the below elements which of them are values or an expression? eg:- values can be integer or string and expressions will be mathematical operators."
   ]
  },
  {
   "cell_type": "markdown",
   "id": "7ce63eb0",
   "metadata": {},
   "source": [
    "a) *       ---> mathematical operator (multiplication)\n",
    "\n",
    "b) 'hello' ---> string\n",
    "\n",
    "c) -87.8   ---> float\n",
    "\n",
    "d) -       ---> mathematical operator (subtraction)\n",
    "\n",
    "e) /       ---> mathematical operator (division)\n",
    "\n",
    "f) +       ---> mathematical operator (addition)\n",
    "\n",
    "g) 6       ---> integer"
   ]
  },
  {
   "cell_type": "markdown",
   "id": "3e8ff441",
   "metadata": {},
   "source": [
    "## Q2.) What is the difference between string and a variable? "
   ]
  },
  {
   "cell_type": "markdown",
   "id": "17e8b54b",
   "metadata": {},
   "source": [
    "Variables are identifiers which stores value or data. It can store Integer, Floating Point, String, Boolean values and many more. It follows a naming convention in which we use lowercase alphabets (a,b,c....,z), uppercase alphabets (A,B,C...,Z), integers (0,1,2,....9) and underscore (_).\n",
    "\n",
    "String is a Data Type. Strings are declared inside (\"...\") or ('...'). It contains a list of characters in order. It can contain alphabets, numbers as well as special characters."
   ]
  },
  {
   "cell_type": "code",
   "execution_count": 1,
   "id": "c3071cce",
   "metadata": {},
   "outputs": [
    {
     "name": "stdout",
     "output_type": "stream",
     "text": [
      "Hello, What is your name and age?\n",
      "My name is Taylor and my age is 30.\n"
     ]
    }
   ],
   "source": [
    "# String as a value inside a variable\n",
    "\n",
    "input_1=\"Hello, What is your name and age?\"\n",
    "input_2=\"My name is Taylor and my age is 30.\"\n",
    "\n",
    "print(input_1)\n",
    "print(input_2)"
   ]
  },
  {
   "cell_type": "markdown",
   "id": "e7cad233",
   "metadata": {},
   "source": [
    "## Q3.) Describe three different data types."
   ]
  },
  {
   "cell_type": "markdown",
   "id": "e7a4ae8c",
   "metadata": {},
   "source": [
    "Three different data types are :-\n",
    "\n",
    "1) Integers :- They are whole numbers, without fractional component. They can be positive or negative.\n",
    "   For eg. x=10, y= -7\n",
    "   \n",
    "2) Float :- They represent real numbers and are written with a decimal point.\n",
    "   For eg. x=10.0, y= -1.414\n",
    "   \n",
    "3) String :- Strings in python are sequence of character data. They are created by enclosing characters in quotes.\n",
    "   For eg. string1= \"Hello World!\""
   ]
  },
  {
   "cell_type": "code",
   "execution_count": 2,
   "id": "8a486411",
   "metadata": {},
   "outputs": [
    {
     "data": {
      "text/plain": [
       "int"
      ]
     },
     "execution_count": 2,
     "metadata": {},
     "output_type": "execute_result"
    }
   ],
   "source": [
    "x=10\n",
    "type(x)"
   ]
  },
  {
   "cell_type": "code",
   "execution_count": 3,
   "id": "70db3b48",
   "metadata": {},
   "outputs": [
    {
     "data": {
      "text/plain": [
       "float"
      ]
     },
     "execution_count": 3,
     "metadata": {},
     "output_type": "execute_result"
    }
   ],
   "source": [
    "a=1.414\n",
    "type(a)"
   ]
  },
  {
   "cell_type": "code",
   "execution_count": 4,
   "id": "28fa4bed",
   "metadata": {},
   "outputs": [
    {
     "data": {
      "text/plain": [
       "str"
      ]
     },
     "execution_count": 4,
     "metadata": {},
     "output_type": "execute_result"
    }
   ],
   "source": [
    "s=\"Hello World!\"\n",
    "type(s)"
   ]
  },
  {
   "cell_type": "markdown",
   "id": "4f189a14",
   "metadata": {},
   "source": [
    "## Q4.) What is an expression made up of? What do all expressions do?"
   ]
  },
  {
   "cell_type": "markdown",
   "id": "479a111c",
   "metadata": {},
   "source": [
    "An expression in Python is made up of operators, operands, identifiers and sometimes parenthesis. Expressions help in producing some value or result after being interpreted by the Python Interpreter.\n",
    "\n",
    "Example of expression :-"
   ]
  },
  {
   "cell_type": "code",
   "execution_count": 5,
   "id": "9eb936a4",
   "metadata": {},
   "outputs": [
    {
     "name": "stdout",
     "output_type": "stream",
     "text": [
      "50\n"
     ]
    }
   ],
   "source": [
    "x=25       # statement\n",
    "b=x+25     # expression\n",
    "print(b)"
   ]
  },
  {
   "cell_type": "markdown",
   "id": "30cf895b",
   "metadata": {},
   "source": [
    "## Q5.) This assignment statement, like spam = 10. What is the difference between an expression and a statement? "
   ]
  },
  {
   "cell_type": "markdown",
   "id": "9b8843fe",
   "metadata": {},
   "source": [
    "Statement :- A statement in Python is a logical instruction that the Python Interpreter can read and execute. It is generally used for creating variables or displaying values. \n",
    "\n",
    "Expression :- It produces some value or result after being interpreted by the Python interpreter. It is a combination of variables, operators and operands.\n",
    "\n",
    "For eg. -> In the above example, spam = 10 is a statement. Here, spam is getting assigned the value 10.\n",
    "But, if we write spam+=10. Then it becomes an expression where again 10 will get added to spam and its value will get updated to 20."
   ]
  },
  {
   "cell_type": "code",
   "execution_count": 6,
   "id": "047a49b0",
   "metadata": {},
   "outputs": [
    {
     "name": "stdout",
     "output_type": "stream",
     "text": [
      "10\n"
     ]
    }
   ],
   "source": [
    "spam =10\n",
    "print(spam)"
   ]
  },
  {
   "cell_type": "code",
   "execution_count": 7,
   "id": "ec14aa02",
   "metadata": {},
   "outputs": [
    {
     "name": "stdout",
     "output_type": "stream",
     "text": [
      "20\n"
     ]
    }
   ],
   "source": [
    "spam+=10       # spam+=10 can be rewritten as spam = spam+10\n",
    "print(spam)"
   ]
  },
  {
   "cell_type": "markdown",
   "id": "1f287f2d",
   "metadata": {},
   "source": [
    "## Q6.) After running the following code, what does the variable bacon contain?\n",
    "\n",
    "## bacon = 22\n",
    "## bacon + 1"
   ]
  },
  {
   "cell_type": "code",
   "execution_count": 13,
   "id": "8e0e6055",
   "metadata": {},
   "outputs": [
    {
     "data": {
      "text/plain": [
       "23"
      ]
     },
     "execution_count": 13,
     "metadata": {},
     "output_type": "execute_result"
    }
   ],
   "source": [
    "bacon = 22\n",
    "bacon+1"
   ]
  },
  {
   "cell_type": "code",
   "execution_count": 14,
   "id": "25a3d0c1",
   "metadata": {},
   "outputs": [
    {
     "name": "stdout",
     "output_type": "stream",
     "text": [
      "22\n"
     ]
    }
   ],
   "source": [
    "print(bacon)    # we are adding 1 to bacon but the variable bacon will still contain the value 22"
   ]
  },
  {
   "cell_type": "code",
   "execution_count": 15,
   "id": "6338b078",
   "metadata": {},
   "outputs": [
    {
     "name": "stdout",
     "output_type": "stream",
     "text": [
      "23\n"
     ]
    }
   ],
   "source": [
    "# if we had written \n",
    "bacon+=1   #This would have initialized and updated the value of the variable bacon to 23\n",
    "print(bacon)"
   ]
  },
  {
   "cell_type": "markdown",
   "id": "e196266c",
   "metadata": {},
   "source": [
    "## Q7.) What should be the values of the following two terms be?\n",
    " \n",
    "## 'spam'+'spamspam'\n",
    "## 'spam'*3"
   ]
  },
  {
   "cell_type": "markdown",
   "id": "13a3255c",
   "metadata": {},
   "source": [
    "The output for both will be 'spamspamspam'. In the first case, we are doing concatenation between the strings and in the second case, multiplying it by 3 will give three spam outputs means it gets replicated that number of times."
   ]
  },
  {
   "cell_type": "code",
   "execution_count": 16,
   "id": "19d29798",
   "metadata": {},
   "outputs": [
    {
     "data": {
      "text/plain": [
       "'spamspamspam'"
      ]
     },
     "execution_count": 16,
     "metadata": {},
     "output_type": "execute_result"
    }
   ],
   "source": [
    "'spam'+'spamspam'"
   ]
  },
  {
   "cell_type": "code",
   "execution_count": 17,
   "id": "b9148c69",
   "metadata": {},
   "outputs": [
    {
     "data": {
      "text/plain": [
       "'spamspamspam'"
      ]
     },
     "execution_count": 17,
     "metadata": {},
     "output_type": "execute_result"
    }
   ],
   "source": [
    "'spam'*3"
   ]
  },
  {
   "cell_type": "markdown",
   "id": "79fc7517",
   "metadata": {},
   "source": [
    "## Q8.) Why is eggs a valid variable name while 100 is invalid? "
   ]
  },
  {
   "cell_type": "markdown",
   "id": "e318328c",
   "metadata": {},
   "source": [
    "While we name the identifiers, we follow a naming convention which states, we can start the name of the identifier with lowercase alphabets, uppercase alphabets and even an underscore (_). But, we can't start the name of an identifer with numerical data. That's why eggs is a valid variable name and 100 is invalid."
   ]
  },
  {
   "cell_type": "markdown",
   "id": "04521ec8",
   "metadata": {},
   "source": [
    "## Q9.) What three functions can be used to get the integer, floating-point number, or string version of a value? "
   ]
  },
  {
   "cell_type": "markdown",
   "id": "c52073fa",
   "metadata": {},
   "source": [
    "We can do typecasting and use int(), float(), str() functions to get the integer, floating-point number, or string version of a value."
   ]
  },
  {
   "cell_type": "code",
   "execution_count": 20,
   "id": "8ca2e7d5",
   "metadata": {},
   "outputs": [
    {
     "data": {
      "text/plain": [
       "int"
      ]
     },
     "execution_count": 20,
     "metadata": {},
     "output_type": "execute_result"
    }
   ],
   "source": [
    "a=int(3.4)\n",
    "type(a)"
   ]
  },
  {
   "cell_type": "code",
   "execution_count": 23,
   "id": "740d3599",
   "metadata": {},
   "outputs": [
    {
     "data": {
      "text/plain": [
       "float"
      ]
     },
     "execution_count": 23,
     "metadata": {},
     "output_type": "execute_result"
    }
   ],
   "source": [
    "b=float(3.4)\n",
    "type(b)"
   ]
  },
  {
   "cell_type": "code",
   "execution_count": 24,
   "id": "7a155dcd",
   "metadata": {},
   "outputs": [
    {
     "data": {
      "text/plain": [
       "str"
      ]
     },
     "execution_count": 24,
     "metadata": {},
     "output_type": "execute_result"
    }
   ],
   "source": [
    "c=str(3.4)\n",
    "type(c)"
   ]
  },
  {
   "cell_type": "markdown",
   "id": "467c9fa4",
   "metadata": {},
   "source": [
    "##  Q10.) Why does this expression cause an error? How can you fix it?\n",
    "\n",
    "## 'I have eaten' +99+'burritos.'"
   ]
  },
  {
   "cell_type": "markdown",
   "id": "e3de4c94",
   "metadata": {},
   "source": [
    "In this expression, the value 99 passed as an integer causes the error, because to concatenate we need to have same data type. So, to fix this we will have to pass 99 as a string in the expression."
   ]
  },
  {
   "cell_type": "code",
   "execution_count": 26,
   "id": "76443d80",
   "metadata": {},
   "outputs": [
    {
     "data": {
      "text/plain": [
       "'I have eaten 99  burritos'"
      ]
     },
     "execution_count": 26,
     "metadata": {},
     "output_type": "execute_result"
    }
   ],
   "source": [
    "'I have eaten' + ' 99 ' +' burritos'"
   ]
  }
 ],
 "metadata": {
  "kernelspec": {
   "display_name": "Python 3 (ipykernel)",
   "language": "python",
   "name": "python3"
  },
  "language_info": {
   "codemirror_mode": {
    "name": "ipython",
    "version": 3
   },
   "file_extension": ".py",
   "mimetype": "text/x-python",
   "name": "python",
   "nbconvert_exporter": "python",
   "pygments_lexer": "ipython3",
   "version": "3.11.4"
  }
 },
 "nbformat": 4,
 "nbformat_minor": 5
}
