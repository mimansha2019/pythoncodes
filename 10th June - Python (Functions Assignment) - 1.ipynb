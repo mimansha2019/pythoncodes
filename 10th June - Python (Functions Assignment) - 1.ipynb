{
 "cells": [
  {
   "cell_type": "markdown",
   "id": "3a50da6e",
   "metadata": {},
   "source": [
    "## Q1.) In Python, what is the difference between a built-in function and a user-defined function? Provide an example of each. "
   ]
  },
  {
   "cell_type": "markdown",
   "id": "af7a7c06",
   "metadata": {},
   "source": [
    "**Built-in functions** are functions that are **pre-defined in Python**. They are a part of the core functionality of the language and are available for use without the need to define them. Some examples of built-in functions in Python are len(), which returns the length of an object, and sum(), which calculates the sum of the elements in an iterable.\n",
    "\n",
    "**User-defined functions** are functions that are **defined by the programmer**. They can be used to perform any specific task or to reduce the complexity of big problems. User-defined functions can be defined anywhere in the program, but they are usually defined at the top of the program, outside of any loops or conditional statements."
   ]
  },
  {
   "cell_type": "code",
   "execution_count": 1,
   "id": "0c987bf9",
   "metadata": {},
   "outputs": [
    {
     "data": {
      "text/plain": [
       "16"
      ]
     },
     "execution_count": 1,
     "metadata": {},
     "output_type": "execute_result"
    }
   ],
   "source": [
    "# Built-in function\n",
    "\n",
    "my_string=\"Mercedes G-Wagon\"\n",
    "len(my_string)"
   ]
  },
  {
   "cell_type": "code",
   "execution_count": 2,
   "id": "d3c8998a",
   "metadata": {},
   "outputs": [],
   "source": [
    "# User-Defined function\n",
    "\n",
    "def greet_name(name):\n",
    "    print(f\"Hello, {name}\")"
   ]
  },
  {
   "cell_type": "code",
   "execution_count": 3,
   "id": "60f7d0ea",
   "metadata": {},
   "outputs": [
    {
     "name": "stdout",
     "output_type": "stream",
     "text": [
      "Hello, Elon Musk\n"
     ]
    }
   ],
   "source": [
    "greet_name(\"Elon Musk\")"
   ]
  },
  {
   "cell_type": "markdown",
   "id": "6561c34e",
   "metadata": {},
   "source": [
    "## Q2.) How can you pass arguments to a function in Python? Explain the difference between positional arguments and keyword arguments. "
   ]
  },
  {
   "cell_type": "markdown",
   "id": "1db29e71",
   "metadata": {},
   "source": [
    "To pass arguments to a function. We follow these steps :- \n",
    "\n",
    "**1. Define the function -->** First we define a function. The function definition includes the function's name, the parameters that the function takes, and the function's body.\n",
    "\n",
    "**2. Call the function -->** Then we call the function. When you call the function, you pass the arguments to the function in the order that they are defined.\n",
    "\n",
    "**3. Use the arguments in the function's body -->** We can even pass arguments inside a function's body. The function's body is the code that is executed when the function is called. The arguments that are passed to the function can be used in the function's body to perform calculations, manipulate data, or produce output."
   ]
  },
  {
   "cell_type": "markdown",
   "id": "7fa28c51",
   "metadata": {},
   "source": [
    "The difference between **Positional and Keyword Arguments** are -\n",
    "\n",
    "**Positional arguments:** These arguments are passed to a function or method in a specific order. The order in which you pass these arguments matters, because the function or method will use the arguments in the order that they are received. \n",
    "\n",
    "**Keyword arguments:** These are passed to a function by specifying the parameter name and its corresponding value. The order in which you pass keyword arguments does not matter, because the function or method will look up the parameter name and use the corresponding value. It is a good practice to use keyword arguments whenever possible. This will make your code more readable and easier to maintain.\n"
   ]
  },
  {
   "cell_type": "code",
   "execution_count": 54,
   "id": "56372b1c",
   "metadata": {},
   "outputs": [],
   "source": [
    "def add_numbers(x, y):\n",
    "    return x + y"
   ]
  },
  {
   "cell_type": "code",
   "execution_count": 55,
   "id": "259b9b9e",
   "metadata": {},
   "outputs": [
    {
     "data": {
      "text/plain": [
       "12"
      ]
     },
     "execution_count": 55,
     "metadata": {},
     "output_type": "execute_result"
    }
   ],
   "source": [
    "# Positional Arguments\n",
    "add_numbers(10, 2)       # x is assigned value 10 and y is assigned value 2"
   ]
  },
  {
   "cell_type": "code",
   "execution_count": 56,
   "id": "12e2c95f",
   "metadata": {},
   "outputs": [
    {
     "data": {
      "text/plain": [
       "30"
      ]
     },
     "execution_count": 56,
     "metadata": {},
     "output_type": "execute_result"
    }
   ],
   "source": [
    "# Keyword Arguments\n",
    "add_numbers(x=10, y=20)"
   ]
  },
  {
   "cell_type": "markdown",
   "id": "e9655ea2",
   "metadata": {},
   "source": [
    "We can even pass a varying number of positional and keyword arguments with the help of \"**args\" and \"***kwargs\" .\n",
    "\n",
    "We use args and kwargs variables and the unpacking operator (*) to define them.If we create a function that takes both these arguments then order matters and *args should be defined first and then **kwargs. "
   ]
  },
  {
   "cell_type": "code",
   "execution_count": 57,
   "id": "3cb164fa",
   "metadata": {},
   "outputs": [
    {
     "name": "stdout",
     "output_type": "stream",
     "text": [
      "6\n"
     ]
    }
   ],
   "source": [
    "def my_sum(*args):\n",
    "    result = 0\n",
    "    # Iterating over the Python args tuple\n",
    "    for x in args:\n",
    "        result += x\n",
    "    return result\n",
    "\n",
    "print(my_sum(1, 2, 3))"
   ]
  },
  {
   "cell_type": "code",
   "execution_count": 59,
   "id": "4ddfc118",
   "metadata": {},
   "outputs": [
    {
     "name": "stdout",
     "output_type": "stream",
     "text": [
      "My car brand is Land Rover.\n"
     ]
    }
   ],
   "source": [
    "def concatenate(**kwargs):\n",
    "    result = \"\"\n",
    "    # Iterating over the Python kwargs dictionary\n",
    "    for arg in kwargs.values():\n",
    "        result += arg\n",
    "    return result\n",
    "\n",
    "print(concatenate(a=\"My\", b=\" car\", c=\" brand\", d=\" is\", e=\" Land Rover.\"))"
   ]
  },
  {
   "cell_type": "markdown",
   "id": "75dc43e0",
   "metadata": {},
   "source": [
    "## Q3.) What is the purpose of the return statement in a function? Can a function have multiple return statements? Explain with an example. "
   ]
  },
  {
   "cell_type": "markdown",
   "id": "dd600d56",
   "metadata": {},
   "source": [
    "The **return statement** in Python is used to **exit a function and return a value to the caller**. It is the only way to terminate a function and return a value. The return statement **can be used with or without an expression**. If the return statement is **used without an expression**, the special value **None** is returned.\n",
    "\n",
    "There **can be multiple return statements inside a function**. The return statement is typically used at the end of a function, but it can also be used inside a function to return a value early.\n",
    "\n",
    "Here is an example of a function that uses multiple return statements:"
   ]
  },
  {
   "cell_type": "code",
   "execution_count": 5,
   "id": "0c407732",
   "metadata": {},
   "outputs": [],
   "source": [
    "def check_negative():\n",
    "    x = int(input(\"Enter your value : \"))\n",
    "    \n",
    "    if x>0:\n",
    "        return \"Positive Integer\"\n",
    "    elif x<0:\n",
    "        return \"Negative Integer\"\n",
    "    else:\n",
    "        return \"Neutral Integer\""
   ]
  },
  {
   "cell_type": "code",
   "execution_count": 6,
   "id": "812869f6",
   "metadata": {},
   "outputs": [
    {
     "name": "stdout",
     "output_type": "stream",
     "text": [
      "Enter your value : -3\n"
     ]
    },
    {
     "data": {
      "text/plain": [
       "'Negative Integer'"
      ]
     },
     "execution_count": 6,
     "metadata": {},
     "output_type": "execute_result"
    }
   ],
   "source": [
    "check_negative()"
   ]
  },
  {
   "cell_type": "markdown",
   "id": "ee70e069",
   "metadata": {},
   "source": [
    "## Q4.) What are lambda functions in Python? How are they different from regular functions? Provide an example where a lambda function can be useful. "
   ]
  },
  {
   "cell_type": "markdown",
   "id": "7e63dab6",
   "metadata": {},
   "source": [
    "**Lambda Functions** are anonymous functions which can take any number of arguments but will evaluate and return a single output. \n",
    "\n",
    "They are different from regular functions in the following ways :- \n",
    "\n",
    "1.) **Syntax:** Lambda functions are written in a single line of code, whereas regular functions are defined with def and can span in multiple lines.\n",
    "\n",
    "2.) **Function Name:** Lambda functions do not have a name, whereas regular functions defined with def have a name.\n",
    "\n",
    "3.) **Return Statement:** Lambda functions automatically return the result of the expression they evaluate, while regular functions defined with def require an explicit return statement to return a value.\n",
    "\n",
    "Lambda Function can be useful for performing short operations/data manipulations. They are efficient whenever you want to create a function that will only contain simple expressions – that is, expressions that are usually a single line of a statement."
   ]
  },
  {
   "cell_type": "code",
   "execution_count": 10,
   "id": "078db427",
   "metadata": {},
   "outputs": [
    {
     "name": "stdout",
     "output_type": "stream",
     "text": [
      "Enter the string value : mercedes\n",
      "MERCEDES\n"
     ]
    }
   ],
   "source": [
    "string = input(\"Enter the string value : \")\n",
    "upper_value = lambda string:string.upper()\n",
    "print(upper_value(string))"
   ]
  },
  {
   "cell_type": "markdown",
   "id": "48bb1e7e",
   "metadata": {},
   "source": [
    "## Q5.) How does the concept of \"scope\" apply to functions in Python? Explain the difference between local scope and global scope."
   ]
  },
  {
   "cell_type": "markdown",
   "id": "1eda4448",
   "metadata": {},
   "source": [
    "In Python, Function scope means how a particular function is visible and accessible from different components depending on Local, Global scope. \n",
    "\n",
    "1.) **Local Scope -->** Variables defined inside a function are local to that function and cannot be accessed from outside the function.\n",
    "\n",
    "2.) **Global Scope -->** Variables defined outside of any function are global and can be accessed from anywhere in the program."
   ]
  },
  {
   "cell_type": "code",
   "execution_count": 13,
   "id": "956de2de",
   "metadata": {},
   "outputs": [
    {
     "data": {
      "text/plain": [
       "'Hello Mimansha'"
      ]
     },
     "execution_count": 13,
     "metadata": {},
     "output_type": "execute_result"
    }
   ],
   "source": [
    "# Global variable\n",
    "string1 = \"Hello\"\n",
    "\n",
    "def my_function():\n",
    "    # Local variable\n",
    "    string2 = \" Mimansha\"\n",
    "\n",
    "    return string1+string2\n",
    "\n",
    "my_function()"
   ]
  },
  {
   "cell_type": "markdown",
   "id": "1796404e",
   "metadata": {},
   "source": [
    "## Q6.) How can you use the \"return\" statement in a Python function to return multiple values? "
   ]
  },
  {
   "cell_type": "code",
   "execution_count": 16,
   "id": "fe25aa5a",
   "metadata": {},
   "outputs": [],
   "source": [
    "def calculator():\n",
    "    num1 = int(input(\"Enter the first value : \"))\n",
    "    num2 = int(input(\"Enter the second value : \"))\n",
    "    \n",
    "    return num1+num2,num1-num2,num1*num2,num1/num2"
   ]
  },
  {
   "cell_type": "code",
   "execution_count": 17,
   "id": "2a39c573",
   "metadata": {},
   "outputs": [
    {
     "name": "stdout",
     "output_type": "stream",
     "text": [
      "Enter the first value : 10\n",
      "Enter the second value : 2\n"
     ]
    },
    {
     "data": {
      "text/plain": [
       "(12, 8, 20, 5.0)"
      ]
     },
     "execution_count": 17,
     "metadata": {},
     "output_type": "execute_result"
    }
   ],
   "source": [
    "calculator()"
   ]
  },
  {
   "cell_type": "markdown",
   "id": "980a0c25",
   "metadata": {},
   "source": [
    "## Q7.) What is the difference between the \"pass by value\" and \"pass by reference\" concepts when it comes to function arguments in Python? "
   ]
  },
  {
   "cell_type": "markdown",
   "id": "cd1dc6ff",
   "metadata": {},
   "source": [
    "**\"Pass by value\" –** It means that the value is directly passed as the value to the argument of the function. Here, the operation is done on the value and then the value is stored at the address. Pass by value is used for a copy of the variable.\n",
    "\n",
    "**\"Pass by reference\" –** It is used in some programming languages, where values to the argument of the function are passed by reference which means that the address of the variable is passed and then the operation is done on the value stored at these addresses."
   ]
  },
  {
   "cell_type": "code",
   "execution_count": 18,
   "id": "956cba5f",
   "metadata": {},
   "outputs": [],
   "source": [
    "# PASS BY VALUE\n",
    "\n",
    "def upper(string):\n",
    "    return string.upper()"
   ]
  },
  {
   "cell_type": "code",
   "execution_count": 19,
   "id": "77306d46",
   "metadata": {},
   "outputs": [],
   "source": [
    "my_string = \"Argentina\""
   ]
  },
  {
   "cell_type": "code",
   "execution_count": 20,
   "id": "b935c8f4",
   "metadata": {},
   "outputs": [
    {
     "data": {
      "text/plain": [
       "'ARGENTINA'"
      ]
     },
     "execution_count": 20,
     "metadata": {},
     "output_type": "execute_result"
    }
   ],
   "source": [
    "upper(my_string)      # Here we are passing a copy of the variable and then function is applied (Pass by Value)"
   ]
  },
  {
   "cell_type": "code",
   "execution_count": 21,
   "id": "83b888b4",
   "metadata": {},
   "outputs": [
    {
     "name": "stdout",
     "output_type": "stream",
     "text": [
      "Argentina\n"
     ]
    }
   ],
   "source": [
    "print(my_string)      # Pass by Value has no effect on the original value of the variable# "
   ]
  },
  {
   "cell_type": "code",
   "execution_count": 27,
   "id": "1d0af72c",
   "metadata": {},
   "outputs": [
    {
     "name": "stdout",
     "output_type": "stream",
     "text": [
      "Inside function: ['A', 'B', 'C', 'D']\n",
      "Outside function: ['A', 'B', 'C', 'D']\n"
     ]
    }
   ],
   "source": [
    "# PASS BY REFERENCE\n",
    "\n",
    "def modify_list(my_list):\n",
    "    my_list.append('D')\n",
    "    print(\"Inside function:\", my_list)\n",
    "\n",
    "my_list = ['A','B','C']\n",
    "modify_list(my_list)\n",
    "print(\"Outside function:\", my_list)"
   ]
  },
  {
   "cell_type": "markdown",
   "id": "39d4a40c",
   "metadata": {},
   "source": [
    "## Q8.) Create a function that can intake integer or decimal value and do following operations:\n",
    "### a. Logarithmic function (log x)\n",
    "### b. Exponential function (exp(x))\n",
    "### c. Power function with base 2 (2^x)\n",
    "### d. Square root "
   ]
  },
  {
   "cell_type": "code",
   "execution_count": 37,
   "id": "962f77a2",
   "metadata": {},
   "outputs": [],
   "source": [
    "import math\n",
    "\n",
    "def high_operations():\n",
    "    x = float(input(\"Enter the value : \"))\n",
    "    choice = input(\"Which operation you want to do (logarithmic/exponential/power/square root) : \")\n",
    "    choice.lower()\n",
    "    \n",
    "    if choice == \"logarithmic\":\n",
    "        return math.log(x)\n",
    "    elif choice == \"exponential\":\n",
    "        return math.exp(x)\n",
    "    elif choice == \"power\":\n",
    "        return pow(2,x)\n",
    "    elif choice == \"square root\":\n",
    "        return math.sqrt(x)\n",
    "    else:\n",
    "        return \"Enter Correct Operation to be Performed\"\n",
    "    "
   ]
  },
  {
   "cell_type": "code",
   "execution_count": 38,
   "id": "cacc4468",
   "metadata": {},
   "outputs": [
    {
     "name": "stdout",
     "output_type": "stream",
     "text": [
      "Enter the value : 8\n",
      "Which operation you want to do (logarithmic/exponential/power/square root) : logarithmic\n"
     ]
    },
    {
     "data": {
      "text/plain": [
       "2.0794415416798357"
      ]
     },
     "execution_count": 38,
     "metadata": {},
     "output_type": "execute_result"
    }
   ],
   "source": [
    "high_operations()"
   ]
  },
  {
   "cell_type": "code",
   "execution_count": 39,
   "id": "bf7e0307",
   "metadata": {},
   "outputs": [
    {
     "name": "stdout",
     "output_type": "stream",
     "text": [
      "Enter the value : 4\n",
      "Which operation you want to do (logarithmic/exponential/power/square root) : exponential\n"
     ]
    },
    {
     "data": {
      "text/plain": [
       "54.598150033144236"
      ]
     },
     "execution_count": 39,
     "metadata": {},
     "output_type": "execute_result"
    }
   ],
   "source": [
    "high_operations()"
   ]
  },
  {
   "cell_type": "code",
   "execution_count": 40,
   "id": "f0a4e754",
   "metadata": {},
   "outputs": [
    {
     "name": "stdout",
     "output_type": "stream",
     "text": [
      "Enter the value : 3\n",
      "Which operation you want to do (logarithmic/exponential/power/square root) : power\n"
     ]
    },
    {
     "data": {
      "text/plain": [
       "8.0"
      ]
     },
     "execution_count": 40,
     "metadata": {},
     "output_type": "execute_result"
    }
   ],
   "source": [
    "high_operations()"
   ]
  },
  {
   "cell_type": "code",
   "execution_count": 41,
   "id": "b071598a",
   "metadata": {},
   "outputs": [
    {
     "name": "stdout",
     "output_type": "stream",
     "text": [
      "Enter the value : 81\n",
      "Which operation you want to do (logarithmic/exponential/power/square root) : square root\n"
     ]
    },
    {
     "data": {
      "text/plain": [
       "9.0"
      ]
     },
     "execution_count": 41,
     "metadata": {},
     "output_type": "execute_result"
    }
   ],
   "source": [
    "high_operations()"
   ]
  },
  {
   "cell_type": "code",
   "execution_count": 42,
   "id": "4df3f058",
   "metadata": {},
   "outputs": [
    {
     "name": "stdout",
     "output_type": "stream",
     "text": [
      "Enter the value : 56\n",
      "Which operation you want to do (logarithmic/exponential/power/square root) : operation\n"
     ]
    },
    {
     "data": {
      "text/plain": [
       "'Enter Correct Operation to be Performed'"
      ]
     },
     "execution_count": 42,
     "metadata": {},
     "output_type": "execute_result"
    }
   ],
   "source": [
    "high_operations()"
   ]
  },
  {
   "cell_type": "markdown",
   "id": "8bc633ee",
   "metadata": {},
   "source": [
    "## Q9.) Create a function that takes a full name as an argument and returns first name and last name. "
   ]
  },
  {
   "cell_type": "code",
   "execution_count": 52,
   "id": "15a8bb9f",
   "metadata": {},
   "outputs": [],
   "source": [
    "def name():\n",
    "    fullname = input(\"Enter your full name : \")\n",
    "    value= fullname.split()       # split() function will split the fullname value by default from the whitespace and convert them into a list \n",
    "    return (f\"First name : {value[0]} , Last name : {value[1]}\")     # calling through the index of the value"
   ]
  },
  {
   "cell_type": "code",
   "execution_count": 53,
   "id": "2f67366c",
   "metadata": {},
   "outputs": [
    {
     "name": "stdout",
     "output_type": "stream",
     "text": [
      "Enter your full name : Elon Musk\n"
     ]
    },
    {
     "data": {
      "text/plain": [
       "'First name : Elon , Last name : Musk'"
      ]
     },
     "execution_count": 53,
     "metadata": {},
     "output_type": "execute_result"
    }
   ],
   "source": [
    "name()"
   ]
  }
 ],
 "metadata": {
  "kernelspec": {
   "display_name": "Python 3 (ipykernel)",
   "language": "python",
   "name": "python3"
  },
  "language_info": {
   "codemirror_mode": {
    "name": "ipython",
    "version": 3
   },
   "file_extension": ".py",
   "mimetype": "text/x-python",
   "name": "python",
   "nbconvert_exporter": "python",
   "pygments_lexer": "ipython3",
   "version": "3.11.4"
  }
 },
 "nbformat": 4,
 "nbformat_minor": 5
}
