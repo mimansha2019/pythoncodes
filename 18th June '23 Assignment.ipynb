{
 "cells": [
  {
   "cell_type": "markdown",
   "id": "d93f48c5",
   "metadata": {},
   "source": [
    "## Q1.) What is the role of the 'else' block in a try-except statement? Provide an example scenario where it would be useful. "
   ]
  },
  {
   "cell_type": "markdown",
   "id": "2a15971f",
   "metadata": {},
   "source": [
    "The try block lets you test a block of code for errors. The except block lets you handle the error. The else block lets you execute code when there is no error. The code enters the else block only if the try clause does not raise an exception."
   ]
  },
  {
   "cell_type": "code",
   "execution_count": 2,
   "id": "2e0c407e",
   "metadata": {},
   "outputs": [
    {
     "name": "stdout",
     "output_type": "stream",
     "text": [
      "Enter a number: 6\n",
      "Else Block is getting executed\n",
      "36\n"
     ]
    }
   ],
   "source": [
    "try:\n",
    "    num = int(input(\"Enter a number: \"))\n",
    "    result = num**2\n",
    "       \n",
    "except ValueError:\n",
    "    print(\"You entered the wrong value\")\n",
    "else:\n",
    "    print(\"Else Block is getting executed\")\n",
    "    print(result)\n"
   ]
  },
  {
   "cell_type": "markdown",
   "id": "a1adb70a",
   "metadata": {},
   "source": [
    "## Q2.) Can a try-except block be nested inside another try-except block? Explain with an example. "
   ]
  },
  {
   "cell_type": "markdown",
   "id": "aa467a3f",
   "metadata": {},
   "source": [
    "Yes, we can have nested try-except block in Python. Here is an example."
   ]
  },
  {
   "cell_type": "code",
   "execution_count": 6,
   "id": "a50770f1",
   "metadata": {},
   "outputs": [
    {
     "name": "stdout",
     "output_type": "stream",
     "text": [
      "5\n",
      "0\n",
      "Division by Zero\n"
     ]
    }
   ],
   "source": [
    "#nested try except\n",
    "\n",
    "try:\n",
    "    a=int(input())\n",
    "    b=int(input())\n",
    "    try:\n",
    "        c=a/b\n",
    "        print(c)\n",
    "    except ZeroDivisionError:\n",
    "        print(\"Division by Zero\")\n",
    "except:\n",
    "    print(\"You should again check your input\")"
   ]
  },
  {
   "cell_type": "markdown",
   "id": "b9a09bb6",
   "metadata": {},
   "source": [
    "## Q3.) How can you create a custom exception class in Python? Provide an example that demonstrates its usage. "
   ]
  },
  {
   "cell_type": "markdown",
   "id": "dd9f3911",
   "metadata": {},
   "source": [
    "In Python, we can define custom exceptions by creating a new class that is derived from the **built-in Exception class**. **Custom exceptions** are helpful in many situations. They **allow you to define your own error conditions and handle them in a more specific and meaningful way.**"
   ]
  },
  {
   "cell_type": "code",
   "execution_count": 7,
   "id": "90dc615b",
   "metadata": {},
   "outputs": [
    {
     "name": "stdout",
     "output_type": "stream",
     "text": [
      "Enter your age : 15\n",
      "Exception occurred: Invalid Age\n"
     ]
    }
   ],
   "source": [
    "# define Python user-defined exceptions\n",
    "class InvalidAgeError(Exception):\n",
    "    # Raised when the input value is less than 18\n",
    "    pass\n",
    "\n",
    "min_age = 18\n",
    "\n",
    "try:\n",
    "    age = int(input(\"Enter your age : \"))\n",
    "    if age < min_age:\n",
    "        raise InvalidAgeError\n",
    "    else:\n",
    "        print(\"Eligible to Vote\")\n",
    "        \n",
    "except InvalidAgeError:\n",
    "    print(\"Exception occurred: Invalid Age\")"
   ]
  },
  {
   "cell_type": "markdown",
   "id": "ed1f26f6",
   "metadata": {},
   "source": [
    "## Q4.) What are some common exceptions that are built-in to Python? "
   ]
  },
  {
   "cell_type": "markdown",
   "id": "71e632fd",
   "metadata": {},
   "source": [
    "Some common built-in exceptions in Python are as follows :- \n",
    "\n",
    "**1) ArithmeticError -->** Raised when an error occurs in numeric calculations\n",
    "\n",
    "**2) AssertionError -->** Raised when an assert statement fails\n",
    "\n",
    "**3) AttributeError\t-->** Raised when attribute reference or assignment fails\n",
    "\n",
    "**4) Exception\t-->** Base class for all exceptions\n",
    "\n",
    "**5) EOFError -->** Raised when the input() method hits an \"end of file\" condition (EOF)\n",
    "\n",
    "**6) FloatingPointError\t-->** Raised when a floating point calculation fails\n",
    "\n",
    "**7) ImportError -->** Raised when an imported module does not exist\n",
    "\n",
    "**8) IndentationError -->** Raised when indentation is not correct\n",
    "\n",
    "**9) IndexError\t-->** Raised when an index of a sequence does not exist or is out of range\n",
    "\n",
    "**10) KeyError -->** Raised when a key does not exist in a dictionary\n",
    "\n",
    "**11) MemoryError -->** Raised when the memory of the RAM we are using could not support the execution of our code\n",
    "\n",
    "**12) NameError\t-->** Raised when a variable does not exist\n",
    "\n",
    "**13) OSError -->** Raised when a system related operation causes an error\n",
    "\n",
    "**14) OverflowError\t-->** Raised when the result of a numeric calculation is too large\n",
    "\n",
    "**15) RuntimeError -->** Raised when an error occurs that do not belong to any specific exceptions\n",
    "\n",
    "**16) SyntaxError -->** Raised when a syntax error occurs\n",
    "\n",
    "**17) TypeError\t-->** Raised when two different types are combined\n",
    "\n",
    "**18) ValueError -->** Raised when there is a wrong value in a specified data type\n",
    "\n",
    "**19) ZeroDivisionError\t-->** Raised when the second operator in a division is zero"
   ]
  },
  {
   "cell_type": "markdown",
   "id": "fb568ee4",
   "metadata": {},
   "source": [
    "## Q5.) What is logging in Python, and why is it important in software development? "
   ]
  },
  {
   "cell_type": "markdown",
   "id": "5e85e486",
   "metadata": {},
   "source": [
    "Logging is an important tracking and debugging tool in Python. It is a way to track events that occur when your software runs. \n",
    "\n",
    "It is very important in software development because If you don't have any logging record and your program crashes, there are very few chances that you will detect the cause of the problem. And if you detect the cause, it will consume a lot of time. With logging, you can leave a trace of all important messages so that if something goes wrong, you can determine the cause of the problem."
   ]
  },
  {
   "cell_type": "markdown",
   "id": "38d16028",
   "metadata": {},
   "source": [
    "## Q6.) Explain the purpose of log levels in Python logging and provide examples of when each log level would be appropriate. "
   ]
  },
  {
   "cell_type": "markdown",
   "id": "f93bcdbc",
   "metadata": {},
   "source": [
    "The purpose of log levels in Python logging is **to categorize log messages based on their severity or importance.** This allows developers to easily filter and prioritize log messages, making it easier to identify and troubleshoot problems. The five standard levels and their applicability are described below (in increasing order of severity):\n",
    "\n",
    "**DEBUG-->** Detailed information, typically of interest only when diagnosing problems. For example, the values of variables at a specific point in the program's execution.\n",
    "\n",
    "**INFO-->** Confirmation that things are working as expected. For example, a message indicating that the program has started up successfully.\n",
    "\n",
    "**WARNING-->** An indication that something unexpected happened, or indicative of some problem in the near future. The software is still working as expected. For example, a low disk space warning.\n",
    "\n",
    "**ERROR-->** Due to a more serious problem, the software has not been able to perform some function. For example, a file not found error that prevents the program from opening a file.\n",
    "\n",
    "**CRITICAL-->** A serious error, indicating that the program itself may be unable to continue running. For example, a database connection error that prevents the program from accessing its data."
   ]
  },
  {
   "cell_type": "code",
   "execution_count": 9,
   "id": "c3347fa2",
   "metadata": {},
   "outputs": [],
   "source": [
    "#importing the module \n",
    "import logging \n",
    "\n",
    "#now we will Create and configure logger \n",
    "logging.basicConfig(filename=\"logfile.log\", format='%(asctime)s %(message)s', filemode='w') \n",
    "\n",
    "#Let us Create an object \n",
    "logger=logging.getLogger() \n",
    "\n",
    "#Now we are going to Set the threshold of logger to DEBUG \n",
    "logger.setLevel(logging.DEBUG) \n",
    "\n",
    "#some messages to test\n",
    "logger.debug(\"This is just a harmless debug message\") \n",
    "logger.info(\"The program is working absolutely fine\") \n",
    "logger.warning(\"Warning Message\") \n",
    "logger.error(\"The file you are searching for is not present\") \n",
    "logger.critical(\"The Internet Connection is lost\") "
   ]
  },
  {
   "cell_type": "markdown",
   "id": "c3796cf7",
   "metadata": {},
   "source": [
    "## Q7.) What are log formatters in Python logging, and how can you customise the log message format using formatters? "
   ]
  },
  {
   "cell_type": "markdown",
   "id": "6411eaab",
   "metadata": {},
   "source": [
    "Log formatters in Python logging are used to customize the format of log messages.They take a log record as input and return a string as output. The output string is then sent to the logging handler, which is responsible for writing the log message to the final destination. There are two main types of log formatters in Python logging:\n",
    "\n",
    "**Basic formatters:** Basic formatters simply add a timestamp and a newline character to the log message.\n",
    "\n",
    "**Custom formatters:** Custom formatters can be used to add more information to the log message, such as the logger name, the module name, and the log level.\n",
    "\n",
    "**Steps to customise log message format using formatters to a file:**\n",
    "\n",
    "1) Import the logging module.\n",
    "\n",
    "2) Create a logger object.\n",
    "\n",
    "3) Create a file handler and set the logging level.\n",
    "\n",
    "4) Create a formatter object and add it to the file handler.\n",
    "\n",
    "5) Set the file handler to the logger object\n",
    "\n",
    "6) Print the log messages."
   ]
  },
  {
   "cell_type": "code",
   "execution_count": 12,
   "id": "ce95197d",
   "metadata": {},
   "outputs": [],
   "source": [
    "# import the logging module\n",
    "import logging\n",
    "\n",
    "# Create a logger object\n",
    "logger = logging.getLogger()\n",
    "\n",
    "# Creating a file handler object and setting the logging level\n",
    "f_handler = logging.FileHandler('file.log')\n",
    "f_handler.setLevel(logging.ERROR)\n",
    "\n",
    "# Creating a formatter object and adding it to file handler\n",
    "f_format = logging.Formatter('%(asctime)s - %(name)s - %(levelname)s - %(message)s')\n",
    "f_handler.setFormatter(f_format)\n",
    "\n",
    "# Setting the file handler to the logger object\n",
    "logger.addHandler(f_handler)\n",
    "\n",
    "# printing log messages\n",
    "logger.warning('This is a warning message')\n",
    "logger.error('This is an error message')"
   ]
  },
  {
   "cell_type": "markdown",
   "id": "5e0143bd",
   "metadata": {},
   "source": [
    "## Q8.) How can you set up logging to capture log messages from multiple modules or classes in a Python application?"
   ]
  },
  {
   "cell_type": "markdown",
   "id": "d5a5a877",
   "metadata": {},
   "source": [
    "There are a few ways to set up logging to capture log messages from multiple modules or classes in a Python application. One way is to use the **logging.getLogger() function**. This function takes a name as an argument and returns a logger object. The name of the logger is used to identify the source of the log message. Another way to set up logging is to use the **logging.basicConfig() function**. This function takes a number of arguments, including the format of the log messages and the destination of the log messages."
   ]
  },
  {
   "cell_type": "code",
   "execution_count": 14,
   "id": "bb6f7d53",
   "metadata": {},
   "outputs": [],
   "source": [
    "#importing the module \n",
    "import logging \n",
    "\n",
    "# creating and configuring logger \n",
    "logging.basicConfig(filename=\"logfile.log\", format='%(asctime)s - %(name)s - %(levelname)s - %(message)s', filemode='w') \n",
    "\n",
    "#Let us Create an object \n",
    "logger=logging.getLogger() \n",
    "\n",
    "#Now we are going to Set the threshold of logger to DEBUG \n",
    "logger.setLevel(logging.DEBUG) \n",
    "\n",
    "# creating a function that will log the messages \n",
    "def my_function():\n",
    "    logger.debug(\"This is just a harmless debug message\") \n",
    "    logger.info(\"The program is working absolutely fine\") \n",
    "    logger.warning(\"Warning Message\") \n",
    "    logger.error(\"The file you are searching for is not present\") \n",
    "    logger.critical(\"The Internet Connection is lost\") \n",
    "    \n",
    "my_function()"
   ]
  },
  {
   "cell_type": "markdown",
   "id": "9f725961",
   "metadata": {},
   "source": [
    "## Q9.) What is the difference between the logging and print statements in Python? When should you use logging over print statements in a real-world application? "
   ]
  },
  {
   "cell_type": "markdown",
   "id": "019127ee",
   "metadata": {},
   "source": [
    "The **print() statement** is a **built-in function** in Python that **prints the specified value or values to the console**. It is mainly used for debugging and is not recommended for logging information in production code. The logging module provides **a flexible way to log different messages in various output destinations such as on the console, in files, and on networks**. It is recommended to use the logging module for logging information in production code as it provides more features and flexibility than the print() statement in the form of tracking and debugging our code errors.\n",
    "\n",
    "You can use logging over print statements in a real-world application when you are developing an application that needs to be able to log errors and warnings. When you are developing an application that needs to be able to track the progress of a long-running task."
   ]
  },
  {
   "cell_type": "markdown",
   "id": "31267895",
   "metadata": {},
   "source": [
    "## Q10.) Write a Python program that logs a message to a file named \"app.log\" with the following requirements:\n",
    "### ● The log message should be \"Hello, World!\"\n",
    "### ● The log level should be set to \"INFO.\"\n",
    "### ● The log file should append new log entries without overwriting previous ones. "
   ]
  },
  {
   "cell_type": "code",
   "execution_count": 17,
   "id": "40776e1b",
   "metadata": {},
   "outputs": [],
   "source": [
    "#importing the module \n",
    "import logging \n",
    "\n",
    "#now we will Create and configure logger \n",
    "logging.basicConfig(filename=\"app.log\", format='%(asctime)s %(message)s', filemode='w') \n",
    "\n",
    "#Let us Create an object \n",
    "logger=logging.getLogger() \n",
    "\n",
    "#Now we are going to Set the threshold of logger to DEBUG \n",
    "logger.setLevel(logging.INFO) \n",
    "\n",
    "logger.info(\"Hello, World!\") "
   ]
  },
  {
   "cell_type": "markdown",
   "id": "0991c040",
   "metadata": {},
   "source": [
    "## Q11.) Create a Python program that logs an error message to the console and a file named \"errors.log\" if an exception occurs during the program's execution. The error message should include the exception type and a timestamp. "
   ]
  },
  {
   "cell_type": "markdown",
   "id": "8b7f0a95",
   "metadata": {},
   "source": [
    "In this program, the log_error function logs the error message to the console and a file named \"errors.log\". The error message includes the exception type, and a timestamp.\n",
    "\n",
    "The main function sets up logging to the \"errors.log\" file. It then tries to execute some code (in this case, raising a ValueError). If an exception occurs during the execution of this code, the except block is executed. The log_error function is called with the exception type, and traceback.\n",
    "\n",
    "The log_error function logs the error message to the console by printing it to sys.stderr. It also logs the error message to the \"errors.log\" file by opening the file in append mode ('a'), writing the error message to the file, and then closing the file.\n",
    "\n",
    "The main function is executed when the script is run.\n"
   ]
  },
  {
   "cell_type": "code",
   "execution_count": 1,
   "id": "b43463dc",
   "metadata": {},
   "outputs": [
    {
     "name": "stdout",
     "output_type": "stream",
     "text": [
      "Enter the first integer : 2\n",
      "Enter the second integer : 0\n"
     ]
    },
    {
     "name": "stderr",
     "output_type": "stream",
     "text": [
      "Error: 2024-01-27 01:50:00 - ZeroDivisionError\n"
     ]
    }
   ],
   "source": [
    "import logging\n",
    "import time\n",
    "import sys\n",
    "\n",
    "def log_error(exc_type, exc_traceback):\n",
    "    timestamp = time.strftime('%Y-%m-%d %H:%M:%S')   #converting date and time objects into strings\n",
    "    error_message = f'{timestamp} - {exc_type.__name__}'\n",
    "    #stderr is used to write error messages, warnings, and other diagnostic information to the console.\n",
    "    print(f'Error: {error_message}', file=sys.stderr)   \n",
    "    with open('errors.log', 'a') as error_file:     # a is the append mode \n",
    "        error_file.write(f'{error_message}\\n')\n",
    "\n",
    "def main():\n",
    "    logging.basicConfig(filename='errors.log', level=logging.INFO)\n",
    "    try:\n",
    "        num1 = int(input(\"Enter the first integer : \"))\n",
    "        num2 = int(input(\"Enter the second integer : \"))\n",
    "        result = num1/num2\n",
    "        raise ValueError('An example error')\n",
    "    except Exception as e:\n",
    "        log_error(type(e), e.__traceback__)\n",
    "\n",
    "if __name__ == '__main__':\n",
    "    main()"
   ]
  }
 ],
 "metadata": {
  "kernelspec": {
   "display_name": "Python 3 (ipykernel)",
   "language": "python",
   "name": "python3"
  },
  "language_info": {
   "codemirror_mode": {
    "name": "ipython",
    "version": 3
   },
   "file_extension": ".py",
   "mimetype": "text/x-python",
   "name": "python",
   "nbconvert_exporter": "python",
   "pygments_lexer": "ipython3",
   "version": "3.11.4"
  }
 },
 "nbformat": 4,
 "nbformat_minor": 5
}
