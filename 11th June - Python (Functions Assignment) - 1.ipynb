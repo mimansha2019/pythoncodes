{
 "cells": [
  {
   "cell_type": "markdown",
   "id": "daf4ef03",
   "metadata": {},
   "source": [
    "## Q1.) What is a lambda function in Python, and how does it differ from a regular function? "
   ]
  },
  {
   "cell_type": "markdown",
   "id": "ad7ce8c1",
   "metadata": {},
   "source": [
    "**Lambda Functions** are anonymous functions which can take any number of arguments but will evaluate and return a single output. \n",
    "\n",
    "They are different from regular functions in the following ways :- \n",
    "\n",
    "1.) **Syntax:** Lambda functions are written in a single line of code, whereas regular functions are defined with def and can span in multiple lines.\n",
    "\n",
    "2.) **Function Name:** Lambda functions do not have a name, whereas regular functions defined with def have a name.\n",
    "\n",
    "3.) **Return Statement:** Lambda functions automatically return the result of the expression they evaluate, while regular functions defined with def require an explicit return statement to return a value."
   ]
  },
  {
   "cell_type": "code",
   "execution_count": 2,
   "id": "7fe91bb6",
   "metadata": {},
   "outputs": [
    {
     "name": "stdout",
     "output_type": "stream",
     "text": [
      "Enter the value : 5\n",
      "25\n"
     ]
    }
   ],
   "source": [
    "num = int(input(\"Enter the value : \"))\n",
    "squared_value = lambda num:num**2\n",
    "print(squared_value(num))"
   ]
  },
  {
   "cell_type": "markdown",
   "id": "864b2d2f",
   "metadata": {},
   "source": [
    "## Q2.) Can a lambda function in Python have multiple arguments? If yes, how can you define and use them? "
   ]
  },
  {
   "cell_type": "markdown",
   "id": "a1653dbb",
   "metadata": {},
   "source": [
    "Yes, a lambda function can have multiple arguments but it evaluates and returns a single output. For example, if we have to add 5 integer values, then we can write a lambda function for this like --"
   ]
  },
  {
   "cell_type": "code",
   "execution_count": 4,
   "id": "b7bd30a3",
   "metadata": {},
   "outputs": [
    {
     "name": "stdout",
     "output_type": "stream",
     "text": [
      "150\n"
     ]
    }
   ],
   "source": [
    "sum_value = lambda n1,n2,n3,n4,n5 : n1+n2+n3+n4+n5\n",
    "result = sum_value(10,20,30,40,50)\n",
    "print(result)"
   ]
  },
  {
   "cell_type": "markdown",
   "id": "b2e8674e",
   "metadata": {},
   "source": [
    "## Q3.) How are lambda functions typically used in Python? Provide an example use case. "
   ]
  },
  {
   "cell_type": "markdown",
   "id": "1300353e",
   "metadata": {},
   "source": [
    "Lambda functions are typically used in Python as an **argument to a higher-order function** (a function that takes in other functions as arguments)."
   ]
  },
  {
   "cell_type": "code",
   "execution_count": 8,
   "id": "ec6224be",
   "metadata": {},
   "outputs": [],
   "source": [
    "# Here, lambda function has been defined inside a higher order function filter() which helps to filter out the even numbers from the list of 1 to 10.\n",
    "\n",
    "def even_number():\n",
    "    list1 = [1, 2, 3, 4, 5, 6, 7, 8, 9, 10]\n",
    "    return list(filter(lambda x: x % 2 == 0, list1))"
   ]
  },
  {
   "cell_type": "code",
   "execution_count": 9,
   "id": "98ea82b4",
   "metadata": {},
   "outputs": [
    {
     "data": {
      "text/plain": [
       "[2, 4, 6, 8, 10]"
      ]
     },
     "execution_count": 9,
     "metadata": {},
     "output_type": "execute_result"
    }
   ],
   "source": [
    "even_number()"
   ]
  },
  {
   "cell_type": "markdown",
   "id": "76bf76e3",
   "metadata": {},
   "source": [
    "## Q4.)  What are the advantages and limitations of lambda functions compared to regular functions in Python?"
   ]
  },
  {
   "cell_type": "markdown",
   "id": "ae233f82",
   "metadata": {},
   "source": [
    "**Advantages of Lambda Function compared to Regular Function**\n",
    "\n",
    "1) Being anonymous, lambda functions can be easily passed without being assigned to a variable.\n",
    "\n",
    "2) Lambda functions are inline functions and thus execute comparatively faster than a regular function.\n",
    "\n",
    "3) Lambda functions can enhance code readability by encapsulating simple logic directly within the code, eliminating the need for a separate function definition. This can make the code more self-documenting and easier to understand. \n",
    "\n",
    "4) Its syntax is more compact in comparison to a corresponding normal function.\n",
    "\n",
    "**Disadvantages of Lambda Function compared to Regular Function**\n",
    "\n",
    "1) Lambda functions can only contain a single expression. This means that they cannot be used to implement complex logic.\n",
    "\n",
    "2) As lambda functions are anonymous, they cannot be referenced by name. This can make code more difficult to read and understand sometimes.\n",
    "\n",
    "3) Lambda functions cannot have docstrings. Docstrings are used to document functions and make them easier to understand.\n",
    "\n",
    "4) It can't contain any variable assignements (e.g., lambda x: x = 0 will throw a SyntaxError).\n"
   ]
  },
  {
   "cell_type": "markdown",
   "id": "d9b6a846",
   "metadata": {},
   "source": [
    "## Q5.) Are lambda functions in Python able to access variables defined outside of their own scope? Explain with an example. "
   ]
  },
  {
   "cell_type": "markdown",
   "id": "8a749559",
   "metadata": {},
   "source": [
    "Yes, lambda functions in Python can access variables defined outside of their own scope. This is because lambda functions are created in the scope in which they are defined, and they can access all of the variables that are in scope at that time. If a variable is defined after the lambda function is defined, the lambda function will not be able to access it."
   ]
  },
  {
   "cell_type": "code",
   "execution_count": 10,
   "id": "30ce49b8",
   "metadata": {},
   "outputs": [
    {
     "data": {
      "text/plain": [
       "100"
      ]
     },
     "execution_count": 10,
     "metadata": {},
     "output_type": "execute_result"
    }
   ],
   "source": [
    "x = 10\n",
    "(lambda y: y * x)(10)  "
   ]
  },
  {
   "cell_type": "markdown",
   "id": "17c5f4e5",
   "metadata": {},
   "source": [
    "In the above example, the lambda function **(lambda y: y * x)** accesses the variable x, which is defined outside of its own scope. The lambda function takes a single argument y and **returns y * x**. When the lambda function is called with the argument 10, it returns 10 * 5, which is 50."
   ]
  },
  {
   "cell_type": "markdown",
   "id": "da067054",
   "metadata": {},
   "source": [
    "## Q6.) Write a lambda function to calculate the square of a given number. "
   ]
  },
  {
   "cell_type": "code",
   "execution_count": 18,
   "id": "522fb660",
   "metadata": {},
   "outputs": [],
   "source": [
    "def square():\n",
    "    num = int(input(\"Enter the number to be squared : \"))\n",
    "    squared_value = lambda num : num**2\n",
    "    print(f\"The square of {num} is {squared_value(num)}\")"
   ]
  },
  {
   "cell_type": "code",
   "execution_count": 19,
   "id": "4b3124db",
   "metadata": {},
   "outputs": [
    {
     "name": "stdout",
     "output_type": "stream",
     "text": [
      "Enter the number to be squared : 8\n",
      "The square of 8 is 64\n"
     ]
    }
   ],
   "source": [
    "square()"
   ]
  },
  {
   "cell_type": "markdown",
   "id": "015fc31c",
   "metadata": {},
   "source": [
    "## Q7.) Create a lambda function to find the maximum value in a list of integers. "
   ]
  },
  {
   "cell_type": "code",
   "execution_count": 39,
   "id": "c01a4f85",
   "metadata": {},
   "outputs": [],
   "source": [
    "def max_num():\n",
    "    list1 = []\n",
    "    num = int(input(\"Enter the number of elements to be added : \"))\n",
    "    for i in range(0, num):\n",
    "        ele = int(input())\n",
    "    # adding the element\n",
    "        list1.append(ele)\n",
    "    \n",
    "    print(list1)\n",
    "        \n",
    "    list1.sort(key = lambda x:x)\n",
    "    maximum = list1[-1]\n",
    "    print(f\"The maximum value from list1 is {maximum}\")"
   ]
  },
  {
   "cell_type": "code",
   "execution_count": 40,
   "id": "1fc66519",
   "metadata": {},
   "outputs": [
    {
     "name": "stdout",
     "output_type": "stream",
     "text": [
      "Enter the number of elements to be added : 5\n",
      "12\n",
      "34\n",
      "90\n",
      "88\n",
      "67\n",
      "[12, 34, 90, 88, 67]\n",
      "The maximum value from list1 is 90\n"
     ]
    }
   ],
   "source": [
    "max_num()"
   ]
  },
  {
   "cell_type": "markdown",
   "id": "b79ebfc0",
   "metadata": {},
   "source": [
    "## Q8.) Implement a lambda function to filter out all the even numbers from a list of integers. "
   ]
  },
  {
   "cell_type": "code",
   "execution_count": 58,
   "id": "bde70df4",
   "metadata": {},
   "outputs": [],
   "source": [
    "def even_number():\n",
    "    list1 = []\n",
    "    num = int(input(\"Enter the number of elements to be added : \"))\n",
    "    for i in range(0, num):\n",
    "        ele = int(input())\n",
    "    # adding the element\n",
    "        list1.append(ele)\n",
    "    \n",
    "    print(list1)\n",
    "    \n",
    "    return list(filter(lambda x: x % 2 == 0, list1))"
   ]
  },
  {
   "cell_type": "code",
   "execution_count": 59,
   "id": "809f0483",
   "metadata": {},
   "outputs": [
    {
     "name": "stdout",
     "output_type": "stream",
     "text": [
      "Enter the number of elements to be added : 10\n",
      "1\n",
      "2\n",
      "3\n",
      "4\n",
      "5\n",
      "6\n",
      "7\n",
      "8\n",
      "9\n",
      "10\n",
      "[1, 2, 3, 4, 5, 6, 7, 8, 9, 10]\n"
     ]
    },
    {
     "data": {
      "text/plain": [
       "[2, 4, 6, 8, 10]"
      ]
     },
     "execution_count": 59,
     "metadata": {},
     "output_type": "execute_result"
    }
   ],
   "source": [
    "even_number()"
   ]
  },
  {
   "cell_type": "markdown",
   "id": "33e068e1",
   "metadata": {},
   "source": [
    "## Q9.) Write a lambda function to sort a list of strings in ascending order based on the length of each string. "
   ]
  },
  {
   "cell_type": "code",
   "execution_count": 62,
   "id": "33b65e7c",
   "metadata": {},
   "outputs": [],
   "source": [
    "def sort_ascending():\n",
    "    string_list = []\n",
    "    num = int(input(\"Enter the number of elements to be added : \"))\n",
    "    for i in range(0, num):\n",
    "        ele = input()\n",
    "    # adding the element\n",
    "        string_list.append(ele)\n",
    "    \n",
    "    print(\"List of String before sorting based on length : \",string_list)\n",
    "    \n",
    "    string_list.sort(key = lambda x:len(x))\n",
    "    print(\"List of String after sorting based on length : \",string_list)"
   ]
  },
  {
   "cell_type": "code",
   "execution_count": 63,
   "id": "a8c7a6b9",
   "metadata": {},
   "outputs": [
    {
     "name": "stdout",
     "output_type": "stream",
     "text": [
      "Enter the number of elements to be added : 5\n",
      "Paris\n",
      "New York\n",
      "Tokyo\n",
      "Wellington\n",
      "London\n",
      "List of String before sorting based on length :  ['Paris', 'New York', 'Tokyo', 'Wellington', 'London']\n",
      "List of String after sorting based on length :  ['Paris', 'Tokyo', 'London', 'New York', 'Wellington']\n"
     ]
    }
   ],
   "source": [
    "sort_ascending()"
   ]
  },
  {
   "cell_type": "markdown",
   "id": "8e678b2b",
   "metadata": {},
   "source": [
    "## Q10.) Create a lambda function that takes two lists as input and returns a new list containing the common elements between the two lists. "
   ]
  },
  {
   "cell_type": "code",
   "execution_count": 75,
   "id": "62f031d1",
   "metadata": {},
   "outputs": [],
   "source": [
    "def common_elements():\n",
    "   # Using the split function to take the input. \n",
    "    list1 = input(\"Enter elements: \").split()\n",
    "    print(\"List: \", list1)\n",
    "    list2 = input(\"Enter elements: \").split()\n",
    "    print(\"List: \", list2)\n",
    "    \n",
    "    common_ele = list(filter(lambda x: x in list1, list2))\n",
    "    print(\"The common elements between the two lists are : \",common_ele)"
   ]
  },
  {
   "cell_type": "code",
   "execution_count": 77,
   "id": "405dd671",
   "metadata": {},
   "outputs": [
    {
     "name": "stdout",
     "output_type": "stream",
     "text": [
      "Enter elements: hello 12 78 paris 45\n",
      "List:  ['hello', '12', '78', 'paris', '45']\n",
      "Enter elements: paris 45 32 67 12\n",
      "List:  ['paris', '45', '32', '67', '12']\n",
      "The common elements between the two lists are :  ['paris', '45', '12']\n"
     ]
    }
   ],
   "source": [
    "common_elements()"
   ]
  },
  {
   "cell_type": "markdown",
   "id": "1e09c11d",
   "metadata": {},
   "source": [
    "## Q11.) Write a recursive function to calculate the factorial of a given positive integer. "
   ]
  },
  {
   "cell_type": "code",
   "execution_count": 93,
   "id": "8ec0b3e5",
   "metadata": {},
   "outputs": [
    {
     "name": "stdout",
     "output_type": "stream",
     "text": [
      "Enter any number: 10\n",
      "The factorial of 10 is 3628800\n"
     ]
    }
   ],
   "source": [
    "# Factorial of a number using recursive function\n",
    "\n",
    "def factorial(num):\n",
    "    if num == 1:\n",
    "        return num\n",
    "    else:\n",
    "        return num*factorial(num-1)\n",
    "\n",
    "# taking input from the user\n",
    "num = int(input(\"Enter any number: \"))\n",
    "\n",
    "# If the user inputs a negative integer\n",
    "if num < 0:\n",
    "    print(\"Factorial does not exist for negative numbers\")\n",
    "# If the user inputs 0\n",
    "elif num == 0:\n",
    "    print(\"The factorial of 0 is 1\")\n",
    "else:\n",
    "    print(\"The factorial of\", num, \"is\", factorial(num))"
   ]
  },
  {
   "cell_type": "markdown",
   "id": "4703e5a3",
   "metadata": {},
   "source": [
    "## Q12.) Implement a recursive function to compute the nth Fibonacci number. "
   ]
  },
  {
   "cell_type": "code",
   "execution_count": 92,
   "id": "8bd6ff8f",
   "metadata": {},
   "outputs": [
    {
     "name": "stdout",
     "output_type": "stream",
     "text": [
      "Enter the nth term: 6\n",
      "6th Fibonacci number is:  5\n"
     ]
    }
   ],
   "source": [
    "def fib_num(n):\n",
    "    if n<=0:\n",
    "        print(\"Fibonacci can't be computed\")\n",
    "    # First Fibonacci number\n",
    "    elif n==1:\n",
    "        return 0\n",
    "    # Second Fibonacci number\n",
    "    elif n==2:\n",
    "        return 1\n",
    "    else:\n",
    "        return fib_num(n-1)+fib_num(n-2)\n",
    "\n",
    "#input\n",
    "n=int(input(\"Enter the nth term: \"))\n",
    "print(\"{}th Fibonacci number is: \".format(n),fib_num(n))"
   ]
  },
  {
   "cell_type": "markdown",
   "id": "34cf16d1",
   "metadata": {},
   "source": [
    "## Q13.) Create a recursive function to find the sum of all the elements in a given list. "
   ]
  },
  {
   "cell_type": "code",
   "execution_count": 95,
   "id": "54299aff",
   "metadata": {},
   "outputs": [
    {
     "name": "stdout",
     "output_type": "stream",
     "text": [
      "Enter elements of the list separated by space: 10 20 30 40 50\n",
      "Entered List is:  [10, 20, 30, 40, 50]\n",
      "The sum of the elements of list is:  150\n"
     ]
    }
   ],
   "source": [
    "def findSum(list1): \n",
    "     if len(list1) == 1: \n",
    "        return list1[0] \n",
    "     else: \n",
    "        return list1[0]+findSum(list1[1:]) \n",
    "  \n",
    "\n",
    " # Taking input as a string using input function  \n",
    "input_str = input(\"Enter elements of the list separated by space: \")  \n",
    "  \n",
    "# Converting input string to a list of integers  \n",
    "list1 = list(map(int,input_str.split()))\n",
    "  \n",
    "# Printing the list  \n",
    "print(\"Entered List is: \",list1)  \n",
    "\n",
    "print(\"The sum of the elements of list is: \",findSum(list1))"
   ]
  },
  {
   "cell_type": "markdown",
   "id": "3fa05412",
   "metadata": {},
   "source": [
    "## Q14.) Write a recursive function to determine whether a given string is a palindrome. "
   ]
  },
  {
   "cell_type": "code",
   "execution_count": 98,
   "id": "9dde6d7d",
   "metadata": {},
   "outputs": [
    {
     "name": "stdout",
     "output_type": "stream",
     "text": [
      "Enter the string to check if it is palindrome or not: malayalam\n",
      "True\n"
     ]
    }
   ],
   "source": [
    "def is_palindrome(string):\n",
    "    \n",
    "# Returns: True if the string is a palindrome, False otherwise.\n",
    "\n",
    "  # If the string is empty or has only one character, it is a palindrome.\n",
    "    if len(string) <= 1:\n",
    "        return True\n",
    "\n",
    "  # If the first and last characters of the string are not the same, the string is not a palindrome.\n",
    "    elif string[0] != string[-1]:\n",
    "        return False\n",
    "\n",
    "  # Recursively check the remaining substring without the first and last characters.\n",
    "    else:\n",
    "        return is_palindrome(string[1:-1])\n",
    "\n",
    "string = input(\"Enter the string to check if it is palindrome or not: \")\n",
    "print(is_palindrome(string))"
   ]
  },
  {
   "cell_type": "markdown",
   "id": "da6f01e8",
   "metadata": {},
   "source": [
    "## Q15.) Implement a recursive function to find the greatest common divisor (GCD) of two positive integers. "
   ]
  },
  {
   "cell_type": "code",
   "execution_count": 101,
   "id": "792ed7d1",
   "metadata": {},
   "outputs": [
    {
     "name": "stdout",
     "output_type": "stream",
     "text": [
      "Enter first number: 10\n",
      "Enter second number: 40\n",
      "GCD of 10 and 40 is: 10\n"
     ]
    }
   ],
   "source": [
    "def gcd(a,b):\n",
    "    if(b==0):\n",
    "        return a\n",
    "    else:\n",
    "        return gcd(b,a%b)\n",
    "    \n",
    "    \n",
    "a=int(input(\"Enter first number: \"))\n",
    "b=int(input(\"Enter second number: \"))\n",
    "print(f\"GCD of {a} and {b} is:\", gcd(a,b))"
   ]
  }
 ],
 "metadata": {
  "kernelspec": {
   "display_name": "Python 3 (ipykernel)",
   "language": "python",
   "name": "python3"
  },
  "language_info": {
   "codemirror_mode": {
    "name": "ipython",
    "version": 3
   },
   "file_extension": ".py",
   "mimetype": "text/x-python",
   "name": "python",
   "nbconvert_exporter": "python",
   "pygments_lexer": "ipython3",
   "version": "3.11.4"
  }
 },
 "nbformat": 4,
 "nbformat_minor": 5
}
