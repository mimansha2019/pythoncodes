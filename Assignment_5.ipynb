{
 "cells": [
  {
   "cell_type": "markdown",
   "id": "3e30f113",
   "metadata": {},
   "source": [
    "## Q1.) What does an empty dictionary's code look like? "
   ]
  },
  {
   "cell_type": "code",
   "execution_count": 1,
   "id": "9defa3f6",
   "metadata": {},
   "outputs": [],
   "source": [
    "# We just have to initialize an empty curly brackets\n",
    "dict1={}"
   ]
  },
  {
   "cell_type": "code",
   "execution_count": 2,
   "id": "2b04f67f",
   "metadata": {},
   "outputs": [
    {
     "data": {
      "text/plain": [
       "dict"
      ]
     },
     "execution_count": 2,
     "metadata": {},
     "output_type": "execute_result"
    }
   ],
   "source": [
    "type(dict1)"
   ]
  },
  {
   "cell_type": "markdown",
   "id": "fd025ead",
   "metadata": {},
   "source": [
    "## Q2.) What is the value of a dictionary value with the key 'foo' and the value 42? "
   ]
  },
  {
   "cell_type": "markdown",
   "id": "f9e03d6c",
   "metadata": {},
   "source": [
    "The value will be 42."
   ]
  },
  {
   "cell_type": "code",
   "execution_count": 3,
   "id": "43ff84cc",
   "metadata": {},
   "outputs": [],
   "source": [
    "dict1={\"foo\":42}   #foo is a key and 42 is the value of the dictionary dict1"
   ]
  },
  {
   "cell_type": "code",
   "execution_count": 8,
   "id": "239ddc16",
   "metadata": {},
   "outputs": [
    {
     "data": {
      "text/plain": [
       "dict_values([42])"
      ]
     },
     "execution_count": 8,
     "metadata": {},
     "output_type": "execute_result"
    }
   ],
   "source": [
    "dict1.values()"
   ]
  },
  {
   "cell_type": "markdown",
   "id": "7a96dc04",
   "metadata": {},
   "source": [
    "## Q3.) What is the most significant distinction between a dictionary and a list? "
   ]
  },
  {
   "cell_type": "markdown",
   "id": "b1a5b3fb",
   "metadata": {},
   "source": [
    "A list is an ordered, mutable collection of data enclosed in square brackets [], which allows duplicates and supports various operations like appending, slicing etc.\n",
    "\n",
    "Dictionary is an ordered (python 3.7 new update), mutable collection of data which keeps the records of data in the form key:value pairs inside curly brackets {}. It has unique key pairs and does not allow duplicate keys in the same dictionary."
   ]
  },
  {
   "cell_type": "markdown",
   "id": "883bf751",
   "metadata": {},
   "source": [
    "## Q4.) What happens if you try to access spam['foo'] if spam is {'bar':100)? "
   ]
  },
  {
   "cell_type": "markdown",
   "id": "811c232c",
   "metadata": {},
   "source": [
    "It will give a keyerror, because we have not given 'foo' as a key inside the spam dictionary."
   ]
  },
  {
   "cell_type": "code",
   "execution_count": 9,
   "id": "1892ca8a",
   "metadata": {},
   "outputs": [],
   "source": [
    "spam={'bar':100}"
   ]
  },
  {
   "cell_type": "code",
   "execution_count": 10,
   "id": "eca8dcdb",
   "metadata": {},
   "outputs": [
    {
     "ename": "KeyError",
     "evalue": "'foo'",
     "output_type": "error",
     "traceback": [
      "\u001b[1;31m---------------------------------------------------------------------------\u001b[0m",
      "\u001b[1;31mKeyError\u001b[0m                                  Traceback (most recent call last)",
      "Cell \u001b[1;32mIn[10], line 1\u001b[0m\n\u001b[1;32m----> 1\u001b[0m spam[\u001b[38;5;124m'\u001b[39m\u001b[38;5;124mfoo\u001b[39m\u001b[38;5;124m'\u001b[39m]\n",
      "\u001b[1;31mKeyError\u001b[0m: 'foo'"
     ]
    }
   ],
   "source": [
    "spam['foo']"
   ]
  },
  {
   "cell_type": "markdown",
   "id": "b4e5e80b",
   "metadata": {},
   "source": [
    "## Q5.) If a dictionary is stored in spam, what is the difference between the expressions 'cat' in spam and 'cat' in spam.keys()? "
   ]
  },
  {
   "cell_type": "markdown",
   "id": "12d1f7a9",
   "metadata": {},
   "source": [
    "There is no difference between the expressions 'cat' in spam and 'cat' in spam.keys() because both of them checks whether 'cat' key is present in spam dictionary or not."
   ]
  },
  {
   "cell_type": "code",
   "execution_count": 32,
   "id": "9a216af4",
   "metadata": {},
   "outputs": [
    {
     "name": "stdout",
     "output_type": "stream",
     "text": [
      "True\n",
      "True\n"
     ]
    }
   ],
   "source": [
    "spam={'cat':'Tom'}\n",
    "print('cat' in spam)\n",
    "print('cat' in spam.keys())"
   ]
  },
  {
   "cell_type": "markdown",
   "id": "b631a134",
   "metadata": {},
   "source": [
    "## Q6.) If a dictionary is stored in spam, what is the difference between the expressions 'cat' in spam and 'cat' in spam.values()?"
   ]
  },
  {
   "cell_type": "markdown",
   "id": "7df724e4",
   "metadata": {},
   "source": [
    "'cat' in spam checks whether there is a 'cat' key in the spam dictionary, while 'cat' in spam.values() checks whether there is a value 'cat' for one of the keys in spam dictionary."
   ]
  },
  {
   "cell_type": "code",
   "execution_count": 33,
   "id": "5dbce378",
   "metadata": {},
   "outputs": [
    {
     "name": "stdout",
     "output_type": "stream",
     "text": [
      "True\n",
      "False\n"
     ]
    }
   ],
   "source": [
    "spam={'cat':'Tom'}\n",
    "print('cat' in spam)\n",
    "print('cat' in spam.values())"
   ]
  },
  {
   "cell_type": "markdown",
   "id": "86deaf64",
   "metadata": {},
   "source": [
    "## Q7.) Write a shortcut for the following code? \n",
    "\n",
    "## if 'color' not in spam:\n",
    "## spam['color']='black'"
   ]
  },
  {
   "cell_type": "code",
   "execution_count": 18,
   "id": "daf97b89",
   "metadata": {},
   "outputs": [
    {
     "data": {
      "text/plain": [
       "{'car': 'Mercedes G-Wagon', 'color': 'black'}"
      ]
     },
     "execution_count": 18,
     "metadata": {},
     "output_type": "execute_result"
    }
   ],
   "source": [
    "spam={\"car\":\"Mercedes G-Wagon\"}\n",
    "spam.setdefault('color','black')\n",
    "spam"
   ]
  },
  {
   "cell_type": "markdown",
   "id": "7ba90a4e",
   "metadata": {},
   "source": [
    "## Q8.) How do you \"pretty print\" dictionary values using which module and function? "
   ]
  },
  {
   "cell_type": "markdown",
   "id": "30ff9e05",
   "metadata": {},
   "source": [
    "We can \"pretty print\" dictionary values with the help of pprint module and pprint function. It helps to make the dictionary items displayed in an attractive and presentable way"
   ]
  },
  {
   "cell_type": "code",
   "execution_count": 25,
   "id": "650080a8",
   "metadata": {},
   "outputs": [],
   "source": [
    "import pprint"
   ]
  },
  {
   "cell_type": "code",
   "execution_count": 34,
   "id": "c8f17f6b",
   "metadata": {},
   "outputs": [],
   "source": [
    "data=[{\"car1\":\"Mercedes\"},{\"car2\":\"Land Rover\"},{\"car3\":\"Mclaren\"},{\"car4\":\"Ferrari\"},{\"car5\":\"Volvo\"},{\"car6\":\"Lambhorghini\"},{\"car7\":\"Audi\"},{\"car8\":\"BMW\"}]"
   ]
  },
  {
   "cell_type": "code",
   "execution_count": 35,
   "id": "f6b07450",
   "metadata": {},
   "outputs": [
    {
     "name": "stdout",
     "output_type": "stream",
     "text": [
      "[{'car1': 'Mercedes'},\n",
      " {'car2': 'Land Rover'},\n",
      " {'car3': 'Mclaren'},\n",
      " {'car4': 'Ferrari'},\n",
      " {'car5': 'Volvo'},\n",
      " {'car6': 'Lambhorghini'},\n",
      " {'car7': 'Audi'},\n",
      " {'car8': 'BMW'}]\n"
     ]
    }
   ],
   "source": [
    "pprint.pprint(data)"
   ]
  },
  {
   "cell_type": "code",
   "execution_count": 36,
   "id": "9c78e7b5",
   "metadata": {},
   "outputs": [
    {
     "name": "stdout",
     "output_type": "stream",
     "text": [
      "[{'car1': 'Mercedes'}, {'car2': 'Land Rover'}, {'car3': 'Mclaren'}, {'car4': 'Ferrari'}, {'car5': 'Volvo'}, {'car6': 'Lambhorghini'}, {'car7': 'Audi'}, {'car8': 'BMW'}]\n"
     ]
    }
   ],
   "source": [
    "print(data)"
   ]
  },
  {
   "cell_type": "code",
   "execution_count": null,
   "id": "cb615d75",
   "metadata": {},
   "outputs": [],
   "source": []
  }
 ],
 "metadata": {
  "kernelspec": {
   "display_name": "Python 3 (ipykernel)",
   "language": "python",
   "name": "python3"
  },
  "language_info": {
   "codemirror_mode": {
    "name": "ipython",
    "version": 3
   },
   "file_extension": ".py",
   "mimetype": "text/x-python",
   "name": "python",
   "nbconvert_exporter": "python",
   "pygments_lexer": "ipython3",
   "version": "3.11.4"
  }
 },
 "nbformat": 4,
 "nbformat_minor": 5
}
