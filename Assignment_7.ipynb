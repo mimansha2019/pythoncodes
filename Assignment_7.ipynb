{
 "cells": [
  {
   "cell_type": "markdown",
   "id": "695e5cb1",
   "metadata": {},
   "source": [
    "## Q1.) Create two int type variables, apply addition, subtraction, division and multiplication and store the results in variables. Then print the data in the following format by calling the variables:\n",
    "\n",
    "### First variable is __ & second variable is __.\n",
    "### Addition: __ + __ = __\n",
    "### Subtraction: __ - __ = __\n",
    "### Multiplication: __ * __ = __\n",
    "### Division: __ / __ = __"
   ]
  },
  {
   "cell_type": "code",
   "execution_count": 1,
   "id": "37feed95",
   "metadata": {},
   "outputs": [
    {
     "name": "stdout",
     "output_type": "stream",
     "text": [
      "First variable is 10 & second variable is 5.\n",
      "Addition: 10 + 5 = 15\n",
      "Subtraction: 10 - 5 = 5\n",
      "Addition: 10 * 5 = 50\n",
      "Addition: 10 / 5 = 2.0\n"
     ]
    }
   ],
   "source": [
    "int1 = 10\n",
    "int2 = 5\n",
    "\n",
    "add = int1+int2\n",
    "difference = int1-int2\n",
    "product = int1*int2\n",
    "quotient = int1/int2\n",
    "\n",
    "value = (f\"First variable is {int1} & second variable is {int2}.\")\n",
    "sum_value = (f\"Addition: {int1} + {int2} = {add}\")\n",
    "subtract_value = (f\"Subtraction: {int1} - {int2} = {difference}\")\n",
    "product_value = (f\"Addition: {int1} * {int2} = {product}\")\n",
    "quotient_value = (f\"Addition: {int1} / {int2} = {quotient}\")\n",
    "\n",
    "print(value)\n",
    "print(sum_value)\n",
    "print(subtract_value)\n",
    "print(product_value)\n",
    "print(quotient_value)"
   ]
  },
  {
   "cell_type": "markdown",
   "id": "d1a8beef",
   "metadata": {},
   "source": [
    "## Q2.) What is the difference between the following operators:\n",
    "### (i) ‘/’ & ‘//’\n",
    "### (ii) ‘**’ & ‘^’ "
   ]
  },
  {
   "cell_type": "markdown",
   "id": "bf500544",
   "metadata": {},
   "source": [
    "i) The difference between '/' and '//' is that '/' is the division operator and gives the quotient value as the output, and '//' is the floor division operator which calculates the quotient of a division and rounds it down to the nearest integer.\n",
    "\n",
    "ii) The difference between ' ** ' and '^' is that, ' ** ' is used for \"exponentiation\" to what value an user gives and '^' is used for bitwise XOR operation. For example, (10**2) will give the output 100, and (10^2) will give the output 8.\n",
    "\n",
    "In the **bitwise XOR operation**, 10 in binary digits is written as 1010 and 2 is written as 0010. Now, when we do the operation the output will be 1 if either of the value is 1 otherwise the output will be zero.\n",
    "\n",
    "1010\n",
    "\n",
    "0010\n",
    "\n",
    "-------\n",
    "1000"
   ]
  },
  {
   "cell_type": "code",
   "execution_count": 5,
   "id": "545f6e2e",
   "metadata": {},
   "outputs": [
    {
     "name": "stdout",
     "output_type": "stream",
     "text": [
      "3.3333333333333335\n",
      "**************\n",
      "3\n"
     ]
    }
   ],
   "source": [
    "operation1=10/3\n",
    "operation2=10//3\n",
    "print(operation1)\n",
    "print(\"**************\")\n",
    "print(operation2)"
   ]
  },
  {
   "cell_type": "code",
   "execution_count": 4,
   "id": "59b329d1",
   "metadata": {},
   "outputs": [
    {
     "name": "stdout",
     "output_type": "stream",
     "text": [
      "100\n",
      "**************\n",
      "8\n"
     ]
    }
   ],
   "source": [
    "operation3=10**2\n",
    "operation4=10^2\n",
    "print(operation3)\n",
    "print(\"**************\")\n",
    "print(operation4)"
   ]
  },
  {
   "cell_type": "markdown",
   "id": "d780abee",
   "metadata": {},
   "source": [
    "## Q3.)  List the logical operators."
   ]
  },
  {
   "cell_type": "markdown",
   "id": "f77260b4",
   "metadata": {},
   "source": [
    "The three **Logical Operators** in Python are :-\n",
    "\n",
    "1.) **AND** -> Returns True if both conditions are true otherwise False.\n",
    "\n",
    "2.) **OR** --> Returns True if either condition is true otherwise False.\n",
    "\n",
    "3.) **NOT** -> Inverts the result, i.e., True changes to False and Vice versa."
   ]
  },
  {
   "cell_type": "code",
   "execution_count": 6,
   "id": "c139bf33",
   "metadata": {},
   "outputs": [
    {
     "name": "stdout",
     "output_type": "stream",
     "text": [
      "True\n"
     ]
    }
   ],
   "source": [
    "print(True and True)"
   ]
  },
  {
   "cell_type": "code",
   "execution_count": 7,
   "id": "c37c551d",
   "metadata": {},
   "outputs": [
    {
     "name": "stdout",
     "output_type": "stream",
     "text": [
      "True\n"
     ]
    }
   ],
   "source": [
    "print(True or False)"
   ]
  },
  {
   "cell_type": "code",
   "execution_count": 8,
   "id": "f062204c",
   "metadata": {},
   "outputs": [
    {
     "name": "stdout",
     "output_type": "stream",
     "text": [
      "False\n"
     ]
    }
   ],
   "source": [
    "print(not True)"
   ]
  },
  {
   "cell_type": "markdown",
   "id": "6a44f4fc",
   "metadata": {},
   "source": [
    "## Q4.) Explain right shift operator and left shift operator with examples. "
   ]
  },
  {
   "cell_type": "markdown",
   "id": "68215299",
   "metadata": {},
   "source": [
    "The Bitwise Shift Operators in Python is used to shift the bits of an integer right or left. Mathematically, when we need to multiply or divide the number by 2 we make use of Bitwise Shift Operators to shift the bits of an integer in its binary form, left or right respectively.\n",
    "\n",
    "1.) **Bitwise Right Shift Operator -->**  The Bitwise Shift Operator ‘RIGHT’ in Python can be used when we want to shift the integer to the right. The voids created after the number shifts to right can be filled up substituting 0 in the case of a positive number and 1 in the case of a negative number.\n",
    "\n",
    "This filling of voids can also be considered as having the similar effect of **multiplying the number with some power of 2.**\n",
    "\n",
    "Mathematically, It is represented by **>> sign.**\n",
    "\n",
    "2.) **Bitwise Left Shift Operator -->** The Bitwise Shift Operator ‘LEFT’ in Python can be used when we want to shift the integer to the left. The voids created after the number shifts to left can be filled up substituting 0. As when we shift the bits to the left side, the voids always come on the right and so we will always fill it with 0.\n",
    "\n",
    "This filling of voids can also be considered as having the similar effect of **dividing the number with some power of 2.**\n",
    "\n",
    "Mathematically, It is represented by **<< sign.**"
   ]
  },
  {
   "cell_type": "code",
   "execution_count": 9,
   "id": "7b6d6655",
   "metadata": {},
   "outputs": [
    {
     "data": {
      "text/plain": [
       "40"
      ]
     },
     "execution_count": 9,
     "metadata": {},
     "output_type": "execute_result"
    }
   ],
   "source": [
    "10<<2   # bitwise left shift"
   ]
  },
  {
   "cell_type": "markdown",
   "id": "b16c5fbe",
   "metadata": {},
   "source": [
    "In the above example, 10 in binary format is written as 1010 and it is getting shifted to the left by 2 places.\n",
    "\n",
    "001010    (This is 10 in binary format)\n",
    "\n",
    "101000    (Shift of two bits happen in the left and it is the binary form of 40)\n",
    "\n",
    "That's why we get 40 as our result."
   ]
  },
  {
   "cell_type": "code",
   "execution_count": 10,
   "id": "5177aef4",
   "metadata": {},
   "outputs": [
    {
     "data": {
      "text/plain": [
       "2"
      ]
     },
     "execution_count": 10,
     "metadata": {},
     "output_type": "execute_result"
    }
   ],
   "source": [
    "10>>2   # bitwise right shift"
   ]
  },
  {
   "cell_type": "markdown",
   "id": "8b9d543f",
   "metadata": {},
   "source": [
    "In the above example, 10 in binary format is written as 1010 and it is getting shifted to the right by 2 places.\n",
    "\n",
    "1010    (This is 10 in binary format)\n",
    "\n",
    "0010    (Shift of two bits happen in the right and it is the binary form of 2)\n",
    "\n",
    "That's why we get 2 as our result."
   ]
  },
  {
   "cell_type": "markdown",
   "id": "a924f60a",
   "metadata": {},
   "source": [
    "## Q5.) Create a list containing int type data of length 15. Then write a code to check if 10 is present in the list or not."
   ]
  },
  {
   "cell_type": "code",
   "execution_count": 12,
   "id": "0c9fa3a9",
   "metadata": {},
   "outputs": [
    {
     "name": "stdout",
     "output_type": "stream",
     "text": [
      "Length of my_list is :  15\n",
      "Yes, 10 is present in the list.\n"
     ]
    }
   ],
   "source": [
    "my_list=[1,2,3,4,5,6,7,8,9,10,11,12,13,14,15]\n",
    "print(\"Length of my_list is : \",len(my_list))\n",
    "\n",
    "# code to check if 10 is present in the list or not\n",
    "\n",
    "if 10 in my_list:      #using the in operator \n",
    "    print(\"Yes, 10 is present in the list.\")\n",
    "else:\n",
    "    print(\"Not Present\")"
   ]
  }
 ],
 "metadata": {
  "kernelspec": {
   "display_name": "Python 3 (ipykernel)",
   "language": "python",
   "name": "python3"
  },
  "language_info": {
   "codemirror_mode": {
    "name": "ipython",
    "version": 3
   },
   "file_extension": ".py",
   "mimetype": "text/x-python",
   "name": "python",
   "nbconvert_exporter": "python",
   "pygments_lexer": "ipython3",
   "version": "3.11.4"
  }
 },
 "nbformat": 4,
 "nbformat_minor": 5
}
